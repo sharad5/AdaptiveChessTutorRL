{
 "cells": [
  {
   "attachments": {},
   "cell_type": "markdown",
   "id": "2ccd19fe",
   "metadata": {},
   "source": [
    "### Reinforcement Learning Project\n",
    "### DS-GA 3001 | Reinforcement Learning\n",
    "\n",
    "\n",
    "# Adaptive Chess Tutor\n",
    "\n",
    "<br>\n",
    "\n",
    "---"
   ]
  },
  {
   "cell_type": "code",
   "execution_count": 10,
   "id": "0583affa",
   "metadata": {},
   "outputs": [],
   "source": [
    "\n",
    "# !pygmentize gym-examples/gym_examples/envs/grid_world.py\n"
   ]
  },
  {
   "attachments": {},
   "cell_type": "markdown",
   "id": "ad6a4fec",
   "metadata": {},
   "source": [
    "In other environments, `close()` might also close files that were opened or release other resources. You shouldn’t interact with the environment after having called close."
   ]
  },
  {
   "attachments": {},
   "cell_type": "markdown",
   "id": "0f6371d7",
   "metadata": {},
   "source": [
    "## Register the environment in Gym\n",
    "\n",
    "In order for the custom environment to be detected by Gym"
   ]
  },
  {
   "cell_type": "code",
   "execution_count": 11,
   "id": "5df1bb38",
   "metadata": {},
   "outputs": [
    {
     "name": "stdout",
     "output_type": "stream",
     "text": [
      "\u001b[34mfrom\u001b[39;49;00m \u001b[04m\u001b[36mgym\u001b[39;49;00m\u001b[04m\u001b[36m.\u001b[39;49;00m\u001b[04m\u001b[36menvs\u001b[39;49;00m\u001b[04m\u001b[36m.\u001b[39;49;00m\u001b[04m\u001b[36mregistration\u001b[39;49;00m \u001b[34mimport\u001b[39;49;00m register\u001b[37m\u001b[39;49;00m\n",
      "\u001b[37m\u001b[39;49;00m\n",
      "register(\u001b[37m\u001b[39;49;00m\n",
      "    \u001b[36mid\u001b[39;49;00m=\u001b[33m\"\u001b[39;49;00m\u001b[33madaptive_tutor/PuzzleTutorEnv-v0\u001b[39;49;00m\u001b[33m\"\u001b[39;49;00m,\u001b[37m\u001b[39;49;00m\n",
      "    entry_point=\u001b[33m\"\u001b[39;49;00m\u001b[33madaptive_tutor.envs:PuzzleTutorEnv\u001b[39;49;00m\u001b[33m\"\u001b[39;49;00m,\u001b[37m\u001b[39;49;00m\n",
      ")\u001b[37m\u001b[39;49;00m\n"
     ]
    }
   ],
   "source": [
    "\n",
    "!pygmentize adaptive-tutor/adaptive_tutor/__init__.py\n"
   ]
  },
  {
   "attachments": {},
   "cell_type": "markdown",
   "id": "1d17540d",
   "metadata": {},
   "source": [
    "## Create a Python package\n",
    "\n",
    "The last step is to structure our code as a Python package. "
   ]
  },
  {
   "cell_type": "code",
   "execution_count": 12,
   "id": "43c6bbc9",
   "metadata": {},
   "outputs": [
    {
     "name": "stdout",
     "output_type": "stream",
     "text": [
      "\u001b[34mfrom\u001b[39;49;00m \u001b[04m\u001b[36msetuptools\u001b[39;49;00m \u001b[34mimport\u001b[39;49;00m setup\u001b[37m\u001b[39;49;00m\n",
      "\u001b[37m\u001b[39;49;00m\n",
      "setup(\u001b[37m\u001b[39;49;00m\n",
      "    name=\u001b[33m\"\u001b[39;49;00m\u001b[33madaptive_tutor\u001b[39;49;00m\u001b[33m\"\u001b[39;49;00m,\u001b[37m\u001b[39;49;00m\n",
      "    version=\u001b[33m\"\u001b[39;49;00m\u001b[33m0.0.1\u001b[39;49;00m\u001b[33m\"\u001b[39;49;00m,\u001b[37m\u001b[39;49;00m\n",
      "    install_requires=[\u001b[33m\"\u001b[39;49;00m\u001b[33mgym==0.26.0\u001b[39;49;00m\u001b[33m\"\u001b[39;49;00m, \u001b[33m\"\u001b[39;49;00m\u001b[33mnumpy\u001b[39;49;00m\u001b[33m\"\u001b[39;49;00m],\u001b[37m\u001b[39;49;00m\n",
      ")\u001b[37m\u001b[39;49;00m\n"
     ]
    }
   ],
   "source": [
    "\n",
    "!pygmentize adaptive-tutor/setup.py\n"
   ]
  },
  {
   "attachments": {},
   "cell_type": "markdown",
   "id": "0c23a77c",
   "metadata": {},
   "source": [
    "## Install the custom package\n",
    "\n",
    "Install the package locally (``pip install -e adaptive-tutor`` needs be typed where the package is located, outside the package tree of files)"
   ]
  },
  {
   "cell_type": "code",
   "execution_count": 13,
   "id": "fad951af",
   "metadata": {},
   "outputs": [
    {
     "name": "stdout",
     "output_type": "stream",
     "text": [
      "Obtaining file:///Users/shikharrastogi/AdaptiveChessTutorRL/adaptive-tutor\n",
      "  Preparing metadata (setup.py) ... \u001b[?25ldone\n",
      "\u001b[?25hRequirement already satisfied: gym==0.26.0 in /Users/shikharrastogi/opt/anaconda3/envs/rl/lib/python3.9/site-packages (from adaptive-tutor==0.0.1) (0.26.0)\n",
      "Requirement already satisfied: numpy in /Users/shikharrastogi/opt/anaconda3/envs/rl/lib/python3.9/site-packages (from adaptive-tutor==0.0.1) (1.26.3)\n",
      "Requirement already satisfied: cloudpickle>=1.2.0 in /Users/shikharrastogi/opt/anaconda3/envs/rl/lib/python3.9/site-packages (from gym==0.26.0->adaptive-tutor==0.0.1) (3.0.0)\n",
      "Requirement already satisfied: gym-notices>=0.0.4 in /Users/shikharrastogi/opt/anaconda3/envs/rl/lib/python3.9/site-packages (from gym==0.26.0->adaptive-tutor==0.0.1) (0.0.8)\n",
      "Requirement already satisfied: importlib-metadata>=4.8.0 in /Users/shikharrastogi/opt/anaconda3/envs/rl/lib/python3.9/site-packages (from gym==0.26.0->adaptive-tutor==0.0.1) (7.0.1)\n",
      "Requirement already satisfied: zipp>=0.5 in /Users/shikharrastogi/opt/anaconda3/envs/rl/lib/python3.9/site-packages (from importlib-metadata>=4.8.0->gym==0.26.0->adaptive-tutor==0.0.1) (3.17.0)\n",
      "Installing collected packages: adaptive-tutor\n",
      "  Attempting uninstall: adaptive-tutor\n",
      "    Found existing installation: adaptive-tutor 0.0.1\n",
      "    Uninstalling adaptive-tutor-0.0.1:\n",
      "      Successfully uninstalled adaptive-tutor-0.0.1\n",
      "  Running setup.py develop for adaptive-tutor\n",
      "Successfully installed adaptive-tutor-0.0.1\n"
     ]
    }
   ],
   "source": [
    "!pip install -e adaptive-tutor"
   ]
  },
  {
   "attachments": {},
   "cell_type": "markdown",
   "id": "bc1d686b",
   "metadata": {},
   "source": [
    "## Create an instance of the custom environment"
   ]
  },
  {
   "cell_type": "code",
   "execution_count": 1,
   "id": "6ad77c35",
   "metadata": {},
   "outputs": [
    {
     "ename": "FileNotFoundError",
     "evalue": "[Errno 2] No such file or directory: 'adaptive_tutor/lichess_db_puzzle.csv'",
     "output_type": "error",
     "traceback": [
      "\u001b[0;31m---------------------------------------------------------------------------\u001b[0m",
      "\u001b[0;31mFileNotFoundError\u001b[0m                         Traceback (most recent call last)",
      "Cell \u001b[0;32mIn[1], line 5\u001b[0m\n\u001b[1;32m      2\u001b[0m \u001b[39mimport\u001b[39;00m \u001b[39madaptive_tutor\u001b[39;00m\n\u001b[1;32m      4\u001b[0m \u001b[39m# Load custom environment we created \u001b[39;00m\n\u001b[0;32m----> 5\u001b[0m env \u001b[39m=\u001b[39m gym\u001b[39m.\u001b[39;49mmake(\u001b[39m'\u001b[39;49m\u001b[39madaptive_tutor/PuzzleTutorEnv-v0\u001b[39;49m\u001b[39m'\u001b[39;49m, render_mode\u001b[39m=\u001b[39;49m\u001b[39mNone\u001b[39;49;00m) \n\u001b[1;32m      7\u001b[0m \u001b[39m# Set to initial state\u001b[39;00m\n\u001b[1;32m      8\u001b[0m env\u001b[39m.\u001b[39mreset()  \n",
      "File \u001b[0;32m~/opt/anaconda3/envs/rl/lib/python3.9/site-packages/gym/envs/registration.py:640\u001b[0m, in \u001b[0;36mmake\u001b[0;34m(id, max_episode_steps, autoreset, apply_api_compatibility, disable_env_checker, **kwargs)\u001b[0m\n\u001b[1;32m    637\u001b[0m     render_mode \u001b[39m=\u001b[39m \u001b[39mNone\u001b[39;00m\n\u001b[1;32m    639\u001b[0m \u001b[39mtry\u001b[39;00m:\n\u001b[0;32m--> 640\u001b[0m     env \u001b[39m=\u001b[39m env_creator(\u001b[39m*\u001b[39;49m\u001b[39m*\u001b[39;49m_kwargs)\n\u001b[1;32m    641\u001b[0m \u001b[39mexcept\u001b[39;00m \u001b[39mTypeError\u001b[39;00m \u001b[39mas\u001b[39;00m e:\n\u001b[1;32m    642\u001b[0m     \u001b[39mif\u001b[39;00m (\n\u001b[1;32m    643\u001b[0m         \u001b[39mstr\u001b[39m(e)\u001b[39m.\u001b[39mfind(\u001b[39m\"\u001b[39m\u001b[39mgot an unexpected keyword argument \u001b[39m\u001b[39m'\u001b[39m\u001b[39mrender_mode\u001b[39m\u001b[39m'\u001b[39m\u001b[39m\"\u001b[39m) \u001b[39m>\u001b[39m\u001b[39m=\u001b[39m \u001b[39m0\u001b[39m\n\u001b[1;32m    644\u001b[0m         \u001b[39mand\u001b[39;00m apply_human_rendering\n\u001b[1;32m    645\u001b[0m     ):\n",
      "File \u001b[0;32m~/AdaptiveChessTutorRL/adaptive-tutor/adaptive_tutor/envs/puzzle_tutor_env.py:29\u001b[0m, in \u001b[0;36mPuzzleTutorEnv.__init__\u001b[0;34m(self, render_mode, beginner_elo_rating, moving_average_reward_window)\u001b[0m\n\u001b[1;32m     27\u001b[0m \u001b[39mself\u001b[39m\u001b[39m.\u001b[39mcurrent_student_level \u001b[39m=\u001b[39m beginner_elo_rating\n\u001b[1;32m     28\u001b[0m \u001b[39mself\u001b[39m\u001b[39m.\u001b[39mstudent \u001b[39m=\u001b[39m Student(elo_rating\u001b[39m=\u001b[39mbeginner_elo_rating)\n\u001b[0;32m---> 29\u001b[0m \u001b[39mself\u001b[39m\u001b[39m.\u001b[39mpuzzle_bank \u001b[39m=\u001b[39m PuzzleBank()\n\u001b[1;32m     31\u001b[0m \u001b[39mself\u001b[39m\u001b[39m.\u001b[39mobservation_space \u001b[39m=\u001b[39m Dict({\n\u001b[1;32m     32\u001b[0m     \u001b[39m\"\u001b[39m\u001b[39mpuzzle_success_history\u001b[39m\u001b[39m\"\u001b[39m: Sequence(Tuple((Text(\u001b[39m20\u001b[39m), Discrete(\u001b[39m2\u001b[39m), Text(\u001b[39m15\u001b[39m)))),\n\u001b[1;32m     33\u001b[0m     \u001b[39m\"\u001b[39m\u001b[39mthemes_covered\u001b[39m\u001b[39m\"\u001b[39m: Box(low\u001b[39m=\u001b[39m\u001b[39m0\u001b[39m, high\u001b[39m=\u001b[39m\u001b[39m1\u001b[39m, shape\u001b[39m=\u001b[39m(\u001b[39m12\u001b[39m,), dtype\u001b[39m=\u001b[39mnp\u001b[39m.\u001b[39mint32),\n\u001b[1;32m     34\u001b[0m     \u001b[39m\"\u001b[39m\u001b[39melo_covered\u001b[39m\u001b[39m\"\u001b[39m: Box(low\u001b[39m=\u001b[39m\u001b[39m0\u001b[39m, high\u001b[39m=\u001b[39m\u001b[39m1\u001b[39m, shape\u001b[39m=\u001b[39m(\u001b[39m10\u001b[39m,), dtype\u001b[39m=\u001b[39mnp\u001b[39m.\u001b[39mint32),\n\u001b[1;32m     35\u001b[0m })\n\u001b[1;32m     37\u001b[0m \u001b[39m# Initial observation state\u001b[39;00m\n",
      "File \u001b[0;32m~/AdaptiveChessTutorRL/adaptive-tutor/adaptive_tutor/envs/components/puzzle_bank.py:7\u001b[0m, in \u001b[0;36mPuzzleBank.__init__\u001b[0;34m(self)\u001b[0m\n\u001b[1;32m      5\u001b[0m \u001b[39mdef\u001b[39;00m \u001b[39m__init__\u001b[39m(\u001b[39mself\u001b[39m):\n\u001b[1;32m      6\u001b[0m     \u001b[39m# Initialize a list of puzzles\u001b[39;00m\n\u001b[0;32m----> 7\u001b[0m     \u001b[39mself\u001b[39m\u001b[39m.\u001b[39mlichess_data \u001b[39m=\u001b[39m pd\u001b[39m.\u001b[39;49mread_csv(\u001b[39m'\u001b[39;49m\u001b[39madaptive_tutor/lichess_db_puzzle.csv\u001b[39;49m\u001b[39m'\u001b[39;49m)\n\u001b[1;32m      8\u001b[0m     \u001b[39mself\u001b[39m\u001b[39m.\u001b[39mbank \u001b[39m=\u001b[39m pd\u001b[39m.\u001b[39mread_pickle(\u001b[39m'\u001b[39m\u001b[39madaptive_tutor/puzzle_bank.pkl\u001b[39m\u001b[39m'\u001b[39m)\n",
      "File \u001b[0;32m~/opt/anaconda3/envs/rl/lib/python3.9/site-packages/pandas/io/parsers/readers.py:1024\u001b[0m, in \u001b[0;36mread_csv\u001b[0;34m(filepath_or_buffer, sep, delimiter, header, names, index_col, usecols, dtype, engine, converters, true_values, false_values, skipinitialspace, skiprows, skipfooter, nrows, na_values, keep_default_na, na_filter, verbose, skip_blank_lines, parse_dates, infer_datetime_format, keep_date_col, date_parser, date_format, dayfirst, cache_dates, iterator, chunksize, compression, thousands, decimal, lineterminator, quotechar, quoting, doublequote, escapechar, comment, encoding, encoding_errors, dialect, on_bad_lines, delim_whitespace, low_memory, memory_map, float_precision, storage_options, dtype_backend)\u001b[0m\n\u001b[1;32m   1011\u001b[0m kwds_defaults \u001b[39m=\u001b[39m _refine_defaults_read(\n\u001b[1;32m   1012\u001b[0m     dialect,\n\u001b[1;32m   1013\u001b[0m     delimiter,\n\u001b[0;32m   (...)\u001b[0m\n\u001b[1;32m   1020\u001b[0m     dtype_backend\u001b[39m=\u001b[39mdtype_backend,\n\u001b[1;32m   1021\u001b[0m )\n\u001b[1;32m   1022\u001b[0m kwds\u001b[39m.\u001b[39mupdate(kwds_defaults)\n\u001b[0;32m-> 1024\u001b[0m \u001b[39mreturn\u001b[39;00m _read(filepath_or_buffer, kwds)\n",
      "File \u001b[0;32m~/opt/anaconda3/envs/rl/lib/python3.9/site-packages/pandas/io/parsers/readers.py:618\u001b[0m, in \u001b[0;36m_read\u001b[0;34m(filepath_or_buffer, kwds)\u001b[0m\n\u001b[1;32m    615\u001b[0m _validate_names(kwds\u001b[39m.\u001b[39mget(\u001b[39m\"\u001b[39m\u001b[39mnames\u001b[39m\u001b[39m\"\u001b[39m, \u001b[39mNone\u001b[39;00m))\n\u001b[1;32m    617\u001b[0m \u001b[39m# Create the parser.\u001b[39;00m\n\u001b[0;32m--> 618\u001b[0m parser \u001b[39m=\u001b[39m TextFileReader(filepath_or_buffer, \u001b[39m*\u001b[39;49m\u001b[39m*\u001b[39;49mkwds)\n\u001b[1;32m    620\u001b[0m \u001b[39mif\u001b[39;00m chunksize \u001b[39mor\u001b[39;00m iterator:\n\u001b[1;32m    621\u001b[0m     \u001b[39mreturn\u001b[39;00m parser\n",
      "File \u001b[0;32m~/opt/anaconda3/envs/rl/lib/python3.9/site-packages/pandas/io/parsers/readers.py:1618\u001b[0m, in \u001b[0;36mTextFileReader.__init__\u001b[0;34m(self, f, engine, **kwds)\u001b[0m\n\u001b[1;32m   1615\u001b[0m     \u001b[39mself\u001b[39m\u001b[39m.\u001b[39moptions[\u001b[39m\"\u001b[39m\u001b[39mhas_index_names\u001b[39m\u001b[39m\"\u001b[39m] \u001b[39m=\u001b[39m kwds[\u001b[39m\"\u001b[39m\u001b[39mhas_index_names\u001b[39m\u001b[39m\"\u001b[39m]\n\u001b[1;32m   1617\u001b[0m \u001b[39mself\u001b[39m\u001b[39m.\u001b[39mhandles: IOHandles \u001b[39m|\u001b[39m \u001b[39mNone\u001b[39;00m \u001b[39m=\u001b[39m \u001b[39mNone\u001b[39;00m\n\u001b[0;32m-> 1618\u001b[0m \u001b[39mself\u001b[39m\u001b[39m.\u001b[39m_engine \u001b[39m=\u001b[39m \u001b[39mself\u001b[39;49m\u001b[39m.\u001b[39;49m_make_engine(f, \u001b[39mself\u001b[39;49m\u001b[39m.\u001b[39;49mengine)\n",
      "File \u001b[0;32m~/opt/anaconda3/envs/rl/lib/python3.9/site-packages/pandas/io/parsers/readers.py:1878\u001b[0m, in \u001b[0;36mTextFileReader._make_engine\u001b[0;34m(self, f, engine)\u001b[0m\n\u001b[1;32m   1876\u001b[0m     \u001b[39mif\u001b[39;00m \u001b[39m\"\u001b[39m\u001b[39mb\u001b[39m\u001b[39m\"\u001b[39m \u001b[39mnot\u001b[39;00m \u001b[39min\u001b[39;00m mode:\n\u001b[1;32m   1877\u001b[0m         mode \u001b[39m+\u001b[39m\u001b[39m=\u001b[39m \u001b[39m\"\u001b[39m\u001b[39mb\u001b[39m\u001b[39m\"\u001b[39m\n\u001b[0;32m-> 1878\u001b[0m \u001b[39mself\u001b[39m\u001b[39m.\u001b[39mhandles \u001b[39m=\u001b[39m get_handle(\n\u001b[1;32m   1879\u001b[0m     f,\n\u001b[1;32m   1880\u001b[0m     mode,\n\u001b[1;32m   1881\u001b[0m     encoding\u001b[39m=\u001b[39;49m\u001b[39mself\u001b[39;49m\u001b[39m.\u001b[39;49moptions\u001b[39m.\u001b[39;49mget(\u001b[39m\"\u001b[39;49m\u001b[39mencoding\u001b[39;49m\u001b[39m\"\u001b[39;49m, \u001b[39mNone\u001b[39;49;00m),\n\u001b[1;32m   1882\u001b[0m     compression\u001b[39m=\u001b[39;49m\u001b[39mself\u001b[39;49m\u001b[39m.\u001b[39;49moptions\u001b[39m.\u001b[39;49mget(\u001b[39m\"\u001b[39;49m\u001b[39mcompression\u001b[39;49m\u001b[39m\"\u001b[39;49m, \u001b[39mNone\u001b[39;49;00m),\n\u001b[1;32m   1883\u001b[0m     memory_map\u001b[39m=\u001b[39;49m\u001b[39mself\u001b[39;49m\u001b[39m.\u001b[39;49moptions\u001b[39m.\u001b[39;49mget(\u001b[39m\"\u001b[39;49m\u001b[39mmemory_map\u001b[39;49m\u001b[39m\"\u001b[39;49m, \u001b[39mFalse\u001b[39;49;00m),\n\u001b[1;32m   1884\u001b[0m     is_text\u001b[39m=\u001b[39;49mis_text,\n\u001b[1;32m   1885\u001b[0m     errors\u001b[39m=\u001b[39;49m\u001b[39mself\u001b[39;49m\u001b[39m.\u001b[39;49moptions\u001b[39m.\u001b[39;49mget(\u001b[39m\"\u001b[39;49m\u001b[39mencoding_errors\u001b[39;49m\u001b[39m\"\u001b[39;49m, \u001b[39m\"\u001b[39;49m\u001b[39mstrict\u001b[39;49m\u001b[39m\"\u001b[39;49m),\n\u001b[1;32m   1886\u001b[0m     storage_options\u001b[39m=\u001b[39;49m\u001b[39mself\u001b[39;49m\u001b[39m.\u001b[39;49moptions\u001b[39m.\u001b[39;49mget(\u001b[39m\"\u001b[39;49m\u001b[39mstorage_options\u001b[39;49m\u001b[39m\"\u001b[39;49m, \u001b[39mNone\u001b[39;49;00m),\n\u001b[1;32m   1887\u001b[0m )\n\u001b[1;32m   1888\u001b[0m \u001b[39massert\u001b[39;00m \u001b[39mself\u001b[39m\u001b[39m.\u001b[39mhandles \u001b[39mis\u001b[39;00m \u001b[39mnot\u001b[39;00m \u001b[39mNone\u001b[39;00m\n\u001b[1;32m   1889\u001b[0m f \u001b[39m=\u001b[39m \u001b[39mself\u001b[39m\u001b[39m.\u001b[39mhandles\u001b[39m.\u001b[39mhandle\n",
      "File \u001b[0;32m~/opt/anaconda3/envs/rl/lib/python3.9/site-packages/pandas/io/common.py:873\u001b[0m, in \u001b[0;36mget_handle\u001b[0;34m(path_or_buf, mode, encoding, compression, memory_map, is_text, errors, storage_options)\u001b[0m\n\u001b[1;32m    868\u001b[0m \u001b[39melif\u001b[39;00m \u001b[39misinstance\u001b[39m(handle, \u001b[39mstr\u001b[39m):\n\u001b[1;32m    869\u001b[0m     \u001b[39m# Check whether the filename is to be opened in binary mode.\u001b[39;00m\n\u001b[1;32m    870\u001b[0m     \u001b[39m# Binary mode does not support 'encoding' and 'newline'.\u001b[39;00m\n\u001b[1;32m    871\u001b[0m     \u001b[39mif\u001b[39;00m ioargs\u001b[39m.\u001b[39mencoding \u001b[39mand\u001b[39;00m \u001b[39m\"\u001b[39m\u001b[39mb\u001b[39m\u001b[39m\"\u001b[39m \u001b[39mnot\u001b[39;00m \u001b[39min\u001b[39;00m ioargs\u001b[39m.\u001b[39mmode:\n\u001b[1;32m    872\u001b[0m         \u001b[39m# Encoding\u001b[39;00m\n\u001b[0;32m--> 873\u001b[0m         handle \u001b[39m=\u001b[39m \u001b[39mopen\u001b[39;49m(\n\u001b[1;32m    874\u001b[0m             handle,\n\u001b[1;32m    875\u001b[0m             ioargs\u001b[39m.\u001b[39;49mmode,\n\u001b[1;32m    876\u001b[0m             encoding\u001b[39m=\u001b[39;49mioargs\u001b[39m.\u001b[39;49mencoding,\n\u001b[1;32m    877\u001b[0m             errors\u001b[39m=\u001b[39;49merrors,\n\u001b[1;32m    878\u001b[0m             newline\u001b[39m=\u001b[39;49m\u001b[39m\"\u001b[39;49m\u001b[39m\"\u001b[39;49m,\n\u001b[1;32m    879\u001b[0m         )\n\u001b[1;32m    880\u001b[0m     \u001b[39melse\u001b[39;00m:\n\u001b[1;32m    881\u001b[0m         \u001b[39m# Binary mode\u001b[39;00m\n\u001b[1;32m    882\u001b[0m         handle \u001b[39m=\u001b[39m \u001b[39mopen\u001b[39m(handle, ioargs\u001b[39m.\u001b[39mmode)\n",
      "\u001b[0;31mFileNotFoundError\u001b[0m: [Errno 2] No such file or directory: 'adaptive_tutor/lichess_db_puzzle.csv'"
     ]
    }
   ],
   "source": [
    "import gym\n",
    "import adaptive_tutor\n",
    "\n",
    "# Load custom environment we created \n",
    "env = gym.make('adaptive_tutor/PuzzleTutorEnv-v0', render_mode=None) \n",
    "\n",
    "# Set to initial state\n",
    "env.reset()  \n",
    "\n",
    "# Loop over 200 steps\n",
    "for _ in range(200):\n",
    "    action = env.action_space.sample()                           # Choose a random action\n",
    "    new_state, reward, done, truncated, info = env.step(action)  # Carry out the action\n",
    "    print(new_state)\n",
    "    print(reward)\n",
    "    if done:\n",
    "         env.reset()\n",
    "            \n",
    "env.close()"
   ]
  },
  {
   "cell_type": "code",
   "execution_count": null,
   "id": "168b9264",
   "metadata": {},
   "outputs": [],
   "source": []
  }
 ],
 "metadata": {
  "kernelspec": {
   "display_name": "rl",
   "language": "python",
   "name": "python3"
  },
  "language_info": {
   "codemirror_mode": {
    "name": "ipython",
    "version": 3
   },
   "file_extension": ".py",
   "mimetype": "text/x-python",
   "name": "python",
   "nbconvert_exporter": "python",
   "pygments_lexer": "ipython3",
   "version": "3.9.18"
  }
 },
 "nbformat": 4,
 "nbformat_minor": 5
}
