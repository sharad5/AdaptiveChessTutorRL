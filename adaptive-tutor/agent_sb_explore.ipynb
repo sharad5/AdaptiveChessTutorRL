{
 "cells": [
  {
   "cell_type": "code",
   "execution_count": 1,
   "metadata": {},
   "outputs": [],
   "source": [
    "import gym\n",
    "from stable_baselines3 import DQN,A2C\n",
    "import adaptive_tutor\n",
    "import numpy as np"
   ]
  },
  {
   "cell_type": "code",
   "execution_count": 2,
   "metadata": {},
   "outputs": [
    {
     "name": "stdout",
     "output_type": "stream",
     "text": [
      "../maia_weights/maia_1100.pb\n",
      "1\n"
     ]
    }
   ],
   "source": [
    "env = gym.make('adaptive_tutor/PuzzleTutorEnv-v0', render_mode=None) "
   ]
  },
  {
   "cell_type": "code",
   "execution_count": 9,
   "metadata": {},
   "outputs": [],
   "source": [
    "# Define a wrapper class for observation preprocessing\n",
    "class CustomPreprocessingWrapper(gym.ObservationWrapper):\n",
    "    def __init__(self, env):\n",
    "        super().__init__(env)\n",
    "        self.observation_space = gym.spaces.Box(low=0, high=1, shape=(10,), dtype=np.int32)\n",
    "\n",
    "    def observation(self, observation):\n",
    "        return observation['themes_covered']"
   ]
  },
  {
   "cell_type": "code",
   "execution_count": 10,
   "metadata": {},
   "outputs": [
    {
     "name": "stdout",
     "output_type": "stream",
     "text": [
      "../maia_weights/maia_1100.pb\n",
      "1\n",
      "Starting episode with x,y = 100 7\n"
     ]
    },
    {
     "data": {
      "text/plain": [
       "(array([0, 0, 0, 0, 0, 0, 0, 0, 0, 0], dtype=int32),\n",
       " {'info': {'gt_1900': 0,\n",
       "   '1400-1500': 0,\n",
       "   '1200-1300': 0,\n",
       "   '1000-1100': 0,\n",
       "   '1500-1600': 0,\n",
       "   '1800-1900': 0,\n",
       "   '1100-1200': 0,\n",
       "   '1700-1800': 0,\n",
       "   'lt_900': 0,\n",
       "   '1600-1700': 0,\n",
       "   '900-1000': 0,\n",
       "   '1300-1400': 0}})"
      ]
     },
     "execution_count": 10,
     "metadata": {},
     "output_type": "execute_result"
    }
   ],
   "source": [
    "env = CustomPreprocessingWrapper(env)\n",
    "env.reset()"
   ]
  },
  {
   "cell_type": "code",
   "execution_count": 5,
   "metadata": {},
   "outputs": [
    {
     "name": "stdout",
     "output_type": "stream",
     "text": [
      "Using cpu device\n",
      "Wrapping the env with a `Monitor` wrapper\n",
      "Wrapping the env in a DummyVecEnv.\n"
     ]
    },
    {
     "name": "stderr",
     "output_type": "stream",
     "text": [
      "/Users/shikharrastogi/opt/anaconda3/envs/stable_b/lib/python3.9/site-packages/stable_baselines3/common/vec_env/patch_gym.py:49: UserWarning: You provided an OpenAI Gym environment. We strongly recommend transitioning to Gymnasium environments. Stable-Baselines3 is automatically wrapping your environments in a compatibility layer, which could potentially cause issues.\n",
      "  warnings.warn(\n"
     ]
    }
   ],
   "source": [
    "model = DQN(\"MlpPolicy\", env, verbose=1)"
   ]
  },
  {
   "cell_type": "code",
   "execution_count": 11,
   "metadata": {},
   "outputs": [],
   "source": [
    "# model.learn(total_timesteps=100000, progress_bar=True)\n",
    "# model.save(\"dqn_sb\")"
   ]
  },
  {
   "cell_type": "code",
   "execution_count": 20,
   "metadata": {},
   "outputs": [
    {
     "name": "stdout",
     "output_type": "stream",
     "text": [
      "Wrapping the env with a `Monitor` wrapper\n",
      "Wrapping the env in a DummyVecEnv.\n"
     ]
    },
    {
     "name": "stderr",
     "output_type": "stream",
     "text": [
      "/Users/shikharrastogi/opt/anaconda3/envs/stable_b/lib/python3.9/site-packages/stable_baselines3/common/vec_env/patch_gym.py:49: UserWarning: You provided an OpenAI Gym environment. We strongly recommend transitioning to Gymnasium environments. Stable-Baselines3 is automatically wrapping your environments in a compatibility layer, which could potentially cause issues.\n",
      "  warnings.warn(\n"
     ]
    }
   ],
   "source": [
    "model = A2C.load(\"adaptive_tutor/logs/a2c_model_10000_steps\")\n",
    "# model.load_replay_buffer('logs/rl_model_replay_buffer_10000_steps.pkl')\n",
    "model.set_env(env)"
   ]
  },
  {
   "cell_type": "code",
   "execution_count": null,
   "metadata": {},
   "outputs": [],
   "source": []
  },
  {
   "cell_type": "code",
   "execution_count": 1,
   "metadata": {},
   "outputs": [
    {
     "ename": "NameError",
     "evalue": "name 'np' is not defined",
     "output_type": "error",
     "traceback": [
      "\u001b[0;31m---------------------------------------------------------------------------\u001b[0m",
      "\u001b[0;31mNameError\u001b[0m                                 Traceback (most recent call last)",
      "Cell \u001b[0;32mIn[1], line 1\u001b[0m\n\u001b[0;32m----> 1\u001b[0m action_space \u001b[39m=\u001b[39m \u001b[39mlist\u001b[39m(np\u001b[39m.\u001b[39mload(\u001b[39m'\u001b[39m\u001b[39madaptive_tutor/action_space.npy\u001b[39m\u001b[39m'\u001b[39m, allow_pickle\u001b[39m=\u001b[39m\u001b[39mTrue\u001b[39;00m))\n",
      "\u001b[0;31mNameError\u001b[0m: name 'np' is not defined"
     ]
    }
   ],
   "source": [
    "action_space = list(np.load('adaptive_tutor/action_space.npy', allow_pickle=True))"
   ]
  },
  {
   "cell_type": "code",
   "execution_count": 22,
   "metadata": {},
   "outputs": [
    {
     "data": {
      "text/plain": [
       "('1400-1500', 'special_moves')"
      ]
     },
     "execution_count": 22,
     "metadata": {},
     "output_type": "execute_result"
    }
   ],
   "source": [
    "pred, out = model.predict([0,0,0,0,0,0,0,0,0,0])\n",
    "action_space[pred]"
   ]
  },
  {
   "cell_type": "code",
   "execution_count": 23,
   "metadata": {},
   "outputs": [
    {
     "name": "stdout",
     "output_type": "stream",
     "text": [
      "../maia_weights/maia_1100.pb\n",
      "1\n",
      "Starting episode with x,y = 100 7\n",
      "[0 0 0 0 0 0 0 0 0 0]\n",
      "('1200-1300', 'piece_specific_endgames')\n"
     ]
    },
    {
     "name": "stderr",
     "output_type": "stream",
     "text": [
      "<UciProtocol (pid=42231)>: stderr >> \u001b[1m\u001b[31m       _\n",
      "<UciProtocol (pid=42231)>: stderr >> |   _ | |\n",
      "<UciProtocol (pid=42231)>: stderr >> |_ |_ |_|\u001b[0m v0.30.0+git.dirty built Jul 22 2023\n",
      "<UciProtocol (pid=42231)>: stderr >> Loading weights file from: ../maia_weights/maia_1100.pb\n",
      "<UciProtocol (pid=42231)>: stderr >> Creating backend [metal]...\n",
      "<UciProtocol (pid=42231)>: stderr >> Initialized metal backend on device Apple M1\n"
     ]
    },
    {
     "name": "stdout",
     "output_type": "stream",
     "text": [
      "[   0    0    0    0    0    0 1276    0    0    0]\n",
      "('1200-1300', 'defensive_tactics')\n",
      "[   0    0    0    0    0    0 1276    0    0 1208]\n",
      "('1200-1300', 'defensive_tactics')\n",
      "[   0    0    0    0    0    0 1276    0    0 1208]\n",
      "('1200-1300', 'defensive_tactics')\n",
      "[   0    0    0    0    0    0 1276    0    0 1208]\n",
      "('1200-1300', 'defensive_tactics')\n",
      "[   0    0    0    0    0    0 1276    0    0 1208]\n",
      "('1200-1300', 'defensive_tactics')\n",
      "[   0    0    0    0    0    0 1276    0    0 1208]\n",
      "('1200-1300', 'defensive_tactics')\n",
      "[   0    0    0    0    0    0 1276    0    0 1208]\n",
      "('1200-1300', 'defensive_tactics')\n",
      "[   0    0    0    0    0    0 1276    0    0 1208]\n",
      "('1200-1300', 'defensive_tactics')\n",
      "[   0    0    0    0    0    0 1276    0    0 1208]\n",
      "('1200-1300', 'defensive_tactics')\n",
      "[   0    0    0    0    0    0 1276    0    0 1208]\n",
      "('1200-1300', 'defensive_tactics')\n",
      "[   0    0    0    0    0    0 1276    0    0 1208]\n",
      "('1200-1300', 'defensive_tactics')\n",
      "[   0    0    0    0    0    0 1276    0    0 1208]\n",
      "('1200-1300', 'defensive_tactics')\n",
      "[   0    0    0    0    0    0 1276    0    0 1208]\n",
      "('1200-1300', 'defensive_tactics')\n",
      "[   0    0    0    0    0    0 1276    0    0 1208]\n",
      "('gt_1900', 'advanced_tactical_themes')\n",
      "[   0    0    0 2292    0    0 1276    0    0 1208]\n",
      "('1200-1300', 'defensive_tactics')\n",
      "[   0    0    0 2292    0    0 1276    0    0 1208]\n",
      "('1200-1300', 'defensive_tactics')\n",
      "[   0    0    0 2292    0    0 1276    0    0 1208]\n",
      "('1200-1300', 'defensive_tactics')\n",
      "[   0    0    0 2292    0    0 1276    0    0 1208]\n",
      "('1200-1300', 'defensive_tactics')\n",
      "[   0    0    0 2292    0    0 1276    0    0 1208]\n",
      "('1200-1300', 'defensive_tactics')\n",
      "[   0    0    0 2292    0    0 1276    0    0 1208]\n",
      "('1200-1300', 'defensive_tactics')\n",
      "[   0    0    0 2292    0    0 1276    0    0 1208]\n",
      "('1200-1300', 'defensive_tactics')\n",
      "[   0    0    0 2292    0    0 1276    0    0 1208]\n",
      "('1200-1300', 'defensive_tactics')\n",
      "[   0    0    0 2292    0    0 1276    0    0 1208]\n",
      "('1200-1300', 'defensive_tactics')\n",
      "[   0    0    0 2292    0    0 1276    0    0 1208]\n",
      "('1200-1300', 'defensive_tactics')\n",
      "[   0    0    0 2292    0    0 1276    0    0 1208]\n",
      "('1200-1300', 'defensive_tactics')\n",
      "[   0    0    0 2292    0    0 1276    0    0 1208]\n",
      "('1200-1300', 'defensive_tactics')\n",
      "[   0    0    0 2292    0    0 1276    0    0 1208]\n",
      "('1200-1300', 'defensive_tactics')\n",
      "[   0    0    0 2292    0    0 1276    0    0 1208]\n",
      "('1200-1300', 'defensive_tactics')\n",
      "[   0    0    0 2292    0    0 1276    0    0 1208]\n",
      "('1200-1300', 'defensive_tactics')\n",
      "[   0    0    0 2292    0    0 1276    0    0 1208]\n",
      "('1200-1300', 'defensive_tactics')\n",
      "[   0    0    0 2292    0    0 1276    0    0 1208]\n",
      "('1200-1300', 'defensive_tactics')\n",
      "[   0    0    0 2292    0    0 1276    0    0 1208]\n",
      "('1200-1300', 'defensive_tactics')\n",
      "[   0    0    0 2292    0    0 1276    0    0 1208]\n",
      "('1200-1300', 'defensive_tactics')\n",
      "[   0    0    0 2292    0    0 1276    0    0 1208]\n",
      "('1200-1300', 'defensive_tactics')\n",
      "[   0    0    0 2292    0    0 1276    0    0 1208]\n",
      "('1200-1300', 'defensive_tactics')\n",
      "[   0    0    0 2292    0    0 1276    0    0 1208]\n",
      "('1200-1300', 'defensive_tactics')\n",
      "[   0    0    0 2292    0    0 1276    0    0 1208]\n",
      "('1200-1300', 'defensive_tactics')\n",
      "[   0    0    0 2292    0    0 1276    0    0 1208]\n",
      "('1200-1300', 'defensive_tactics')\n",
      "[   0    0    0 2292    0    0 1276    0    0 1208]\n",
      "('1200-1300', 'defensive_tactics')\n",
      "[   0    0    0 2292    0    0 1276    0    0 1208]\n",
      "('1200-1300', 'defensive_tactics')\n",
      "[   0    0    0 2292    0    0 1276    0    0 1208]\n",
      "('1200-1300', 'defensive_tactics')\n",
      "[   0    0    0 2292    0    0 1276    0    0 1208]\n",
      "('1200-1300', 'defensive_tactics')\n",
      "[   0    0    0 2292    0    0 1276    0    0 1208]\n",
      "('1200-1300', 'defensive_tactics')\n",
      "[   0    0    0 2292    0    0 1276    0    0 1208]\n",
      "('1200-1300', 'defensive_tactics')\n",
      "[   0    0    0 2292    0    0 1276    0    0 1208]\n",
      "('1200-1300', 'defensive_tactics')\n",
      "[   0    0    0 2292    0    0 1276    0    0 1208]\n",
      "('1200-1300', 'defensive_tactics')\n",
      "[   0    0    0 2292    0    0 1276    0    0 1208]\n",
      "('1200-1300', 'defensive_tactics')\n",
      "[   0    0    0 2292    0    0 1276    0    0 1208]\n",
      "('1200-1300', 'defensive_tactics')\n",
      "[   0    0    0 2292    0    0 1276    0    0 1208]\n",
      "('1200-1300', 'defensive_tactics')\n",
      "[   0    0    0 2292    0    0 1276    0    0 1208]\n",
      "('1200-1300', 'defensive_tactics')\n",
      "[   0    0    0 2292    0    0 1276    0    0 1208]\n",
      "('1200-1300', 'defensive_tactics')\n",
      "[   0    0    0 2292    0    0 1276    0    0 1208]\n",
      "('1200-1300', 'defensive_tactics')\n",
      "[   0    0    0 2292    0    0 1276    0    0 1208]\n",
      "('1200-1300', 'defensive_tactics')\n",
      "[   0    0    0 2292    0    0 1276    0    0 1208]\n",
      "('1200-1300', 'defensive_tactics')\n",
      "[   0    0    0 2292    0    0 1276    0    0 1208]\n",
      "('1200-1300', 'defensive_tactics')\n",
      "[   0    0    0 2292    0    0 1276    0    0 1208]\n",
      "('1200-1300', 'defensive_tactics')\n",
      "[   0    0    0 2292    0    0 1276    0    0 1208]\n",
      "('1200-1300', 'defensive_tactics')\n",
      "[   0    0    0 2292    0    0 1276    0    0 1208]\n",
      "('1200-1300', 'defensive_tactics')\n",
      "[   0    0    0 2292    0    0 1276    0    0 1208]\n",
      "('1200-1300', 'defensive_tactics')\n",
      "[   0    0    0 2292    0    0 1276    0    0 1208]\n",
      "('1200-1300', 'defensive_tactics')\n",
      "[   0    0    0 2292    0    0 1276    0    0 1208]\n",
      "('1200-1300', 'defensive_tactics')\n",
      "[   0    0    0 2292    0    0 1276    0    0 1208]\n",
      "('1200-1300', 'defensive_tactics')\n",
      "[   0    0    0 2292    0    0 1276    0    0 1208]\n",
      "('1200-1300', 'defensive_tactics')\n",
      "[   0    0    0 2292    0    0 1276    0    0 1208]\n",
      "('1200-1300', 'defensive_tactics')\n",
      "[   0    0    0 2292    0    0 1276    0    0 1208]\n",
      "('1200-1300', 'defensive_tactics')\n",
      "[   0    0    0 2292    0    0 1276    0    0 1208]\n",
      "('1200-1300', 'defensive_tactics')\n",
      "[   0    0    0 2292    0    0 1276    0    0 1208]\n",
      "('1200-1300', 'defensive_tactics')\n",
      "[   0    0    0 2292    0    0 1276    0    0 1208]\n",
      "('1200-1300', 'defensive_tactics')\n",
      "[   0    0    0 2292    0    0 1276    0    0 1208]\n",
      "('1200-1300', 'defensive_tactics')\n",
      "[   0    0    0 2292    0    0 1276    0    0 1208]\n",
      "('1200-1300', 'defensive_tactics')\n",
      "[   0    0    0 2292    0    0 1276    0    0 1208]\n",
      "('1200-1300', 'defensive_tactics')\n",
      "[   0    0    0 2292    0    0 1276    0    0 1208]\n",
      "('1200-1300', 'defensive_tactics')\n",
      "[   0    0    0 2292    0    0 1276    0    0 1208]\n",
      "('1200-1300', 'defensive_tactics')\n",
      "[   0    0    0 2292    0    0 1276    0    0 1208]\n",
      "('1200-1300', 'defensive_tactics')\n",
      "[   0    0    0 2292    0    0 1276    0    0 1208]\n",
      "('1200-1300', 'defensive_tactics')\n",
      "[   0    0    0 2292    0    0 1276    0    0 1208]\n",
      "('1200-1300', 'defensive_tactics')\n",
      "[   0    0    0 2292    0    0 1276    0    0 1208]\n",
      "('1200-1300', 'defensive_tactics')\n",
      "[   0    0    0 2292    0    0 1276    0    0 1208]\n",
      "('1200-1300', 'defensive_tactics')\n",
      "[   0    0    0 2292    0    0 1276    0    0 1208]\n",
      "('1200-1300', 'defensive_tactics')\n",
      "[   0    0    0 2292    0    0 1276    0    0 1208]\n",
      "('1200-1300', 'defensive_tactics')\n",
      "[   0    0    0 2292    0    0 1276    0    0 1208]\n",
      "('1200-1300', 'defensive_tactics')\n",
      "[   0    0    0 2292    0    0 1276    0    0 1208]\n",
      "('1200-1300', 'defensive_tactics')\n",
      "[   0    0    0 2292    0    0 1276    0    0 1208]\n",
      "('1200-1300', 'defensive_tactics')\n",
      "[   0    0    0 2292    0    0 1276    0    0 1208]\n",
      "('1200-1300', 'defensive_tactics')\n",
      "[   0    0    0 2292    0    0 1276    0    0 1208]\n",
      "('1200-1300', 'defensive_tactics')\n",
      "[   0    0    0 2292    0    0 1276    0    0 1208]\n",
      "('1200-1300', 'defensive_tactics')\n",
      "[   0    0    0 2292    0    0 1276    0    0 1208]\n",
      "('1200-1300', 'defensive_tactics')\n",
      "[   0    0    0 2292    0    0 1276    0    0 1208]\n",
      "('1200-1300', 'defensive_tactics')\n",
      "[   0    0    0 2292    0    0 1276    0    0 1208]\n",
      "('1200-1300', 'defensive_tactics')\n",
      "[   0    0    0 2292    0    0 1276    0    0 1208]\n",
      "('1200-1300', 'defensive_tactics')\n",
      "[   0    0    0 2292    0    0 1276    0    0 1208]\n",
      "('1200-1300', 'defensive_tactics')\n",
      "[   0    0    0 2292    0    0 1276    0    0 1208]\n",
      "('1200-1300', 'defensive_tactics')\n",
      "[   0    0    0 2292    0    0 1276    0    0 1208]\n",
      "('1200-1300', 'defensive_tactics')\n",
      "[   0    0    0 2292    0    0 1276    0    0 1208]\n",
      "('1200-1300', 'defensive_tactics')\n",
      "[   0    0    0 2292    0    0 1276    0    0 1208]\n",
      "('1200-1300', 'defensive_tactics')\n",
      "[   0    0    0 2292    0    0 1276    0    0 1208]\n",
      "('1200-1300', 'defensive_tactics')\n",
      "[   0    0    0 2292    0    0 1276    0    0 1208]\n",
      "('1200-1300', 'defensive_tactics')\n",
      "[   0    0    0 2292    0    0 1276    0    0 1208]\n",
      "('1200-1300', 'defensive_tactics')\n",
      "[   0    0    0 2292    0    0 1276    0    0 1208]\n",
      "('1200-1300', 'defensive_tactics')\n",
      "[   0    0    0 2292    0    0 1276    0    0 1208]\n",
      "('1200-1300', 'defensive_tactics')\n",
      "[   0    0    0 2292    0    0 1276    0    0 1208]\n",
      "('1200-1300', 'defensive_tactics')\n",
      "[   0    0    0 2292    0    0 1276    0    0 1208]\n",
      "('1200-1300', 'defensive_tactics')\n",
      "[   0    0    0 2292    0    0 1276    0    0 1208]\n",
      "('1200-1300', 'defensive_tactics')\n",
      "[   0    0    0 2292    0    0 1276    0    0 1208]\n",
      "('1200-1300', 'defensive_tactics')\n",
      "[   0    0    0 2292    0    0 1276    0    0 1208]\n",
      "('1200-1300', 'defensive_tactics')\n",
      "[   0    0    0 2292    0    0 1276    0    0 1208]\n",
      "('1200-1300', 'defensive_tactics')\n",
      "[   0    0    0 2292    0    0 1276    0    0 1208]\n",
      "('1200-1300', 'defensive_tactics')\n",
      "[   0    0    0 2292    0    0 1276    0    0 1208]\n",
      "('1200-1300', 'defensive_tactics')\n",
      "[   0    0    0 2292    0    0 1276    0    0 1208]\n",
      "('1200-1300', 'defensive_tactics')\n",
      "[   0    0    0 2292    0    0 1276    0    0 1208]\n",
      "('1200-1300', 'defensive_tactics')\n",
      "[   0    0    0 2292    0    0 1276    0    0 1208]\n",
      "('1200-1300', 'defensive_tactics')\n",
      "[   0    0    0 2292    0    0 1276    0    0 1208]\n",
      "('1200-1300', 'defensive_tactics')\n",
      "[   0    0    0 2292    0    0 1276    0    0 1208]\n",
      "('1200-1300', 'defensive_tactics')\n",
      "[   0    0    0 2292    0    0 1276    0    0 1208]\n",
      "('1200-1300', 'defensive_tactics')\n",
      "[   0    0    0 2292    0    0 1276    0    0 1208]\n",
      "('1200-1300', 'defensive_tactics')\n",
      "[   0    0    0 2292    0    0 1276    0    0 1208]\n",
      "('1200-1300', 'defensive_tactics')\n",
      "[   0    0    0 2292    0    0 1276    0    0 1208]\n",
      "('1200-1300', 'defensive_tactics')\n",
      "[   0    0    0 2292    0    0 1276    0    0 1208]\n",
      "('1200-1300', 'defensive_tactics')\n",
      "[   0    0    0 2292    0    0 1276    0    0 1208]\n",
      "('1200-1300', 'defensive_tactics')\n",
      "[   0    0    0 2292    0    0 1276    0    0 1208]\n",
      "('1200-1300', 'defensive_tactics')\n",
      "[   0    0    0 2292    0    0 1276    0    0 1208]\n",
      "('1200-1300', 'defensive_tactics')\n",
      "[   0    0    0 2292    0    0 1276    0    0 1208]\n",
      "('1200-1300', 'defensive_tactics')\n",
      "[   0    0    0 2292    0    0 1276    0    0 1208]\n",
      "('1200-1300', 'defensive_tactics')\n",
      "[   0    0    0 2292    0    0 1276    0    0 1208]\n",
      "('1200-1300', 'defensive_tactics')\n",
      "[   0    0    0 2292    0    0 1276    0    0 1208]\n",
      "('1200-1300', 'defensive_tactics')\n",
      "[   0    0    0 2292    0    0 1276    0    0 1208]\n",
      "('1200-1300', 'defensive_tactics')\n",
      "[   0    0    0 2292    0    0 1276    0    0 1208]\n",
      "('1200-1300', 'defensive_tactics')\n",
      "[   0    0    0 2292    0    0 1276    0    0 1208]\n",
      "('1200-1300', 'defensive_tactics')\n",
      "[   0    0    0 2292    0    0 1276    0    0 1208]\n",
      "('1200-1300', 'defensive_tactics')\n",
      "[   0    0    0 2292    0    0 1276    0    0 1208]\n",
      "('1200-1300', 'defensive_tactics')\n",
      "[   0    0    0 2292    0    0 1276    0    0 1208]\n",
      "('1200-1300', 'defensive_tactics')\n",
      "[   0    0    0 2292    0    0 1276    0    0 1208]\n",
      "('1200-1300', 'defensive_tactics')\n",
      "[   0    0    0 2292    0    0 1276    0    0 1208]\n",
      "('1200-1300', 'defensive_tactics')\n",
      "[   0    0    0 2292    0    0 1276    0    0 1208]\n",
      "('1200-1300', 'defensive_tactics')\n",
      "[   0    0    0 2292    0    0 1276    0    0 1208]\n",
      "('1200-1300', 'defensive_tactics')\n",
      "[   0    0    0 2292    0    0 1276    0    0 1208]\n",
      "('1200-1300', 'defensive_tactics')\n",
      "[   0    0    0 2292    0    0 1276    0    0 1208]\n",
      "('1200-1300', 'defensive_tactics')\n",
      "[   0    0    0 2292    0    0 1276    0    0 1208]\n",
      "('1200-1300', 'defensive_tactics')\n",
      "[   0    0    0 2292    0    0 1276    0    0 1208]\n",
      "('1200-1300', 'defensive_tactics')\n",
      "[   0    0    0 2292    0    0 1276    0    0 1208]\n",
      "('1200-1300', 'defensive_tactics')\n",
      "[   0    0    0 2292    0    0 1276    0    0 1208]\n",
      "('1200-1300', 'defensive_tactics')\n",
      "[   0    0    0 2292    0    0 1276    0    0 1208]\n",
      "('1200-1300', 'defensive_tactics')\n",
      "[   0    0    0 2292    0    0 1276    0    0 1208]\n",
      "('1200-1300', 'defensive_tactics')\n",
      "[   0    0    0 2292    0    0 1276    0    0 1208]\n",
      "('1200-1300', 'defensive_tactics')\n",
      "[   0    0    0 2292    0    0 1276    0    0 1208]\n",
      "('1200-1300', 'defensive_tactics')\n",
      "[   0    0    0 2292    0    0 1276    0    0 1208]\n",
      "('1200-1300', 'defensive_tactics')\n",
      "[   0    0    0 2292    0    0 1276    0    0 1208]\n",
      "('1200-1300', 'defensive_tactics')\n",
      "[   0    0    0 2292    0    0 1276    0    0 1208]\n",
      "('1200-1300', 'defensive_tactics')\n",
      "[   0    0    0 2292    0    0 1276    0    0 1208]\n",
      "('1200-1300', 'defensive_tactics')\n",
      "[   0    0    0 2292    0    0 1276    0    0 1208]\n",
      "('1200-1300', 'defensive_tactics')\n",
      "[   0    0    0 2292    0    0 1276    0    0 1208]\n",
      "('1200-1300', 'defensive_tactics')\n",
      "[   0    0    0 2292    0    0 1276    0    0 1208]\n",
      "('1200-1300', 'defensive_tactics')\n",
      "[   0    0    0 2292    0    0 1276    0    0 1208]\n",
      "('1200-1300', 'defensive_tactics')\n",
      "[   0    0    0 2292    0    0 1276    0    0 1208]\n",
      "('1200-1300', 'defensive_tactics')\n",
      "[   0    0    0 2292    0    0 1276    0    0 1208]\n",
      "('1200-1300', 'defensive_tactics')\n",
      "[   0    0    0 2292    0    0 1276    0    0 1208]\n",
      "('1200-1300', 'defensive_tactics')\n",
      "[   0    0    0 2292    0    0 1276    0    0 1208]\n",
      "('1200-1300', 'defensive_tactics')\n",
      "[   0    0    0 2292    0    0 1276    0    0 1208]\n",
      "('1200-1300', 'defensive_tactics')\n",
      "[   0    0    0 2292    0    0 1276    0    0 1208]\n",
      "('1200-1300', 'defensive_tactics')\n",
      "[   0    0    0 2292    0    0 1276    0    0 1208]\n",
      "('1200-1300', 'defensive_tactics')\n",
      "[   0    0    0 2292    0    0 1276    0    0 1208]\n",
      "('1200-1300', 'defensive_tactics')\n",
      "[   0    0    0 2292    0    0 1276    0    0 1208]\n",
      "('1200-1300', 'defensive_tactics')\n",
      "[   0    0    0 2292    0    0 1276    0    0 1208]\n",
      "('1200-1300', 'defensive_tactics')\n",
      "[   0    0    0 2292    0    0 1276    0    0 1208]\n",
      "('1200-1300', 'defensive_tactics')\n",
      "[   0    0    0 2292    0    0 1276    0    0 1208]\n",
      "('1200-1300', 'defensive_tactics')\n",
      "[   0    0    0 2292    0    0 1276    0    0 1208]\n",
      "('1200-1300', 'defensive_tactics')\n",
      "[   0    0    0 2292    0    0 1276    0    0 1208]\n",
      "('1200-1300', 'defensive_tactics')\n",
      "[   0    0    0 2292    0    0 1276    0    0 1208]\n",
      "('1200-1300', 'defensive_tactics')\n",
      "[   0    0    0 2292    0    0 1276    0    0 1208]\n",
      "('1200-1300', 'defensive_tactics')\n",
      "[   0    0    0 2292    0    0 1276    0    0 1208]\n",
      "('1200-1300', 'defensive_tactics')\n",
      "[   0    0    0 2292    0    0 1276    0    0 1208]\n",
      "('1200-1300', 'defensive_tactics')\n",
      "[   0    0    0 2292    0    0 1276    0    0 1208]\n",
      "('1200-1300', 'defensive_tactics')\n",
      "[   0    0    0 2292    0    0 1276    0    0 1208]\n",
      "('1200-1300', 'defensive_tactics')\n",
      "[   0    0    0 2292    0    0 1276    0    0 1208]\n",
      "('1200-1300', 'defensive_tactics')\n",
      "[   0    0    0 2292    0    0 1276    0    0 1208]\n",
      "('1200-1300', 'defensive_tactics')\n",
      "[   0    0    0 2292    0    0 1276    0    0 1208]\n",
      "('1200-1300', 'defensive_tactics')\n",
      "[   0    0    0 2292    0    0 1276    0    0 1208]\n",
      "('1200-1300', 'defensive_tactics')\n",
      "[   0    0    0 2292    0    0 1276    0    0 1208]\n",
      "('1200-1300', 'defensive_tactics')\n",
      "[   0    0    0 2292    0    0 1276    0    0 1208]\n",
      "('1200-1300', 'defensive_tactics')\n",
      "[   0    0    0 2292    0    0 1276    0    0 1208]\n",
      "('1200-1300', 'defensive_tactics')\n",
      "[   0    0    0 2292    0    0 1276    0    0 1208]\n",
      "('1200-1300', 'defensive_tactics')\n",
      "[   0    0    0 2292    0    0 1276    0    0 1208]\n",
      "('1200-1300', 'defensive_tactics')\n",
      "[   0    0    0 2292    0    0 1276    0    0 1208]\n",
      "('1200-1300', 'defensive_tactics')\n",
      "[   0    0    0 2292    0    0 1276    0    0 1208]\n",
      "('1200-1300', 'defensive_tactics')\n",
      "[   0    0    0 2292    0    0 1276    0    0 1208]\n",
      "('1200-1300', 'defensive_tactics')\n",
      "[   0    0    0 2292    0    0 1276    0    0 1208]\n",
      "('1200-1300', 'defensive_tactics')\n",
      "[   0    0    0 2292    0    0 1276    0    0 1208]\n",
      "('1200-1300', 'defensive_tactics')\n",
      "[   0    0    0 2292    0    0 1276    0    0 1208]\n",
      "('1200-1300', 'defensive_tactics')\n",
      "[   0    0    0 2292    0    0 1276    0    0 1208]\n",
      "('1200-1300', 'defensive_tactics')\n",
      "[   0    0    0 2292    0    0 1276    0    0 1208]\n",
      "('1200-1300', 'defensive_tactics')\n",
      "[   0    0    0 2292    0    0 1276    0    0 1208]\n",
      "('1200-1300', 'defensive_tactics')\n",
      "[   0    0    0 2292    0    0 1276    0    0 1208]\n",
      "('1200-1300', 'defensive_tactics')\n",
      "[   0    0    0 2292    0    0 1276    0    0 1208]\n",
      "('1200-1300', 'defensive_tactics')\n",
      "[   0    0    0 2292    0    0 1276    0    0 1208]\n",
      "('1200-1300', 'defensive_tactics')\n",
      "[   0    0    0 2292    0    0 1276    0    0 1208]\n",
      "('1200-1300', 'defensive_tactics')\n",
      "[   0    0    0 2292    0    0 1276    0    0 1208]\n",
      "('1200-1300', 'defensive_tactics')\n",
      "[   0    0    0 2292    0    0 1276    0    0 1208]\n",
      "('1200-1300', 'defensive_tactics')\n",
      "[   0    0    0 2292    0    0 1276    0    0 1208]\n",
      "('1200-1300', 'defensive_tactics')\n",
      "[   0    0    0 2292    0    0 1276    0    0 1208]\n",
      "('1200-1300', 'defensive_tactics')\n",
      "[   0    0    0 2292    0    0 1276    0    0 1208]\n",
      "('1200-1300', 'defensive_tactics')\n",
      "[   0    0    0 2292    0    0 1276    0    0 1208]\n",
      "('1200-1300', 'defensive_tactics')\n",
      "[   0    0    0 2292    0    0 1276    0    0 1208]\n",
      "('1200-1300', 'defensive_tactics')\n",
      "[   0    0    0 2292    0    0 1276    0    0 1208]\n",
      "('1200-1300', 'defensive_tactics')\n",
      "[   0    0    0 2292    0    0 1276    0    0 1208]\n",
      "('1200-1300', 'defensive_tactics')\n",
      "[   0    0    0 2292    0    0 1276    0    0 1208]\n",
      "('1200-1300', 'defensive_tactics')\n",
      "[   0    0    0 2292    0    0 1276    0    0 1208]\n",
      "('1200-1300', 'defensive_tactics')\n",
      "[   0    0    0 2292    0    0 1276    0    0 1208]\n",
      "('1200-1300', 'defensive_tactics')\n",
      "[   0    0    0 2292    0    0 1276    0    0 1208]\n",
      "('1200-1300', 'defensive_tactics')\n",
      "[   0    0    0 2292    0    0 1276    0    0 1208]\n",
      "('1200-1300', 'defensive_tactics')\n",
      "[   0    0    0 2292    0    0 1276    0    0 1208]\n",
      "('1200-1300', 'defensive_tactics')\n",
      "[   0    0    0 2292    0    0 1276    0    0 1208]\n",
      "('1200-1300', 'defensive_tactics')\n"
     ]
    },
    {
     "ename": "KeyboardInterrupt",
     "evalue": "",
     "output_type": "error",
     "traceback": [
      "\u001b[0;31m---------------------------------------------------------------------------\u001b[0m",
      "\u001b[0;31mKeyboardInterrupt\u001b[0m                         Traceback (most recent call last)",
      "Cell \u001b[0;32mIn[23], line 7\u001b[0m\n\u001b[1;32m      5\u001b[0m action, _states \u001b[39m=\u001b[39m model\u001b[39m.\u001b[39mpredict(obs, deterministic\u001b[39m=\u001b[39m\u001b[39mFalse\u001b[39;00m)\n\u001b[1;32m      6\u001b[0m \u001b[39mprint\u001b[39m(action_space[action])\n\u001b[0;32m----> 7\u001b[0m obs, reward, terminated, truncated, info \u001b[39m=\u001b[39m env\u001b[39m.\u001b[39;49mstep(action)\n\u001b[1;32m      8\u001b[0m \u001b[39mif\u001b[39;00m terminated \u001b[39mor\u001b[39;00m truncated:\n\u001b[1;32m      9\u001b[0m     obs, info \u001b[39m=\u001b[39m env\u001b[39m.\u001b[39mreset()\n",
      "File \u001b[0;32m~/opt/anaconda3/envs/stable_b/lib/python3.9/site-packages/gym/core.py:384\u001b[0m, in \u001b[0;36mObservationWrapper.step\u001b[0;34m(self, action)\u001b[0m\n\u001b[1;32m    382\u001b[0m \u001b[39mdef\u001b[39;00m \u001b[39mstep\u001b[39m(\u001b[39mself\u001b[39m, action):\n\u001b[1;32m    383\u001b[0m \u001b[39m    \u001b[39m\u001b[39m\"\"\"Returns a modified observation using :meth:`self.observation` after calling :meth:`env.step`.\"\"\"\u001b[39;00m\n\u001b[0;32m--> 384\u001b[0m     observation, reward, terminated, truncated, info \u001b[39m=\u001b[39m \u001b[39mself\u001b[39;49m\u001b[39m.\u001b[39;49menv\u001b[39m.\u001b[39;49mstep(action)\n\u001b[1;32m    385\u001b[0m     \u001b[39mreturn\u001b[39;00m \u001b[39mself\u001b[39m\u001b[39m.\u001b[39mobservation(observation), reward, terminated, truncated, info\n",
      "File \u001b[0;32m~/opt/anaconda3/envs/stable_b/lib/python3.9/site-packages/gym/wrappers/order_enforcing.py:37\u001b[0m, in \u001b[0;36mOrderEnforcing.step\u001b[0;34m(self, action)\u001b[0m\n\u001b[1;32m     35\u001b[0m \u001b[39mif\u001b[39;00m \u001b[39mnot\u001b[39;00m \u001b[39mself\u001b[39m\u001b[39m.\u001b[39m_has_reset:\n\u001b[1;32m     36\u001b[0m     \u001b[39mraise\u001b[39;00m ResetNeeded(\u001b[39m\"\u001b[39m\u001b[39mCannot call env.step() before calling env.reset()\u001b[39m\u001b[39m\"\u001b[39m)\n\u001b[0;32m---> 37\u001b[0m \u001b[39mreturn\u001b[39;00m \u001b[39mself\u001b[39;49m\u001b[39m.\u001b[39;49menv\u001b[39m.\u001b[39;49mstep(action)\n",
      "File \u001b[0;32m~/opt/anaconda3/envs/stable_b/lib/python3.9/site-packages/gym/wrappers/env_checker.py:39\u001b[0m, in \u001b[0;36mPassiveEnvChecker.step\u001b[0;34m(self, action)\u001b[0m\n\u001b[1;32m     37\u001b[0m     \u001b[39mreturn\u001b[39;00m env_step_passive_checker(\u001b[39mself\u001b[39m\u001b[39m.\u001b[39menv, action)\n\u001b[1;32m     38\u001b[0m \u001b[39melse\u001b[39;00m:\n\u001b[0;32m---> 39\u001b[0m     \u001b[39mreturn\u001b[39;00m \u001b[39mself\u001b[39;49m\u001b[39m.\u001b[39;49menv\u001b[39m.\u001b[39;49mstep(action)\n",
      "File \u001b[0;32m~/AdaptiveChessTutorRL/adaptive-tutor/adaptive_tutor/envs/puzzle_tutor_env.py:171\u001b[0m, in \u001b[0;36mPuzzleTutorEnv.step\u001b[0;34m(self, action_idx)\u001b[0m\n\u001b[1;32m    168\u001b[0m action \u001b[39m=\u001b[39m \u001b[39mself\u001b[39m\u001b[39m.\u001b[39maction_space_lst[action_idx]\n\u001b[1;32m    170\u001b[0m rating_bracket, theme \u001b[39m=\u001b[39m action\n\u001b[0;32m--> 171\u001b[0m sampled_puzzle \u001b[39m=\u001b[39m \u001b[39mself\u001b[39;49m\u001b[39m.\u001b[39;49m_set_puzzle(action)\n\u001b[1;32m    172\u001b[0m \u001b[39m# print(sampled_puzzle)\u001b[39;00m\n\u001b[1;32m    173\u001b[0m puzzle_success \u001b[39m=\u001b[39m \u001b[39mself\u001b[39m\u001b[39m.\u001b[39m_student_attempt_puzzle(sampled_puzzle)\n",
      "File \u001b[0;32m~/AdaptiveChessTutorRL/adaptive-tutor/adaptive_tutor/envs/puzzle_tutor_env.py:82\u001b[0m, in \u001b[0;36mPuzzleTutorEnv._set_puzzle\u001b[0;34m(self, action)\u001b[0m\n\u001b[1;32m     81\u001b[0m \u001b[39mdef\u001b[39;00m \u001b[39m_set_puzzle\u001b[39m(\u001b[39mself\u001b[39m, action):\n\u001b[0;32m---> 82\u001b[0m     \u001b[39mreturn\u001b[39;00m \u001b[39mself\u001b[39;49m\u001b[39m.\u001b[39;49mpuzzle_bank\u001b[39m.\u001b[39;49msample_puzzle(action)\n",
      "File \u001b[0;32m~/AdaptiveChessTutorRL/adaptive-tutor/adaptive_tutor/envs/components/puzzle_bank.py:20\u001b[0m, in \u001b[0;36mPuzzleBank.sample_puzzle\u001b[0;34m(self, action)\u001b[0m\n\u001b[1;32m     18\u001b[0m \u001b[39m# puzzleId = random.choice(self.bank.loc[action].PuzzleId)\u001b[39;00m\n\u001b[1;32m     19\u001b[0m puzzleId \u001b[39m=\u001b[39m \u001b[39mself\u001b[39m\u001b[39m.\u001b[39mbank\u001b[39m.\u001b[39mloc[action]\u001b[39m.\u001b[39mPuzzleId[\u001b[39m0\u001b[39m]\n\u001b[0;32m---> 20\u001b[0m \u001b[39mreturn\u001b[39;00m \u001b[39mself\u001b[39;49m\u001b[39m.\u001b[39;49m_get_puzzle(puzzleId)\n",
      "File \u001b[0;32m~/AdaptiveChessTutorRL/adaptive-tutor/adaptive_tutor/envs/components/puzzle_bank.py:11\u001b[0m, in \u001b[0;36mPuzzleBank._get_puzzle\u001b[0;34m(self, puzzleId)\u001b[0m\n\u001b[1;32m     10\u001b[0m \u001b[39mdef\u001b[39;00m \u001b[39m_get_puzzle\u001b[39m(\u001b[39mself\u001b[39m, puzzleId):\n\u001b[0;32m---> 11\u001b[0m     puzzle_row \u001b[39m=\u001b[39m \u001b[39mself\u001b[39m\u001b[39m.\u001b[39mlichess_data\u001b[39m.\u001b[39mloc[\u001b[39mself\u001b[39;49m\u001b[39m.\u001b[39;49mlichess_data\u001b[39m.\u001b[39;49mPuzzleId\u001b[39m==\u001b[39;49mpuzzleId]\u001b[39m.\u001b[39msqueeze()\n\u001b[1;32m     12\u001b[0m     \u001b[39mreturn\u001b[39;00m puzzle_row\n",
      "File \u001b[0;32m~/opt/anaconda3/envs/stable_b/lib/python3.9/site-packages/pandas/core/ops/common.py:76\u001b[0m, in \u001b[0;36m_unpack_zerodim_and_defer.<locals>.new_method\u001b[0;34m(self, other)\u001b[0m\n\u001b[1;32m     72\u001b[0m             \u001b[39mreturn\u001b[39;00m \u001b[39mNotImplemented\u001b[39m\n\u001b[1;32m     74\u001b[0m other \u001b[39m=\u001b[39m item_from_zerodim(other)\n\u001b[0;32m---> 76\u001b[0m \u001b[39mreturn\u001b[39;00m method(\u001b[39mself\u001b[39;49m, other)\n",
      "File \u001b[0;32m~/opt/anaconda3/envs/stable_b/lib/python3.9/site-packages/pandas/core/arraylike.py:40\u001b[0m, in \u001b[0;36mOpsMixin.__eq__\u001b[0;34m(self, other)\u001b[0m\n\u001b[1;32m     38\u001b[0m \u001b[39m@unpack_zerodim_and_defer\u001b[39m(\u001b[39m\"\u001b[39m\u001b[39m__eq__\u001b[39m\u001b[39m\"\u001b[39m)\n\u001b[1;32m     39\u001b[0m \u001b[39mdef\u001b[39;00m \u001b[39m__eq__\u001b[39m(\u001b[39mself\u001b[39m, other):\n\u001b[0;32m---> 40\u001b[0m     \u001b[39mreturn\u001b[39;00m \u001b[39mself\u001b[39;49m\u001b[39m.\u001b[39;49m_cmp_method(other, operator\u001b[39m.\u001b[39;49meq)\n",
      "File \u001b[0;32m~/opt/anaconda3/envs/stable_b/lib/python3.9/site-packages/pandas/core/series.py:6110\u001b[0m, in \u001b[0;36mSeries._cmp_method\u001b[0;34m(self, other, op)\u001b[0m\n\u001b[1;32m   6107\u001b[0m lvalues \u001b[39m=\u001b[39m \u001b[39mself\u001b[39m\u001b[39m.\u001b[39m_values\n\u001b[1;32m   6108\u001b[0m rvalues \u001b[39m=\u001b[39m extract_array(other, extract_numpy\u001b[39m=\u001b[39m\u001b[39mTrue\u001b[39;00m, extract_range\u001b[39m=\u001b[39m\u001b[39mTrue\u001b[39;00m)\n\u001b[0;32m-> 6110\u001b[0m res_values \u001b[39m=\u001b[39m ops\u001b[39m.\u001b[39;49mcomparison_op(lvalues, rvalues, op)\n\u001b[1;32m   6112\u001b[0m \u001b[39mreturn\u001b[39;00m \u001b[39mself\u001b[39m\u001b[39m.\u001b[39m_construct_result(res_values, name\u001b[39m=\u001b[39mres_name)\n",
      "File \u001b[0;32m~/opt/anaconda3/envs/stable_b/lib/python3.9/site-packages/pandas/core/ops/array_ops.py:344\u001b[0m, in \u001b[0;36mcomparison_op\u001b[0;34m(left, right, op)\u001b[0m\n\u001b[1;32m    341\u001b[0m     \u001b[39mreturn\u001b[39;00m invalid_comparison(lvalues, rvalues, op)\n\u001b[1;32m    343\u001b[0m \u001b[39melif\u001b[39;00m lvalues\u001b[39m.\u001b[39mdtype \u001b[39m==\u001b[39m \u001b[39mobject\u001b[39m \u001b[39mor\u001b[39;00m \u001b[39misinstance\u001b[39m(rvalues, \u001b[39mstr\u001b[39m):\n\u001b[0;32m--> 344\u001b[0m     res_values \u001b[39m=\u001b[39m comp_method_OBJECT_ARRAY(op, lvalues, rvalues)\n\u001b[1;32m    346\u001b[0m \u001b[39melse\u001b[39;00m:\n\u001b[1;32m    347\u001b[0m     res_values \u001b[39m=\u001b[39m _na_arithmetic_op(lvalues, rvalues, op, is_cmp\u001b[39m=\u001b[39m\u001b[39mTrue\u001b[39;00m)\n",
      "File \u001b[0;32m~/opt/anaconda3/envs/stable_b/lib/python3.9/site-packages/pandas/core/ops/array_ops.py:129\u001b[0m, in \u001b[0;36mcomp_method_OBJECT_ARRAY\u001b[0;34m(op, x, y)\u001b[0m\n\u001b[1;32m    127\u001b[0m     result \u001b[39m=\u001b[39m libops\u001b[39m.\u001b[39mvec_compare(x\u001b[39m.\u001b[39mravel(), y\u001b[39m.\u001b[39mravel(), op)\n\u001b[1;32m    128\u001b[0m \u001b[39melse\u001b[39;00m:\n\u001b[0;32m--> 129\u001b[0m     result \u001b[39m=\u001b[39m libops\u001b[39m.\u001b[39;49mscalar_compare(x\u001b[39m.\u001b[39;49mravel(), y, op)\n\u001b[1;32m    130\u001b[0m \u001b[39mreturn\u001b[39;00m result\u001b[39m.\u001b[39mreshape(x\u001b[39m.\u001b[39mshape)\n",
      "\u001b[0;31mKeyboardInterrupt\u001b[0m: "
     ]
    }
   ],
   "source": [
    "obs, info = env.reset()\n",
    "i=0\n",
    "while i<1:\n",
    "    print(obs)\n",
    "    action, _states = model.predict(obs, deterministic=False)\n",
    "    print(action_space[action])\n",
    "    obs, reward, terminated, truncated, info = env.step(action)\n",
    "    if terminated or truncated:\n",
    "        obs, info = env.reset()\n",
    "        i+=1"
   ]
  },
  {
   "cell_type": "code",
   "execution_count": 3,
   "metadata": {},
   "outputs": [],
   "source": [
    "import random\n",
    "action_space = list(np.load('adaptive_tutor/action_space_small.npy', allow_pickle=True))"
   ]
  },
  {
   "cell_type": "code",
   "execution_count": 4,
   "metadata": {},
   "outputs": [
    {
     "data": {
      "text/plain": [
       "('1100-1200', 'checkmate_patterns')"
      ]
     },
     "execution_count": 4,
     "metadata": {},
     "output_type": "execute_result"
    }
   ],
   "source": [
    "random.choice(action_space)"
   ]
  },
  {
   "cell_type": "code",
   "execution_count": 5,
   "metadata": {},
   "outputs": [],
   "source": [
    "# Random Action Selection Baseline"
   ]
  },
  {
   "cell_type": "code",
   "execution_count": 6,
   "metadata": {},
   "outputs": [
    {
     "name": "stderr",
     "output_type": "stream",
     "text": [
      "<UciProtocol (pid=47140)>: stderr >> \u001b[1m\u001b[31m       _\n",
      "<UciProtocol (pid=47140)>: stderr >> |   _ | |\n",
      "<UciProtocol (pid=47140)>: stderr >> |_ |_ |_|\u001b[0m v0.30.0+git.dirty built Jul 22 2023\n",
      "<UciProtocol (pid=47140)>: stderr >> Loading weights file from: ../maia_weights/maia_1100.pb\n",
      "<UciProtocol (pid=47140)>: stderr >> Creating backend [metal]...\n",
      "<UciProtocol (pid=47140)>: stderr >> Initialized metal backend on device Apple M1\n"
     ]
    },
    {
     "name": "stdout",
     "output_type": "stream",
     "text": [
      "../maia_weights/maia_1100.pb\n",
      "1\n",
      "Starting episode with x,y = 100 3\n"
     ]
    },
    {
     "name": "stderr",
     "output_type": "stream",
     "text": [
      "/Users/shikharrastogi/opt/anaconda3/envs/stable_b/lib/python3.9/site-packages/gym/utils/passive_env_checker.py:233: DeprecationWarning: `np.bool8` is a deprecated alias for `np.bool_`.  (Deprecated NumPy 1.24)\n",
      "  if not isinstance(terminated, (bool, np.bool8)):\n"
     ]
    },
    {
     "name": "stdout",
     "output_type": "stream",
     "text": [
      "../maia_weights/maia_1300.pb\n",
      "2\n",
      "Bot_Upgraded\n"
     ]
    },
    {
     "name": "stderr",
     "output_type": "stream",
     "text": [
      "<UciProtocol (pid=47142)>: stderr >> \u001b[1m\u001b[31m       _\n",
      "<UciProtocol (pid=47142)>: stderr >> |   _ | |\n",
      "<UciProtocol (pid=47142)>: stderr >> |_ |_ |_|\u001b[0m v0.30.0+git.dirty built Jul 22 2023\n",
      "<UciProtocol (pid=47142)>: stderr >> Loading weights file from: ../maia_weights/maia_1300.pb\n",
      "<UciProtocol (pid=47142)>: stderr >> Creating backend [metal]...\n",
      "<UciProtocol (pid=47142)>: stderr >> Initialized metal backend on device Apple M1\n"
     ]
    },
    {
     "name": "stdout",
     "output_type": "stream",
     "text": [
      "../maia_weights/maia_1500.pb\n"
     ]
    },
    {
     "name": "stderr",
     "output_type": "stream",
     "text": [
      "<UciProtocol (pid=47148)>: stderr >> \u001b[1m\u001b[31m       _\n",
      "<UciProtocol (pid=47148)>: stderr >> |   _ | |\n",
      "<UciProtocol (pid=47148)>: stderr >> |_ |_ |_|\u001b[0m v0.30.0+git.dirty built Jul 22 2023\n",
      "<UciProtocol (pid=47148)>: stderr >> Loading weights file from: ../maia_weights/maia_1500.pb\n",
      "<UciProtocol (pid=47148)>: stderr >> Creating backend [metal]...\n",
      "<UciProtocol (pid=47148)>: stderr >> Initialized metal backend on device Apple M1\n"
     ]
    },
    {
     "name": "stdout",
     "output_type": "stream",
     "text": [
      "3\n",
      "Bot_Upgraded\n",
      "../maia_weights/maia_1700.pb\n"
     ]
    },
    {
     "name": "stderr",
     "output_type": "stream",
     "text": [
      "<UciProtocol (pid=47151)>: stderr >> \u001b[1m\u001b[31m       _\n",
      "<UciProtocol (pid=47151)>: stderr >> |   _ | |\n",
      "<UciProtocol (pid=47151)>: stderr >> |_ |_ |_|\u001b[0m v0.30.0+git.dirty built Jul 22 2023\n",
      "<UciProtocol (pid=47151)>: stderr >> Loading weights file from: ../maia_weights/maia_1100.pb\n",
      "<UciProtocol (pid=47151)>: stderr >> Creating backend [metal]...\n",
      "<UciProtocol (pid=47151)>: stderr >> Initialized metal backend on device Apple M1\n"
     ]
    },
    {
     "name": "stdout",
     "output_type": "stream",
     "text": [
      "4\n",
      "Bot_Upgraded\n",
      "Number of steps 30\n",
      "../maia_weights/maia_1100.pb\n",
      "1\n",
      "Starting episode with x,y = 100 3\n",
      "../maia_weights/maia_1300.pb\n"
     ]
    },
    {
     "name": "stderr",
     "output_type": "stream",
     "text": [
      "<UciProtocol (pid=47153)>: stderr >> \u001b[1m\u001b[31m       _\n",
      "<UciProtocol (pid=47153)>: stderr >> |   _ | |\n",
      "<UciProtocol (pid=47153)>: stderr >> |_ |_ |_|\u001b[0m v0.30.0+git.dirty built Jul 22 2023\n",
      "<UciProtocol (pid=47153)>: stderr >> Loading weights file from: ../maia_weights/maia_1300.pb\n",
      "<UciProtocol (pid=47153)>: stderr >> Creating backend [metal]...\n",
      "<UciProtocol (pid=47153)>: stderr >> Initialized metal backend on device Apple M1\n"
     ]
    },
    {
     "name": "stdout",
     "output_type": "stream",
     "text": [
      "2\n",
      "Bot_Upgraded\n",
      "../maia_weights/maia_1500.pb\n"
     ]
    },
    {
     "name": "stderr",
     "output_type": "stream",
     "text": [
      "<UciProtocol (pid=47156)>: stderr >> \u001b[1m\u001b[31m       _\n",
      "<UciProtocol (pid=47156)>: stderr >> |   _ | |\n",
      "<UciProtocol (pid=47156)>: stderr >> |_ |_ |_|\u001b[0m v0.30.0+git.dirty built Jul 22 2023\n",
      "<UciProtocol (pid=47156)>: stderr >> Loading weights file from: ../maia_weights/maia_1500.pb\n",
      "<UciProtocol (pid=47156)>: stderr >> Creating backend [metal]...\n",
      "<UciProtocol (pid=47156)>: stderr >> Initialized metal backend on device Apple M1\n"
     ]
    },
    {
     "name": "stdout",
     "output_type": "stream",
     "text": [
      "3\n",
      "Bot_Upgraded\n",
      "../maia_weights/maia_1700.pb\n"
     ]
    },
    {
     "name": "stderr",
     "output_type": "stream",
     "text": [
      "<UciProtocol (pid=47157)>: stderr >> \u001b[1m\u001b[31m       _\n",
      "<UciProtocol (pid=47157)>: stderr >> |   _ | |\n",
      "<UciProtocol (pid=47157)>: stderr >> |_ |_ |_|\u001b[0m v0.30.0+git.dirty built Jul 22 2023\n",
      "<UciProtocol (pid=47157)>: stderr >> Loading weights file from: ../maia_weights/maia_1100.pb\n",
      "<UciProtocol (pid=47157)>: stderr >> Creating backend [metal]...\n",
      "<UciProtocol (pid=47157)>: stderr >> Initialized metal backend on device Apple M1\n"
     ]
    },
    {
     "name": "stdout",
     "output_type": "stream",
     "text": [
      "4\n",
      "Bot_Upgraded\n",
      "Number of steps 35\n",
      "../maia_weights/maia_1100.pb\n",
      "1\n",
      "Starting episode with x,y = 100 3\n",
      "../maia_weights/maia_1300.pb\n"
     ]
    },
    {
     "name": "stderr",
     "output_type": "stream",
     "text": [
      "<UciProtocol (pid=47161)>: stderr >> \u001b[1m\u001b[31m       _\n",
      "<UciProtocol (pid=47161)>: stderr >> |   _ | |\n",
      "<UciProtocol (pid=47161)>: stderr >> |_ |_ |_|\u001b[0m v0.30.0+git.dirty built Jul 22 2023\n",
      "<UciProtocol (pid=47161)>: stderr >> Loading weights file from: ../maia_weights/maia_1300.pb\n",
      "<UciProtocol (pid=47161)>: stderr >> Creating backend [metal]...\n",
      "<UciProtocol (pid=47161)>: stderr >> Initialized metal backend on device Apple M1\n"
     ]
    },
    {
     "name": "stdout",
     "output_type": "stream",
     "text": [
      "2\n",
      "Bot_Upgraded\n",
      "../maia_weights/maia_1500.pb\n"
     ]
    },
    {
     "name": "stderr",
     "output_type": "stream",
     "text": [
      "<UciProtocol (pid=47166)>: stderr >> \u001b[1m\u001b[31m       _\n",
      "<UciProtocol (pid=47166)>: stderr >> |   _ | |\n",
      "<UciProtocol (pid=47166)>: stderr >> |_ |_ |_|\u001b[0m v0.30.0+git.dirty built Jul 22 2023\n",
      "<UciProtocol (pid=47166)>: stderr >> Loading weights file from: ../maia_weights/maia_1500.pb\n",
      "<UciProtocol (pid=47166)>: stderr >> Creating backend [metal]...\n",
      "<UciProtocol (pid=47166)>: stderr >> Initialized metal backend on device Apple M1\n"
     ]
    },
    {
     "name": "stdout",
     "output_type": "stream",
     "text": [
      "3\n",
      "Bot_Upgraded\n",
      "../maia_weights/maia_1700.pb\n"
     ]
    },
    {
     "name": "stderr",
     "output_type": "stream",
     "text": [
      "<UciProtocol (pid=47169)>: stderr >> \u001b[1m\u001b[31m       _\n",
      "<UciProtocol (pid=47169)>: stderr >> |   _ | |\n",
      "<UciProtocol (pid=47169)>: stderr >> |_ |_ |_|\u001b[0m v0.30.0+git.dirty built Jul 22 2023\n",
      "<UciProtocol (pid=47169)>: stderr >> Loading weights file from: ../maia_weights/maia_1100.pb\n",
      "<UciProtocol (pid=47169)>: stderr >> Creating backend [metal]...\n",
      "<UciProtocol (pid=47169)>: stderr >> Initialized metal backend on device Apple M1\n"
     ]
    },
    {
     "name": "stdout",
     "output_type": "stream",
     "text": [
      "4\n",
      "Bot_Upgraded\n",
      "Number of steps 40\n",
      "../maia_weights/maia_1100.pb\n",
      "1\n",
      "Starting episode with x,y = 100 3\n",
      "../maia_weights/maia_1300.pb\n",
      "2\n",
      "Bot_Upgraded\n"
     ]
    },
    {
     "name": "stderr",
     "output_type": "stream",
     "text": [
      "<UciProtocol (pid=47172)>: stderr >> \u001b[1m\u001b[31m       _\n",
      "<UciProtocol (pid=47172)>: stderr >> |   _ | |\n",
      "<UciProtocol (pid=47172)>: stderr >> |_ |_ |_|\u001b[0m v0.30.0+git.dirty built Jul 22 2023\n",
      "<UciProtocol (pid=47172)>: stderr >> Loading weights file from: ../maia_weights/maia_1300.pb\n",
      "<UciProtocol (pid=47172)>: stderr >> Creating backend [metal]...\n",
      "<UciProtocol (pid=47172)>: stderr >> Initialized metal backend on device Apple M1\n"
     ]
    },
    {
     "name": "stdout",
     "output_type": "stream",
     "text": [
      "../maia_weights/maia_1500.pb\n",
      "3\n",
      "Bot_Upgraded\n"
     ]
    },
    {
     "name": "stderr",
     "output_type": "stream",
     "text": [
      "<UciProtocol (pid=47174)>: stderr >> \u001b[1m\u001b[31m       _\n",
      "<UciProtocol (pid=47174)>: stderr >> |   _ | |\n",
      "<UciProtocol (pid=47174)>: stderr >> |_ |_ |_|\u001b[0m v0.30.0+git.dirty built Jul 22 2023\n",
      "<UciProtocol (pid=47174)>: stderr >> Loading weights file from: ../maia_weights/maia_1500.pb\n",
      "<UciProtocol (pid=47174)>: stderr >> Creating backend [metal]...\n",
      "<UciProtocol (pid=47174)>: stderr >> Initialized metal backend on device Apple M1\n"
     ]
    },
    {
     "name": "stdout",
     "output_type": "stream",
     "text": [
      "../maia_weights/maia_1700.pb\n"
     ]
    },
    {
     "name": "stderr",
     "output_type": "stream",
     "text": [
      "<UciProtocol (pid=47180)>: stderr >> \u001b[1m\u001b[31m       _\n",
      "<UciProtocol (pid=47180)>: stderr >> |   _ | |\n",
      "<UciProtocol (pid=47180)>: stderr >> |_ |_ |_|\u001b[0m v0.30.0+git.dirty built Jul 22 2023\n",
      "<UciProtocol (pid=47180)>: stderr >> Loading weights file from: ../maia_weights/maia_1100.pb\n",
      "<UciProtocol (pid=47180)>: stderr >> Creating backend [metal]...\n",
      "<UciProtocol (pid=47180)>: stderr >> Initialized metal backend on device Apple M1\n"
     ]
    },
    {
     "name": "stdout",
     "output_type": "stream",
     "text": [
      "4\n",
      "Bot_Upgraded\n",
      "Number of steps 50\n",
      "../maia_weights/maia_1100.pb\n",
      "1\n",
      "Starting episode with x,y = 100 3\n",
      "../maia_weights/maia_1300.pb\n"
     ]
    },
    {
     "name": "stderr",
     "output_type": "stream",
     "text": [
      "<UciProtocol (pid=47182)>: stderr >> \u001b[1m\u001b[31m       _\n",
      "<UciProtocol (pid=47182)>: stderr >> |   _ | |\n",
      "<UciProtocol (pid=47182)>: stderr >> |_ |_ |_|\u001b[0m v0.30.0+git.dirty built Jul 22 2023\n",
      "<UciProtocol (pid=47182)>: stderr >> Loading weights file from: ../maia_weights/maia_1300.pb\n",
      "<UciProtocol (pid=47182)>: stderr >> Creating backend [metal]...\n",
      "<UciProtocol (pid=47182)>: stderr >> Initialized metal backend on device Apple M1\n"
     ]
    },
    {
     "name": "stdout",
     "output_type": "stream",
     "text": [
      "2\n",
      "Bot_Upgraded\n",
      "../maia_weights/maia_1500.pb\n"
     ]
    },
    {
     "name": "stderr",
     "output_type": "stream",
     "text": [
      "<UciProtocol (pid=47187)>: stderr >> \u001b[1m\u001b[31m       _\n",
      "<UciProtocol (pid=47187)>: stderr >> |   _ | |\n",
      "<UciProtocol (pid=47187)>: stderr >> |_ |_ |_|\u001b[0m v0.30.0+git.dirty built Jul 22 2023\n",
      "<UciProtocol (pid=47187)>: stderr >> Loading weights file from: ../maia_weights/maia_1500.pb\n",
      "<UciProtocol (pid=47187)>: stderr >> Creating backend [metal]...\n",
      "<UciProtocol (pid=47187)>: stderr >> Initialized metal backend on device Apple M1\n"
     ]
    },
    {
     "name": "stdout",
     "output_type": "stream",
     "text": [
      "3\n",
      "Bot_Upgraded\n",
      "../maia_weights/maia_1700.pb\n"
     ]
    },
    {
     "name": "stderr",
     "output_type": "stream",
     "text": [
      "<UciProtocol (pid=47190)>: stderr >> \u001b[1m\u001b[31m       _\n",
      "<UciProtocol (pid=47190)>: stderr >> |   _ | |\n",
      "<UciProtocol (pid=47190)>: stderr >> |_ |_ |_|\u001b[0m v0.30.0+git.dirty built Jul 22 2023\n",
      "<UciProtocol (pid=47190)>: stderr >> Loading weights file from: ../maia_weights/maia_1100.pb\n",
      "<UciProtocol (pid=47190)>: stderr >> Creating backend [metal]...\n",
      "<UciProtocol (pid=47190)>: stderr >> Initialized metal backend on device Apple M1\n"
     ]
    },
    {
     "name": "stdout",
     "output_type": "stream",
     "text": [
      "4\n",
      "Bot_Upgraded\n",
      "Number of steps 49\n",
      "../maia_weights/maia_1100.pb\n",
      "1\n",
      "Starting episode with x,y = 100 3\n",
      "../maia_weights/maia_1300.pb\n",
      "2\n",
      "Bot_Upgraded\n"
     ]
    },
    {
     "name": "stderr",
     "output_type": "stream",
     "text": [
      "<UciProtocol (pid=47194)>: stderr >> \u001b[1m\u001b[31m       _\n",
      "<UciProtocol (pid=47194)>: stderr >> |   _ | |\n",
      "<UciProtocol (pid=47194)>: stderr >> |_ |_ |_|\u001b[0m v0.30.0+git.dirty built Jul 22 2023\n",
      "<UciProtocol (pid=47194)>: stderr >> Loading weights file from: ../maia_weights/maia_1300.pb\n",
      "<UciProtocol (pid=47194)>: stderr >> Creating backend [metal]...\n",
      "<UciProtocol (pid=47194)>: stderr >> Initialized metal backend on device Apple M1\n"
     ]
    },
    {
     "name": "stdout",
     "output_type": "stream",
     "text": [
      "../maia_weights/maia_1500.pb\n"
     ]
    },
    {
     "name": "stderr",
     "output_type": "stream",
     "text": [
      "<UciProtocol (pid=47197)>: stderr >> \u001b[1m\u001b[31m       _\n",
      "<UciProtocol (pid=47197)>: stderr >> |   _ | |\n",
      "<UciProtocol (pid=47197)>: stderr >> |_ |_ |_|\u001b[0m v0.30.0+git.dirty built Jul 22 2023\n",
      "<UciProtocol (pid=47197)>: stderr >> Loading weights file from: ../maia_weights/maia_1500.pb\n",
      "<UciProtocol (pid=47197)>: stderr >> Creating backend [metal]...\n",
      "<UciProtocol (pid=47197)>: stderr >> Initialized metal backend on device Apple M1\n"
     ]
    },
    {
     "name": "stdout",
     "output_type": "stream",
     "text": [
      "3\n",
      "Bot_Upgraded\n",
      "../maia_weights/maia_1700.pb\n",
      "4\n",
      "Bot_Upgraded\n",
      "Number of steps 32\n",
      "../maia_weights/maia_1100.pb\n",
      "1\n",
      "Starting episode with x,y = 100 3\n"
     ]
    },
    {
     "name": "stderr",
     "output_type": "stream",
     "text": [
      "<UciProtocol (pid=47199)>: stderr >> \u001b[1m\u001b[31m       _\n",
      "<UciProtocol (pid=47199)>: stderr >> |   _ | |\n",
      "<UciProtocol (pid=47199)>: stderr >> |_ |_ |_|\u001b[0m v0.30.0+git.dirty built Jul 22 2023\n",
      "<UciProtocol (pid=47199)>: stderr >> Loading weights file from: ../maia_weights/maia_1100.pb\n",
      "<UciProtocol (pid=47199)>: stderr >> Creating backend [metal]...\n",
      "<UciProtocol (pid=47199)>: stderr >> Initialized metal backend on device Apple M1\n"
     ]
    },
    {
     "name": "stdout",
     "output_type": "stream",
     "text": [
      "../maia_weights/maia_1300.pb\n"
     ]
    },
    {
     "name": "stderr",
     "output_type": "stream",
     "text": [
      "<UciProtocol (pid=47204)>: stderr >> \u001b[1m\u001b[31m       _\n",
      "<UciProtocol (pid=47204)>: stderr >> |   _ | |\n",
      "<UciProtocol (pid=47204)>: stderr >> |_ |_ |_|\u001b[0m v0.30.0+git.dirty built Jul 22 2023\n",
      "<UciProtocol (pid=47204)>: stderr >> Loading weights file from: ../maia_weights/maia_1300.pb\n",
      "<UciProtocol (pid=47204)>: stderr >> Creating backend [metal]...\n",
      "<UciProtocol (pid=47204)>: stderr >> Initialized metal backend on device Apple M1\n"
     ]
    },
    {
     "name": "stdout",
     "output_type": "stream",
     "text": [
      "2\n",
      "Bot_Upgraded\n",
      "../maia_weights/maia_1500.pb\n",
      "3\n",
      "Bot_Upgraded\n"
     ]
    },
    {
     "name": "stderr",
     "output_type": "stream",
     "text": [
      "<UciProtocol (pid=47205)>: stderr >> \u001b[1m\u001b[31m       _\n",
      "<UciProtocol (pid=47205)>: stderr >> |   _ | |\n",
      "<UciProtocol (pid=47205)>: stderr >> |_ |_ |_|\u001b[0m v0.30.0+git.dirty built Jul 22 2023\n",
      "<UciProtocol (pid=47205)>: stderr >> Loading weights file from: ../maia_weights/maia_1500.pb\n",
      "<UciProtocol (pid=47205)>: stderr >> Creating backend [metal]...\n",
      "<UciProtocol (pid=47205)>: stderr >> Initialized metal backend on device Apple M1\n"
     ]
    },
    {
     "name": "stdout",
     "output_type": "stream",
     "text": [
      "../maia_weights/maia_1700.pb\n"
     ]
    },
    {
     "name": "stderr",
     "output_type": "stream",
     "text": [
      "<UciProtocol (pid=47208)>: stderr >> \u001b[1m\u001b[31m       _\n",
      "<UciProtocol (pid=47208)>: stderr >> |   _ | |\n",
      "<UciProtocol (pid=47208)>: stderr >> |_ |_ |_|\u001b[0m v0.30.0+git.dirty built Jul 22 2023\n",
      "<UciProtocol (pid=47208)>: stderr >> Loading weights file from: ../maia_weights/maia_1100.pb\n",
      "<UciProtocol (pid=47208)>: stderr >> Creating backend [metal]...\n",
      "<UciProtocol (pid=47208)>: stderr >> Initialized metal backend on device Apple M1\n"
     ]
    },
    {
     "name": "stdout",
     "output_type": "stream",
     "text": [
      "4\n",
      "Bot_Upgraded\n",
      "Number of steps 45\n",
      "../maia_weights/maia_1100.pb\n",
      "1\n",
      "Starting episode with x,y = 100 3\n",
      "../maia_weights/maia_1300.pb\n",
      "2\n",
      "Bot_Upgraded\n"
     ]
    },
    {
     "name": "stderr",
     "output_type": "stream",
     "text": [
      "<UciProtocol (pid=47217)>: stderr >> \u001b[1m\u001b[31m       _\n",
      "<UciProtocol (pid=47217)>: stderr >> |   _ | |\n",
      "<UciProtocol (pid=47217)>: stderr >> |_ |_ |_|\u001b[0m v0.30.0+git.dirty built Jul 22 2023\n",
      "<UciProtocol (pid=47217)>: stderr >> Loading weights file from: ../maia_weights/maia_1300.pb\n",
      "<UciProtocol (pid=47217)>: stderr >> Creating backend [metal]...\n",
      "<UciProtocol (pid=47217)>: stderr >> Initialized metal backend on device Apple M1\n"
     ]
    },
    {
     "name": "stdout",
     "output_type": "stream",
     "text": [
      "../maia_weights/maia_1500.pb\n"
     ]
    },
    {
     "name": "stderr",
     "output_type": "stream",
     "text": [
      "<UciProtocol (pid=47218)>: stderr >> \u001b[1m\u001b[31m       _\n",
      "<UciProtocol (pid=47218)>: stderr >> |   _ | |\n",
      "<UciProtocol (pid=47218)>: stderr >> |_ |_ |_|\u001b[0m v0.30.0+git.dirty built Jul 22 2023\n",
      "<UciProtocol (pid=47218)>: stderr >> Loading weights file from: ../maia_weights/maia_1500.pb\n",
      "<UciProtocol (pid=47218)>: stderr >> Creating backend [metal]...\n",
      "<UciProtocol (pid=47218)>: stderr >> Initialized metal backend on device Apple M1\n"
     ]
    },
    {
     "name": "stdout",
     "output_type": "stream",
     "text": [
      "3\n",
      "Bot_Upgraded\n",
      "../maia_weights/maia_1700.pb\n",
      "4\n",
      "Bot_Upgraded\n",
      "Number of steps 58\n",
      "../maia_weights/maia_1100.pb\n",
      "1\n",
      "Starting episode with x,y = 100 3\n"
     ]
    },
    {
     "name": "stderr",
     "output_type": "stream",
     "text": [
      "<UciProtocol (pid=47221)>: stderr >> \u001b[1m\u001b[31m       _\n",
      "<UciProtocol (pid=47221)>: stderr >> |   _ | |\n",
      "<UciProtocol (pid=47221)>: stderr >> |_ |_ |_|\u001b[0m v0.30.0+git.dirty built Jul 22 2023\n",
      "<UciProtocol (pid=47221)>: stderr >> Loading weights file from: ../maia_weights/maia_1100.pb\n",
      "<UciProtocol (pid=47221)>: stderr >> Creating backend [metal]...\n",
      "<UciProtocol (pid=47221)>: stderr >> Initialized metal backend on device Apple M1\n"
     ]
    },
    {
     "name": "stdout",
     "output_type": "stream",
     "text": [
      "../maia_weights/maia_1300.pb\n"
     ]
    },
    {
     "name": "stderr",
     "output_type": "stream",
     "text": [
      "<UciProtocol (pid=47228)>: stderr >> \u001b[1m\u001b[31m       _\n",
      "<UciProtocol (pid=47228)>: stderr >> |   _ | |\n",
      "<UciProtocol (pid=47228)>: stderr >> |_ |_ |_|\u001b[0m v0.30.0+git.dirty built Jul 22 2023\n",
      "<UciProtocol (pid=47228)>: stderr >> Loading weights file from: ../maia_weights/maia_1300.pb\n",
      "<UciProtocol (pid=47228)>: stderr >> Creating backend [metal]...\n",
      "<UciProtocol (pid=47228)>: stderr >> Initialized metal backend on device Apple M1\n"
     ]
    },
    {
     "name": "stdout",
     "output_type": "stream",
     "text": [
      "2\n",
      "Bot_Upgraded\n",
      "../maia_weights/maia_1500.pb\n"
     ]
    },
    {
     "name": "stderr",
     "output_type": "stream",
     "text": [
      "<UciProtocol (pid=47230)>: stderr >> \u001b[1m\u001b[31m       _\n",
      "<UciProtocol (pid=47230)>: stderr >> |   _ | |\n",
      "<UciProtocol (pid=47230)>: stderr >> |_ |_ |_|\u001b[0m v0.30.0+git.dirty built Jul 22 2023\n",
      "<UciProtocol (pid=47230)>: stderr >> Loading weights file from: ../maia_weights/maia_1500.pb\n",
      "<UciProtocol (pid=47230)>: stderr >> Creating backend [metal]...\n",
      "<UciProtocol (pid=47230)>: stderr >> Initialized metal backend on device Apple M1\n"
     ]
    },
    {
     "name": "stdout",
     "output_type": "stream",
     "text": [
      "3\n",
      "Bot_Upgraded\n",
      "../maia_weights/maia_1700.pb\n"
     ]
    },
    {
     "name": "stderr",
     "output_type": "stream",
     "text": [
      "<UciProtocol (pid=47235)>: stderr >> \u001b[1m\u001b[31m       _\n",
      "<UciProtocol (pid=47235)>: stderr >> |   _ | |\n",
      "<UciProtocol (pid=47235)>: stderr >> |_ |_ |_|\u001b[0m v0.30.0+git.dirty built Jul 22 2023\n",
      "<UciProtocol (pid=47235)>: stderr >> Loading weights file from: ../maia_weights/maia_1100.pb\n",
      "<UciProtocol (pid=47235)>: stderr >> Creating backend [metal]...\n",
      "<UciProtocol (pid=47235)>: stderr >> Initialized metal backend on device Apple M1\n"
     ]
    },
    {
     "name": "stdout",
     "output_type": "stream",
     "text": [
      "4\n",
      "Bot_Upgraded\n",
      "Number of steps 61\n",
      "../maia_weights/maia_1100.pb\n",
      "1\n",
      "Starting episode with x,y = 100 3\n",
      "../maia_weights/maia_1300.pb\n",
      "2\n",
      "Bot_Upgraded\n"
     ]
    },
    {
     "name": "stderr",
     "output_type": "stream",
     "text": [
      "<UciProtocol (pid=47240)>: stderr >> \u001b[1m\u001b[31m       _\n",
      "<UciProtocol (pid=47240)>: stderr >> |   _ | |\n",
      "<UciProtocol (pid=47240)>: stderr >> |_ |_ |_|\u001b[0m v0.30.0+git.dirty built Jul 22 2023\n",
      "<UciProtocol (pid=47240)>: stderr >> Loading weights file from: ../maia_weights/maia_1300.pb\n",
      "<UciProtocol (pid=47240)>: stderr >> Creating backend [metal]...\n",
      "<UciProtocol (pid=47240)>: stderr >> Initialized metal backend on device Apple M1\n"
     ]
    },
    {
     "name": "stdout",
     "output_type": "stream",
     "text": [
      "../maia_weights/maia_1500.pb\n"
     ]
    },
    {
     "name": "stderr",
     "output_type": "stream",
     "text": [
      "<UciProtocol (pid=47243)>: stderr >> \u001b[1m\u001b[31m       _\n",
      "<UciProtocol (pid=47243)>: stderr >> |   _ | |\n",
      "<UciProtocol (pid=47243)>: stderr >> |_ |_ |_|\u001b[0m v0.30.0+git.dirty built Jul 22 2023\n",
      "<UciProtocol (pid=47243)>: stderr >> Loading weights file from: ../maia_weights/maia_1500.pb\n",
      "<UciProtocol (pid=47243)>: stderr >> Creating backend [metal]...\n",
      "<UciProtocol (pid=47243)>: stderr >> Initialized metal backend on device Apple M1\n"
     ]
    },
    {
     "name": "stdout",
     "output_type": "stream",
     "text": [
      "3\n",
      "Bot_Upgraded\n",
      "../maia_weights/maia_1700.pb\n",
      "4\n",
      "Bot_Upgraded\n",
      "Number of steps 40\n",
      "../maia_weights/maia_1100.pb\n",
      "1\n",
      "Starting episode with x,y = 100 3\n"
     ]
    }
   ],
   "source": [
    "num_steps_arr = []\n",
    "obs, info = env.reset()\n",
    "i=0\n",
    "for i in range(10):\n",
    "    num_steps = 0\n",
    "    while True:\n",
    "        action = random.choice(action_space)\n",
    "        obs, reward, terminated, truncated, info = env.step(action_space.index(action))\n",
    "        num_steps+=1\n",
    "        if terminated or truncated:\n",
    "            obs, info = env.reset()\n",
    "            num_steps_arr.append(num_steps)\n",
    "            break\n"
   ]
  },
  {
   "cell_type": "code",
   "execution_count": 7,
   "metadata": {},
   "outputs": [
    {
     "data": {
      "text/plain": [
       "44.0"
      ]
     },
     "execution_count": 7,
     "metadata": {},
     "output_type": "execute_result"
    }
   ],
   "source": [
    "sum(num_steps_arr)/len(num_steps_arr)"
   ]
  },
  {
   "cell_type": "code",
   "execution_count": 8,
   "metadata": {},
   "outputs": [
    {
     "data": {
      "text/plain": [
       "44.0"
      ]
     },
     "execution_count": 8,
     "metadata": {},
     "output_type": "execute_result"
    }
   ],
   "source": [
    "np.mean(num_steps_arr)"
   ]
  },
  {
   "cell_type": "code",
   "execution_count": 9,
   "metadata": {},
   "outputs": [
    {
     "data": {
      "text/plain": [
       "10.0"
      ]
     },
     "execution_count": 9,
     "metadata": {},
     "output_type": "execute_result"
    }
   ],
   "source": [
    "np.std(np.array(num_steps_arr))"
   ]
  },
  {
   "cell_type": "code",
   "execution_count": 19,
   "metadata": {},
   "outputs": [
    {
     "data": {
      "text/plain": [
       "[13,\n",
       " 4,\n",
       " 4,\n",
       " 41,\n",
       " 4,\n",
       " 41,\n",
       " 36,\n",
       " 17,\n",
       " 32,\n",
       " 20,\n",
       " 42,\n",
       " 20,\n",
       " 5,\n",
       " 11,\n",
       " 47,\n",
       " 7,\n",
       " 5,\n",
       " 4,\n",
       " 13,\n",
       " 35,\n",
       " 16,\n",
       " 38,\n",
       " 25,\n",
       " 11,\n",
       " 32,\n",
       " 5,\n",
       " 20,\n",
       " 16,\n",
       " 47,\n",
       " 10,\n",
       " 12,\n",
       " 32,\n",
       " 46,\n",
       " 4,\n",
       " 12,\n",
       " 6,\n",
       " 36,\n",
       " 34,\n",
       " 9,\n",
       " 4,\n",
       " 48,\n",
       " 37,\n",
       " 5,\n",
       " 49,\n",
       " 21,\n",
       " 12,\n",
       " 42,\n",
       " 8,\n",
       " 8,\n",
       " 35,\n",
       " 36,\n",
       " 38,\n",
       " 27,\n",
       " 20,\n",
       " 10,\n",
       " 18,\n",
       " 7,\n",
       " 7,\n",
       " 7,\n",
       " 35,\n",
       " 9,\n",
       " 18,\n",
       " 48,\n",
       " 31,\n",
       " 45,\n",
       " 27,\n",
       " 41,\n",
       " 20,\n",
       " 37,\n",
       " 17,\n",
       " 5,\n",
       " 14,\n",
       " 29,\n",
       " 5,\n",
       " 7,\n",
       " 9,\n",
       " 8,\n",
       " 20,\n",
       " 8,\n",
       " 40,\n",
       " 4,\n",
       " 6,\n",
       " 11,\n",
       " 16,\n",
       " 33,\n",
       " 30,\n",
       " 4,\n",
       " 4,\n",
       " 33,\n",
       " 6,\n",
       " 12,\n",
       " 35,\n",
       " 15,\n",
       " 43,\n",
       " 36,\n",
       " 12,\n",
       " 48,\n",
       " 30,\n",
       " 45,\n",
       " 36]"
      ]
     },
     "execution_count": 19,
     "metadata": {},
     "output_type": "execute_result"
    }
   ],
   "source": [
    "num_steps_arr"
   ]
  },
  {
   "cell_type": "code",
   "execution_count": null,
   "metadata": {},
   "outputs": [],
   "source": []
  }
 ],
 "metadata": {
  "kernelspec": {
   "display_name": "stable_b",
   "language": "python",
   "name": "python3"
  },
  "language_info": {
   "codemirror_mode": {
    "name": "ipython",
    "version": 3
   },
   "file_extension": ".py",
   "mimetype": "text/x-python",
   "name": "python",
   "nbconvert_exporter": "python",
   "pygments_lexer": "ipython3",
   "version": "3.9.19"
  },
  "orig_nbformat": 4
 },
 "nbformat": 4,
 "nbformat_minor": 2
}
