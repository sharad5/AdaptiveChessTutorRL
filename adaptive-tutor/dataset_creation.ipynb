{
 "cells": [
  {
   "cell_type": "code",
   "execution_count": 14,
   "metadata": {},
   "outputs": [],
   "source": [
    "import pandas as pd\n",
    "import numpy as np\n",
    "from tqdm import tqdm\n",
    "\n",
    "from collections import defaultdict"
   ]
  },
  {
   "cell_type": "code",
   "execution_count": 15,
   "metadata": {},
   "outputs": [],
   "source": [
    "puzzle_data = pd.read_csv('/Users/shikharrastogi/Downloads/lichess_db_puzzle.csv')"
   ]
  },
  {
   "cell_type": "code",
   "execution_count": 16,
   "metadata": {},
   "outputs": [],
   "source": [
    "puzzle_data['themes_list'] = puzzle_data.Themes.apply(lambda x: x.strip().split(' '))"
   ]
  },
  {
   "cell_type": "code",
   "execution_count": 17,
   "metadata": {},
   "outputs": [],
   "source": [
    "# all_themes = set()\n",
    "# for idx, row in puzzle_data.iterrows():\n",
    "#     for t in row['themes_list']:\n",
    "#         all_themes.add(t)"
   ]
  },
  {
   "cell_type": "code",
   "execution_count": 52,
   "metadata": {},
   "outputs": [
    {
     "data": {
      "text/plain": [
       "dict_keys(['checkmate_patterns', 'tactical_themes', 'strategic_concepts', 'pawn_related_themes', 'piece_specific_endgames'])"
      ]
     },
     "execution_count": 52,
     "metadata": {},
     "output_type": "execute_result"
    }
   ],
   "source": [
    "chess_theme_dict.keys()"
   ]
  },
  {
   "cell_type": "code",
   "execution_count": 18,
   "metadata": {},
   "outputs": [],
   "source": [
    "chess_theme_dict = {\n",
    "    \"checkmate_patterns\": {\n",
    "        'anastasiaMate',\n",
    "        'arabianMate',\n",
    "        'backRankMate',\n",
    "        'bodenMate',\n",
    "        'doubleBishopMate',\n",
    "        'dovetailMate',\n",
    "        'hookMate',\n",
    "        'smotheredMate'\n",
    "    },\n",
    "    # \"checkmating_tactics\": {\n",
    "    #     'crushing',\n",
    "    #     'mate',\n",
    "    #     'mateIn1',\n",
    "    #     'mateIn2',\n",
    "    #     'mateIn3',\n",
    "    #     'mateIn4',\n",
    "    #     'mateIn5'\n",
    "    # },\n",
    "    \"tactical_themes\": {\n",
    "        'capturingDefender',\n",
    "        'deflection',\n",
    "        'discoveredAttack',\n",
    "        'doubleCheck',\n",
    "        'fork',\n",
    "        'hangingPiece',\n",
    "        'pin',\n",
    "        'skewer',\n",
    "        'xRayAttack'\n",
    "    },\n",
    "    # \"advanced_tactical_themes\": {\n",
    "    #     'attraction',\n",
    "    #     'clearance',\n",
    "    #     'interference',\n",
    "    #     'intermezzo',\n",
    "    #     'sacrifice'\n",
    "    # },\n",
    "    \"strategic_concepts\": {\n",
    "        'advantage',\n",
    "        'endgame',\n",
    "        'equality',\n",
    "        'middlegame',\n",
    "        'opening'\n",
    "    },\n",
    "    \"pawn_related_themes\": {\n",
    "        'advancedPawn',\n",
    "        'enPassant',\n",
    "        'pawnEndgame',\n",
    "        'promotion',\n",
    "        'underPromotion'\n",
    "    },\n",
    "    \"piece_specific_endgames\": {\n",
    "        'bishopEndgame',\n",
    "        'knightEndgame',\n",
    "        'queenEndgame',\n",
    "        'queenRookEndgame',\n",
    "        'rookEndgame'\n",
    "    },\n",
    "    # \"king_safety_and_attack\": {\n",
    "    #     'attackingF2F7',\n",
    "    #     'exposedKing',\n",
    "    #     'kingsideAttack',\n",
    "    #     'queensideAttack'\n",
    "    # },\n",
    "    # \"special_moves\": {\n",
    "    #     'castling',\n",
    "    #     'quietMove'\n",
    "    # },\n",
    "    # \"defensive_tactics\": {\n",
    "    #     'defensiveMove',\n",
    "    #     'trappedPiece',\n",
    "    #     'zugzwang'\n",
    "    # },\n",
    "    #Removing game length related puzzles names and skill level related \n",
    "    # \"game_length\": {\n",
    "    #     'long',\n",
    "    #     'veryLong',\n",
    "    #     'short',\n",
    "    #     'oneMove'\n",
    "    # },\n",
    "    # \"player_skill_levels\": {\n",
    "    #     'master',\n",
    "    #     'superGM',\n",
    "    #     'masterVsMaster'\n",
    "    # }\n",
    "}\n"
   ]
  },
  {
   "cell_type": "code",
   "execution_count": 19,
   "metadata": {},
   "outputs": [],
   "source": [
    "reversed_chess_theme_dict = {}\n",
    "\n",
    "for key in chess_theme_dict:\n",
    "    for value in chess_theme_dict[key]:\n",
    "        reversed_chess_theme_dict[value] = key"
   ]
  },
  {
   "cell_type": "code",
   "execution_count": 20,
   "metadata": {},
   "outputs": [],
   "source": [
    "puzzle_data['modified_theme_list'] = puzzle_data.themes_list.apply(lambda x: list(set([reversed_chess_theme_dict[y] for y in x if y in reversed_chess_theme_dict])))"
   ]
  },
  {
   "cell_type": "code",
   "execution_count": 21,
   "metadata": {},
   "outputs": [
    {
     "data": {
      "text/plain": [
       "0                  [strategic_concepts, tactical_themes]\n",
       "1                                   [strategic_concepts]\n",
       "2          [strategic_concepts, piece_specific_endgames]\n",
       "3                                   [strategic_concepts]\n",
       "4              [strategic_concepts, pawn_related_themes]\n",
       "                               ...                      \n",
       "3764374                             [strategic_concepts]\n",
       "3764375                             [strategic_concepts]\n",
       "3764376                             [strategic_concepts]\n",
       "3764377            [strategic_concepts, tactical_themes]\n",
       "3764378                             [strategic_concepts]\n",
       "Name: modified_theme_list, Length: 3764379, dtype: object"
      ]
     },
     "execution_count": 21,
     "metadata": {},
     "output_type": "execute_result"
    }
   ],
   "source": [
    "puzzle_data.modified_theme_list"
   ]
  },
  {
   "cell_type": "code",
   "execution_count": 22,
   "metadata": {},
   "outputs": [],
   "source": [
    "puzzle_data = puzzle_data.loc[(puzzle_data.Rating<=2000) & (puzzle_data.Rating>=1000)]"
   ]
  },
  {
   "cell_type": "code",
   "execution_count": 23,
   "metadata": {},
   "outputs": [
    {
     "data": {
      "text/plain": [
       "<Axes: >"
      ]
     },
     "execution_count": 23,
     "metadata": {},
     "output_type": "execute_result"
    },
    {
     "data": {
      "image/png": "[encoded data removed]",
      "text/plain": [
       "<Figure size 640x480 with 1 Axes>"
      ]
     },
     "metadata": {},
     "output_type": "display_data"
    }
   ],
   "source": [
    "puzzle_data.Rating.hist()"
   ]
  },
  {
   "cell_type": "code",
   "execution_count": 24,
   "metadata": {},
   "outputs": [
    {
     "name": "stdout",
     "output_type": "stream",
     "text": [
      "<class 'pandas.core.frame.DataFrame'>\n",
      "Index: 2253112 entries, 0 to 3764378\n",
      "Data columns (total 12 columns):\n",
      " #   Column               Dtype \n",
      "---  ------               ----- \n",
      " 0   PuzzleId             object\n",
      " 1   FEN                  object\n",
      " 2   Moves                object\n",
      " 3   Rating               int64 \n",
      " 4   RatingDeviation      int64 \n",
      " 5   Popularity           int64 \n",
      " 6   NbPlays              int64 \n",
      " 7   Themes               object\n",
      " 8   GameUrl              object\n",
      " 9   OpeningTags          object\n",
      " 10  themes_list          object\n",
      " 11  modified_theme_list  object\n",
      "dtypes: int64(4), object(8)\n",
      "memory usage: 223.5+ MB\n"
     ]
    }
   ],
   "source": [
    "puzzle_data.info()"
   ]
  },
  {
   "cell_type": "code",
   "execution_count": 27,
   "metadata": {},
   "outputs": [],
   "source": [
    "def create_rating_bracket(row):\n",
    "    assert(row >= 1000)\n",
    "    if 1000<=row<1100:\n",
    "        return '1000-1100'\n",
    "    elif 1100<=row<1200:\n",
    "        return '1100-1200'\n",
    "    elif 1200<=row<1300:\n",
    "        return '1200-1300'\n",
    "    elif 1300<=row<1400:\n",
    "        return '1300-1400'\n",
    "    elif 1400<=row<1500:\n",
    "        return '1400-1500'\n",
    "    elif 1500<=row<1600:\n",
    "        return '1500-1600'\n",
    "    elif 1600<=row<1700:\n",
    "        return '1600-1700'\n",
    "    else:\n",
    "        return 'gt1700'"
   ]
  },
  {
   "cell_type": "code",
   "execution_count": 28,
   "metadata": {},
   "outputs": [],
   "source": [
    "puzzle_data['rating_bracket'] = puzzle_data.Rating.apply(create_rating_bracket)"
   ]
  },
  {
   "cell_type": "code",
   "execution_count": 29,
   "metadata": {},
   "outputs": [],
   "source": [
    "puzzle_data_tmp = puzzle_data.explode('modified_theme_list')"
   ]
  },
  {
   "cell_type": "code",
   "execution_count": 30,
   "metadata": {},
   "outputs": [
    {
     "data": {
      "text/html": [
       "<div>\n",
       "<style scoped>\n",
       "    .dataframe tbody tr th:only-of-type {\n",
       "        vertical-align: middle;\n",
       "    }\n",
       "\n",
       "    .dataframe tbody tr th {\n",
       "        vertical-align: top;\n",
       "    }\n",
       "\n",
       "    .dataframe thead tr th {\n",
       "        text-align: left;\n",
       "    }\n",
       "\n",
       "    .dataframe thead tr:last-of-type th {\n",
       "        text-align: right;\n",
       "    }\n",
       "</style>\n",
       "<table border=\"1\" class=\"dataframe\">\n",
       "  <thead>\n",
       "    <tr>\n",
       "      <th></th>\n",
       "      <th colspan=\"2\" halign=\"left\">modified_theme_list</th>\n",
       "    </tr>\n",
       "    <tr>\n",
       "      <th></th>\n",
       "      <th>nunique</th>\n",
       "      <th>unique</th>\n",
       "    </tr>\n",
       "    <tr>\n",
       "      <th>rating_bracket</th>\n",
       "      <th></th>\n",
       "      <th></th>\n",
       "    </tr>\n",
       "  </thead>\n",
       "  <tbody>\n",
       "    <tr>\n",
       "      <th>1000-1100</th>\n",
       "      <td>5</td>\n",
       "      <td>[strategic_concepts, tactical_themes, pawn_rel...</td>\n",
       "    </tr>\n",
       "    <tr>\n",
       "      <th>1100-1200</th>\n",
       "      <td>5</td>\n",
       "      <td>[checkmate_patterns, strategic_concepts, tacti...</td>\n",
       "    </tr>\n",
       "    <tr>\n",
       "      <th>1200-1300</th>\n",
       "      <td>5</td>\n",
       "      <td>[strategic_concepts, piece_specific_endgames, ...</td>\n",
       "    </tr>\n",
       "    <tr>\n",
       "      <th>1300-1400</th>\n",
       "      <td>5</td>\n",
       "      <td>[strategic_concepts, tactical_themes, checkmat...</td>\n",
       "    </tr>\n",
       "    <tr>\n",
       "      <th>1400-1500</th>\n",
       "      <td>5</td>\n",
       "      <td>[strategic_concepts, tactical_themes, piece_sp...</td>\n",
       "    </tr>\n",
       "    <tr>\n",
       "      <th>1500-1600</th>\n",
       "      <td>5</td>\n",
       "      <td>[strategic_concepts, pawn_related_themes, tact...</td>\n",
       "    </tr>\n",
       "    <tr>\n",
       "      <th>1600-1700</th>\n",
       "      <td>5</td>\n",
       "      <td>[strategic_concepts, piece_specific_endgames, ...</td>\n",
       "    </tr>\n",
       "    <tr>\n",
       "      <th>gt1700</th>\n",
       "      <td>5</td>\n",
       "      <td>[strategic_concepts, tactical_themes, piece_sp...</td>\n",
       "    </tr>\n",
       "  </tbody>\n",
       "</table>\n",
       "</div>"
      ],
      "text/plain": [
       "               modified_theme_list  \\\n",
       "                           nunique   \n",
       "rating_bracket                       \n",
       "1000-1100                        5   \n",
       "1100-1200                        5   \n",
       "1200-1300                        5   \n",
       "1300-1400                        5   \n",
       "1400-1500                        5   \n",
       "1500-1600                        5   \n",
       "1600-1700                        5   \n",
       "gt1700                           5   \n",
       "\n",
       "                                                                   \n",
       "                                                           unique  \n",
       "rating_bracket                                                     \n",
       "1000-1100       [strategic_concepts, tactical_themes, pawn_rel...  \n",
       "1100-1200       [checkmate_patterns, strategic_concepts, tacti...  \n",
       "1200-1300       [strategic_concepts, piece_specific_endgames, ...  \n",
       "1300-1400       [strategic_concepts, tactical_themes, checkmat...  \n",
       "1400-1500       [strategic_concepts, tactical_themes, piece_sp...  \n",
       "1500-1600       [strategic_concepts, pawn_related_themes, tact...  \n",
       "1600-1700       [strategic_concepts, piece_specific_endgames, ...  \n",
       "gt1700          [strategic_concepts, tactical_themes, piece_sp...  "
      ]
     },
     "execution_count": 30,
     "metadata": {},
     "output_type": "execute_result"
    }
   ],
   "source": [
    "#Verifying all puzzles of all ELO ratings have all different themes\n",
    "puzzle_data_tmp.groupby('rating_bracket').agg({'modified_theme_list': ['nunique', 'unique']})"
   ]
  },
  {
   "cell_type": "code",
   "execution_count": 50,
   "metadata": {},
   "outputs": [
    {
     "data": {
      "text/plain": [
       "array(['1000-1100', '1100-1200', '1200-1300', '1300-1400', '1400-1500',\n",
       "       '1500-1600', '1600-1700', 'gt1700'], dtype=object)"
      ]
     },
     "execution_count": 50,
     "metadata": {},
     "output_type": "execute_result"
    }
   ],
   "source": [
    "np.sort(puzzle_data_tmp.rating_bracket.value_counts().index.values)"
   ]
  },
  {
   "cell_type": "code",
   "execution_count": 31,
   "metadata": {},
   "outputs": [],
   "source": [
    "puzzle_rating_list = puzzle_data_tmp.rating_bracket.unique()"
   ]
  },
  {
   "cell_type": "code",
   "execution_count": 32,
   "metadata": {},
   "outputs": [],
   "source": [
    "puzzle_theme_list = puzzle_data_tmp.modified_theme_list.unique()"
   ]
  },
  {
   "cell_type": "code",
   "execution_count": 33,
   "metadata": {},
   "outputs": [
    {
     "data": {
      "text/html": [
       "<div>\n",
       "<style scoped>\n",
       "    .dataframe tbody tr th:only-of-type {\n",
       "        vertical-align: middle;\n",
       "    }\n",
       "\n",
       "    .dataframe tbody tr th {\n",
       "        vertical-align: top;\n",
       "    }\n",
       "\n",
       "    .dataframe thead th {\n",
       "        text-align: right;\n",
       "    }\n",
       "</style>\n",
       "<table border=\"1\" class=\"dataframe\">\n",
       "  <thead>\n",
       "    <tr style=\"text-align: right;\">\n",
       "      <th></th>\n",
       "      <th></th>\n",
       "      <th>PuzzleId</th>\n",
       "    </tr>\n",
       "    <tr>\n",
       "      <th>rating_bracket</th>\n",
       "      <th>modified_theme_list</th>\n",
       "      <th></th>\n",
       "    </tr>\n",
       "  </thead>\n",
       "  <tbody>\n",
       "    <tr>\n",
       "      <th rowspan=\"5\" valign=\"top\">1000-1100</th>\n",
       "      <th>checkmate_patterns</th>\n",
       "      <td>14297</td>\n",
       "    </tr>\n",
       "    <tr>\n",
       "      <th>pawn_related_themes</th>\n",
       "      <td>13840</td>\n",
       "    </tr>\n",
       "    <tr>\n",
       "      <th>piece_specific_endgames</th>\n",
       "      <td>19702</td>\n",
       "    </tr>\n",
       "    <tr>\n",
       "      <th>strategic_concepts</th>\n",
       "      <td>251351</td>\n",
       "    </tr>\n",
       "    <tr>\n",
       "      <th>tactical_themes</th>\n",
       "      <td>106965</td>\n",
       "    </tr>\n",
       "    <tr>\n",
       "      <th rowspan=\"5\" valign=\"top\">1100-1200</th>\n",
       "      <th>checkmate_patterns</th>\n",
       "      <td>10075</td>\n",
       "    </tr>\n",
       "    <tr>\n",
       "      <th>pawn_related_themes</th>\n",
       "      <td>16460</td>\n",
       "    </tr>\n",
       "    <tr>\n",
       "      <th>piece_specific_endgames</th>\n",
       "      <td>20900</td>\n",
       "    </tr>\n",
       "    <tr>\n",
       "      <th>strategic_concepts</th>\n",
       "      <td>265078</td>\n",
       "    </tr>\n",
       "    <tr>\n",
       "      <th>tactical_themes</th>\n",
       "      <td>112662</td>\n",
       "    </tr>\n",
       "    <tr>\n",
       "      <th rowspan=\"5\" valign=\"top\">1200-1300</th>\n",
       "      <th>checkmate_patterns</th>\n",
       "      <td>5897</td>\n",
       "    </tr>\n",
       "    <tr>\n",
       "      <th>pawn_related_themes</th>\n",
       "      <td>14022</td>\n",
       "    </tr>\n",
       "    <tr>\n",
       "      <th>piece_specific_endgames</th>\n",
       "      <td>16259</td>\n",
       "    </tr>\n",
       "    <tr>\n",
       "      <th>strategic_concepts</th>\n",
       "      <td>215098</td>\n",
       "    </tr>\n",
       "    <tr>\n",
       "      <th>tactical_themes</th>\n",
       "      <td>90749</td>\n",
       "    </tr>\n",
       "    <tr>\n",
       "      <th rowspan=\"5\" valign=\"top\">1300-1400</th>\n",
       "      <th>checkmate_patterns</th>\n",
       "      <td>7017</td>\n",
       "    </tr>\n",
       "    <tr>\n",
       "      <th>pawn_related_themes</th>\n",
       "      <td>15140</td>\n",
       "    </tr>\n",
       "    <tr>\n",
       "      <th>piece_specific_endgames</th>\n",
       "      <td>16107</td>\n",
       "    </tr>\n",
       "    <tr>\n",
       "      <th>strategic_concepts</th>\n",
       "      <td>232077</td>\n",
       "    </tr>\n",
       "    <tr>\n",
       "      <th>tactical_themes</th>\n",
       "      <td>95950</td>\n",
       "    </tr>\n",
       "    <tr>\n",
       "      <th rowspan=\"5\" valign=\"top\">1400-1500</th>\n",
       "      <th>checkmate_patterns</th>\n",
       "      <td>4883</td>\n",
       "    </tr>\n",
       "    <tr>\n",
       "      <th>pawn_related_themes</th>\n",
       "      <td>15790</td>\n",
       "    </tr>\n",
       "    <tr>\n",
       "      <th>piece_specific_endgames</th>\n",
       "      <td>15718</td>\n",
       "    </tr>\n",
       "    <tr>\n",
       "      <th>strategic_concepts</th>\n",
       "      <td>236889</td>\n",
       "    </tr>\n",
       "    <tr>\n",
       "      <th>tactical_themes</th>\n",
       "      <td>92874</td>\n",
       "    </tr>\n",
       "    <tr>\n",
       "      <th rowspan=\"5\" valign=\"top\">1500-1600</th>\n",
       "      <th>checkmate_patterns</th>\n",
       "      <td>3322</td>\n",
       "    </tr>\n",
       "    <tr>\n",
       "      <th>pawn_related_themes</th>\n",
       "      <td>17285</td>\n",
       "    </tr>\n",
       "    <tr>\n",
       "      <th>piece_specific_endgames</th>\n",
       "      <td>15839</td>\n",
       "    </tr>\n",
       "    <tr>\n",
       "      <th>strategic_concepts</th>\n",
       "      <td>244351</td>\n",
       "    </tr>\n",
       "    <tr>\n",
       "      <th>tactical_themes</th>\n",
       "      <td>94790</td>\n",
       "    </tr>\n",
       "    <tr>\n",
       "      <th rowspan=\"5\" valign=\"top\">1600-1700</th>\n",
       "      <th>checkmate_patterns</th>\n",
       "      <td>1952</td>\n",
       "    </tr>\n",
       "    <tr>\n",
       "      <th>pawn_related_themes</th>\n",
       "      <td>17432</td>\n",
       "    </tr>\n",
       "    <tr>\n",
       "      <th>piece_specific_endgames</th>\n",
       "      <td>15597</td>\n",
       "    </tr>\n",
       "    <tr>\n",
       "      <th>strategic_concepts</th>\n",
       "      <td>232241</td>\n",
       "    </tr>\n",
       "    <tr>\n",
       "      <th>tactical_themes</th>\n",
       "      <td>85480</td>\n",
       "    </tr>\n",
       "    <tr>\n",
       "      <th rowspan=\"5\" valign=\"top\">gt1700</th>\n",
       "      <th>checkmate_patterns</th>\n",
       "      <td>2631</td>\n",
       "    </tr>\n",
       "    <tr>\n",
       "      <th>pawn_related_themes</th>\n",
       "      <td>51395</td>\n",
       "    </tr>\n",
       "    <tr>\n",
       "      <th>piece_specific_endgames</th>\n",
       "      <td>41676</td>\n",
       "    </tr>\n",
       "    <tr>\n",
       "      <th>strategic_concepts</th>\n",
       "      <td>574748</td>\n",
       "    </tr>\n",
       "    <tr>\n",
       "      <th>tactical_themes</th>\n",
       "      <td>197324</td>\n",
       "    </tr>\n",
       "  </tbody>\n",
       "</table>\n",
       "</div>"
      ],
      "text/plain": [
       "                                        PuzzleId\n",
       "rating_bracket modified_theme_list              \n",
       "1000-1100      checkmate_patterns          14297\n",
       "               pawn_related_themes         13840\n",
       "               piece_specific_endgames     19702\n",
       "               strategic_concepts         251351\n",
       "               tactical_themes            106965\n",
       "1100-1200      checkmate_patterns          10075\n",
       "               pawn_related_themes         16460\n",
       "               piece_specific_endgames     20900\n",
       "               strategic_concepts         265078\n",
       "               tactical_themes            112662\n",
       "1200-1300      checkmate_patterns           5897\n",
       "               pawn_related_themes         14022\n",
       "               piece_specific_endgames     16259\n",
       "               strategic_concepts         215098\n",
       "               tactical_themes             90749\n",
       "1300-1400      checkmate_patterns           7017\n",
       "               pawn_related_themes         15140\n",
       "               piece_specific_endgames     16107\n",
       "               strategic_concepts         232077\n",
       "               tactical_themes             95950\n",
       "1400-1500      checkmate_patterns           4883\n",
       "               pawn_related_themes         15790\n",
       "               piece_specific_endgames     15718\n",
       "               strategic_concepts         236889\n",
       "               tactical_themes             92874\n",
       "1500-1600      checkmate_patterns           3322\n",
       "               pawn_related_themes         17285\n",
       "               piece_specific_endgames     15839\n",
       "               strategic_concepts         244351\n",
       "               tactical_themes             94790\n",
       "1600-1700      checkmate_patterns           1952\n",
       "               pawn_related_themes         17432\n",
       "               piece_specific_endgames     15597\n",
       "               strategic_concepts         232241\n",
       "               tactical_themes             85480\n",
       "gt1700         checkmate_patterns           2631\n",
       "               pawn_related_themes         51395\n",
       "               piece_specific_endgames     41676\n",
       "               strategic_concepts         574748\n",
       "               tactical_themes            197324"
      ]
     },
     "metadata": {},
     "output_type": "display_data"
    }
   ],
   "source": [
    "#Checking if every (rating, theme) pair has enough puzzles - looks good\n",
    "with pd.option_context('display.max_rows', None):\n",
    "    display(puzzle_data_tmp.groupby(['rating_bracket', 'modified_theme_list']).agg({'PuzzleId': 'count'}))"
   ]
  },
  {
   "cell_type": "code",
   "execution_count": 34,
   "metadata": {},
   "outputs": [],
   "source": [
    "puzzle_bank = puzzle_data_tmp.groupby(['rating_bracket', 'modified_theme_list']).agg({'PuzzleId': 'unique'})"
   ]
  },
  {
   "cell_type": "code",
   "execution_count": 35,
   "metadata": {},
   "outputs": [],
   "source": [
    "action_space = puzzle_bank.index.values #Tuple of rating bracket, theme name"
   ]
  },
  {
   "cell_type": "code",
   "execution_count": 36,
   "metadata": {},
   "outputs": [],
   "source": [
    "np.save('action_space_small.npy', action_space)"
   ]
  },
  {
   "cell_type": "code",
   "execution_count": null,
   "metadata": {},
   "outputs": [],
   "source": []
  },
  {
   "cell_type": "code",
   "execution_count": 53,
   "metadata": {},
   "outputs": [],
   "source": [
    "import random\n",
    "\n",
    "action_space = np.load('action_space_small.npy', allow_pickle=True)\n",
    "a = random.choice(action_space)\n"
   ]
  },
  {
   "cell_type": "code",
   "execution_count": 55,
   "metadata": {},
   "outputs": [
    {
     "data": {
      "text/plain": [
       "array([('1000-1100', 'checkmate_patterns'),\n",
       "       ('1000-1100', 'pawn_related_themes'),\n",
       "       ('1000-1100', 'piece_specific_endgames'),\n",
       "       ('1000-1100', 'strategic_concepts'),\n",
       "       ('1000-1100', 'tactical_themes'),\n",
       "       ('1100-1200', 'checkmate_patterns'),\n",
       "       ('1100-1200', 'pawn_related_themes'),\n",
       "       ('1100-1200', 'piece_specific_endgames'),\n",
       "       ('1100-1200', 'strategic_concepts'),\n",
       "       ('1100-1200', 'tactical_themes'),\n",
       "       ('1200-1300', 'checkmate_patterns'),\n",
       "       ('1200-1300', 'pawn_related_themes'),\n",
       "       ('1200-1300', 'piece_specific_endgames'),\n",
       "       ('1200-1300', 'strategic_concepts'),\n",
       "       ('1200-1300', 'tactical_themes'),\n",
       "       ('1300-1400', 'checkmate_patterns'),\n",
       "       ('1300-1400', 'pawn_related_themes'),\n",
       "       ('1300-1400', 'piece_specific_endgames'),\n",
       "       ('1300-1400', 'strategic_concepts'),\n",
       "       ('1300-1400', 'tactical_themes'),\n",
       "       ('1400-1500', 'checkmate_patterns'),\n",
       "       ('1400-1500', 'pawn_related_themes'),\n",
       "       ('1400-1500', 'piece_specific_endgames'),\n",
       "       ('1400-1500', 'strategic_concepts'),\n",
       "       ('1400-1500', 'tactical_themes'),\n",
       "       ('1500-1600', 'checkmate_patterns'),\n",
       "       ('1500-1600', 'pawn_related_themes'),\n",
       "       ('1500-1600', 'piece_specific_endgames'),\n",
       "       ('1500-1600', 'strategic_concepts'),\n",
       "       ('1500-1600', 'tactical_themes'),\n",
       "       ('1600-1700', 'checkmate_patterns'),\n",
       "       ('1600-1700', 'pawn_related_themes'),\n",
       "       ('1600-1700', 'piece_specific_endgames'),\n",
       "       ('1600-1700', 'strategic_concepts'),\n",
       "       ('1600-1700', 'tactical_themes'), ('gt1700', 'checkmate_patterns'),\n",
       "       ('gt1700', 'pawn_related_themes'),\n",
       "       ('gt1700', 'piece_specific_endgames'),\n",
       "       ('gt1700', 'strategic_concepts'), ('gt1700', 'tactical_themes')],\n",
       "      dtype=object)"
      ]
     },
     "execution_count": 55,
     "metadata": {},
     "output_type": "execute_result"
    }
   ],
   "source": [
    "action_space"
   ]
  },
  {
   "cell_type": "code",
   "execution_count": 54,
   "metadata": {},
   "outputs": [
    {
     "data": {
      "text/plain": [
       "40"
      ]
     },
     "execution_count": 54,
     "metadata": {},
     "output_type": "execute_result"
    }
   ],
   "source": [
    "len(action_space)"
   ]
  },
  {
   "cell_type": "code",
   "execution_count": 40,
   "metadata": {},
   "outputs": [
    {
     "data": {
      "text/plain": [
       "'83h1n'"
      ]
     },
     "execution_count": 40,
     "metadata": {},
     "output_type": "execute_result"
    }
   ],
   "source": [
    "random.choice(puzzle_bank.loc[a].PuzzleId)"
   ]
  },
  {
   "cell_type": "code",
   "execution_count": 41,
   "metadata": {},
   "outputs": [],
   "source": [
    "puzzle_bank.to_csv('puzzle_bank_small.csv')"
   ]
  },
  {
   "cell_type": "code",
   "execution_count": 46,
   "metadata": {},
   "outputs": [],
   "source": [
    "puzzle_bank.to_pickle('puzzle_bank_small.pkl')"
   ]
  },
  {
   "cell_type": "code",
   "execution_count": 42,
   "metadata": {},
   "outputs": [
    {
     "data": {
      "text/plain": [
       "'8/pk3r2/1p6/4n3/5RPp/PP5P/2P2K2/8 w - - 0 38'"
      ]
     },
     "execution_count": 42,
     "metadata": {},
     "output_type": "execute_result"
    }
   ],
   "source": [
    "puzzle_data.loc[puzzle_data.PuzzleId=='zPzrm']['FEN'].values[0]"
   ]
  },
  {
   "cell_type": "code",
   "execution_count": 43,
   "metadata": {},
   "outputs": [],
   "source": [
    "class PuzzleBank:\n",
    "    def __init__(self):\n",
    "        self.lichess_data = pd.read_csv('/Users/shikharrastogi/Downloads/lichess_db_puzzle.csv')\n",
    "        self.bank = pd.read_csv('puzzle_bank.csv')\n",
    "    \n",
    "    def get_puzzle(self, puzzleId):\n",
    "        return self.lichess_data.loc[self.lichess_data.PuzzleId==puzzleId]\n",
    "    \n",
    "    #TODO: This should go into the Environment class, which calls the PuzzleBank get_puzzle method\n",
    "    def get_next_state(self, action):\n",
    "        puzzleId = random.choice(puzzle_bank.loc[action].PuzzleId)\n",
    "        return self._get_puzzle(puzzleId)['FEN'].values[0]"
   ]
  },
  {
   "cell_type": "code",
   "execution_count": 44,
   "metadata": {},
   "outputs": [],
   "source": [
    "class TutorAgent:\n",
    "    def __init__(\n",
    "        self,\n",
    "        learning_rate: float,\n",
    "        initial_epsilon: float,\n",
    "        epsilon_decay: float,\n",
    "        final_epsilon: float,\n",
    "        discount_factor: float = 0.95,\n",
    "    ):\n",
    "        \"\"\"Initialize a Reinforcement Learning agent with an empty dictionary\n",
    "        of state-action values (q_values), a learning rate and an epsilon.\n",
    "\n",
    "        Args:\n",
    "            learning_rate: The learning rate\n",
    "            initial_epsilon: The initial epsilon value\n",
    "            epsilon_decay: The decay for epsilon\n",
    "            final_epsilon: The final epsilon value\n",
    "            discount_factor: The discount factor for computing the Q-value\n",
    "        \"\"\"\n",
    "        self.action_space = np.load('action_space.npy', allow_pickle=True)\n",
    "        self.q_values = defaultdict(lambda: np.zeros(len(self.action_space)))\n",
    "\n",
    "        self.lr = learning_rate\n",
    "        self.discount_factor = discount_factor\n",
    "\n",
    "        self.epsilon = initial_epsilon\n",
    "        self.epsilon_decay = epsilon_decay\n",
    "        self.final_epsilon = final_epsilon\n",
    "\n",
    "        self.training_error = []\n",
    "\n",
    "    def get_action(self, obs: tuple[int, int, bool]) -> int:\n",
    "        \"\"\"\n",
    "        Returns the best action with probability (1 - epsilon)\n",
    "        otherwise a random action with probability epsilon to ensure exploration.\n",
    "        \"\"\"\n",
    "        # with probability epsilon return a random action to explore the environment\n",
    "        if np.random.random() < self.epsilon:\n",
    "            return random.choice(self.action_space)\n",
    "\n",
    "        # with probability (1 - epsilon) act greedily (exploit)\n",
    "        else:\n",
    "            return int(np.argmax(self.q_values[obs]))\n",
    "\n",
    "    def update(\n",
    "        self,\n",
    "        obs: tuple[int, int, bool],\n",
    "        action: int,\n",
    "        reward: float,\n",
    "        terminated: bool,\n",
    "        next_obs: tuple[int, int, bool],\n",
    "    ):\n",
    "        \"\"\"Updates the Q-value of an action.\"\"\"\n",
    "        future_q_value = (not terminated) * np.max(self.q_values[next_obs])\n",
    "        temporal_difference = (\n",
    "            reward + self.discount_factor * future_q_value - self.q_values[obs]\n",
    "        )\n",
    "\n",
    "        self.q_values[obs][action] = (\n",
    "            self.q_values[obs][action] + self.lr * temporal_difference\n",
    "        )\n",
    "        self.training_error.append(temporal_difference)\n",
    "\n",
    "    def decay_epsilon(self):\n",
    "        self.epsilon = max(self.final_epsilon, self.epsilon - self.epsilon_decay)"
   ]
  },
  {
   "cell_type": "code",
   "execution_count": 162,
   "metadata": {},
   "outputs": [],
   "source": [
    "# Hyperparameters\n",
    "learning_rate = 0.01\n",
    "n_episodes = 100_000\n",
    "start_epsilon = 1.0\n",
    "epsilon_decay = start_epsilon / (n_episodes / 2)  # Reduce the exploration over time\n",
    "final_epsilon = 0.1\n",
    "\n",
    "agent = TutorAgent(\n",
    "    learning_rate=learning_rate,\n",
    "    initial_epsilon=start_epsilon,\n",
    "    epsilon_decay=epsilon_decay,\n",
    "    final_epsilon=final_epsilon,\n",
    ")"
   ]
  },
  {
   "cell_type": "code",
   "execution_count": null,
   "metadata": {},
   "outputs": [],
   "source": [
    "for episode in tqdm(range(n_episodes)):\n",
    "    obs, info = env.reset()\n",
    "    done = False\n",
    "\n",
    "    # Play one episode\n",
    "    while not done:\n",
    "        action = agent.get_action(obs)\n",
    "        next_obs, reward, terminated, truncated, info = env.step(action)\n",
    "\n",
    "        # Update the agent\n",
    "        agent.update(obs, action, reward, terminated, next_obs)\n",
    "\n",
    "        # Update the current observation, and whether the environment is done\n",
    "        done = terminated or truncated\n",
    "        obs = next_obs\n",
    "\n",
    "    agent.decay_epsilon()"
   ]
  }
 ],
 "metadata": {
  "kernelspec": {
   "display_name": "rl",
   "language": "python",
   "name": "python3"
  },
  "language_info": {
   "codemirror_mode": {
    "name": "ipython",
    "version": 3
   },
   "file_extension": ".py",
   "mimetype": "text/x-python",
   "name": "python",
   "nbconvert_exporter": "python",
   "pygments_lexer": "ipython3",
   "version": "3.9.18"
  },
  "orig_nbformat": 4
 },
 "nbformat": 4,
 "nbformat_minor": 2
}
