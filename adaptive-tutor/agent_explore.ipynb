{
 "cells": [
  {
   "cell_type": "code",
   "execution_count": 1,
   "metadata": {},
   "outputs": [],
   "source": [
    "import numpy as np\n",
    "import pandas as pd\n",
    "\n",
    "from collections import defaultdict\n",
    "from tqdm import tqdm\n",
    "\n",
    "import random\n",
    "\n",
    "import gym\n",
    "import adaptive_tutor"
   ]
  },
  {
   "cell_type": "code",
   "execution_count": 2,
   "metadata": {},
   "outputs": [],
   "source": [
    "import numpy as np\n",
    "action_space = np.load('adaptive_tutor/action_space.npy', allow_pickle=True)"
   ]
  },
  {
   "cell_type": "code",
   "execution_count": 3,
   "metadata": {},
   "outputs": [],
   "source": [
    "class TutorStatefulAgent:\n",
    "    def __init__(\n",
    "        self,\n",
    "        learning_rate: float,\n",
    "        initial_epsilon: float,\n",
    "        epsilon_decay: float,\n",
    "        final_epsilon: float,\n",
    "        discount_factor: float = 0.95,\n",
    "    ):\n",
    "        \"\"\"Initialize a Reinforcement Learning agent with an empty dictionary\n",
    "        of state-action values (q_values), a learning rate and an epsilon.\n",
    "\n",
    "        Args:\n",
    "            learning_rate: The learning rate\n",
    "            initial_epsilon: The initial epsilon value\n",
    "            epsilon_decay: The decay for epsilon\n",
    "            final_epsilon: The final epsilon value\n",
    "            discount_factor: The discount factor for computing the Q-value\n",
    "        \"\"\"\n",
    "\n",
    "        self.action_space = list(np.load('adaptive_tutor/action_space.npy', allow_pickle=True))\n",
    "        self.q_values = defaultdict(lambda: np.zeros(len(self.action_space)))\n",
    "\n",
    "        self.lr = learning_rate\n",
    "        self.discount_factor = discount_factor\n",
    "\n",
    "        self.epsilon = initial_epsilon\n",
    "        self.epsilon_decay = epsilon_decay\n",
    "        self.final_epsilon = final_epsilon\n",
    "\n",
    "        self.training_error = []\n",
    "\n",
    "    def _create_rating_bracket(self, row):\n",
    "        if row<1300:\n",
    "            return 'lt_1300'\n",
    "        elif 1300<=row<1500:\n",
    "            return '1300-1500'\n",
    "        elif 1500<=row<1700:\n",
    "            return '1500-1700'\n",
    "        else:\n",
    "            return 'gt_1700'\n",
    "    \n",
    "    def _get_agent_state(self, obs):\n",
    "        return tuple([self._create_rating_bracket(val) for val in obs['themes_covered']])\n",
    "\n",
    "    def get_action(self, obs: tuple[int, int, bool]) -> int:\n",
    "        \"\"\"\n",
    "        Returns the best action with probability (1 - epsilon)\n",
    "        otherwise a random action with probability epsilon to ensure exploration.\n",
    "        \"\"\"\n",
    "        # with probability epsilon return a random action to explore the environment\n",
    "        obs = self._get_agent_state(obs)\n",
    "        if np.random.random() < self.epsilon:\n",
    "            #print(\"Exploring\")\n",
    "            return random.choice(range(len(self.action_space)))\n",
    "\n",
    "        # with probability (1 - epsilon) act greedily (exploit)\n",
    "        else:\n",
    "            return (np.argmax(self.q_values[obs]))\n",
    "\n",
    "    def update(\n",
    "        self,\n",
    "        obs: tuple[int, int, bool],\n",
    "        action: int,\n",
    "        reward: float,\n",
    "        terminated: bool,\n",
    "        next_obs: tuple[int, int, bool],\n",
    "    ):\n",
    "        \"\"\"Updates the Q-value of an action.\"\"\"\n",
    "        obs = self._get_agent_state(obs)\n",
    "        next_obs = self._get_agent_state(next_obs)\n",
    "        future_q_value = (not terminated) * np.max(self.q_values[next_obs])\n",
    "        temporal_difference = (\n",
    "            reward + self.discount_factor * future_q_value - self.q_values[obs][action]\n",
    "        )\n",
    "\n",
    "        self.q_values[obs][action] = (\n",
    "            self.q_values[obs][action] + self.lr * temporal_difference\n",
    "        )\n",
    "        self.training_error.append(temporal_difference)\n",
    "\n",
    "    def decay_epsilon(self):\n",
    "        self.epsilon = max(self.final_epsilon, self.epsilon - self.epsilon_decay)"
   ]
  },
  {
   "cell_type": "code",
   "execution_count": 4,
   "metadata": {},
   "outputs": [],
   "source": [
    "# Hyperparameters\n",
    "learning_rate = 0.01\n",
    "n_episodes = 200\n",
    "start_epsilon = 0.5\n",
    "epsilon_decay = start_epsilon / (n_episodes / 2) # Reduce the exploration over time\n",
    "final_epsilon = 0.1\n",
    "\n",
    "agent = TutorStatefulAgent(\n",
    "    learning_rate=learning_rate,\n",
    "    initial_epsilon=start_epsilon,\n",
    "    epsilon_decay=epsilon_decay,\n",
    "    final_epsilon=final_epsilon,\n",
    ")"
   ]
  },
  {
   "cell_type": "code",
   "execution_count": 5,
   "metadata": {},
   "outputs": [
    {
     "name": "stdout",
     "output_type": "stream",
     "text": [
      "../maia_weights/maia_1100.pb\n",
      "1\n",
      "../maia_weights/maia_1100.pb\n",
      "1\n"
     ]
    },
    {
     "name": "stderr",
     "output_type": "stream",
     "text": [
      "  0%|          | 0/200 [00:00<?, ?it/s]<UciProtocol (pid=2451)>: stderr >> \u001b[1m\u001b[31m       _\n",
      "<UciProtocol (pid=2451)>: stderr >> |   _ | |\n",
      "<UciProtocol (pid=2451)>: stderr >> |_ |_ |_|\u001b[0m v0.30.0+git.dirty built Jul 22 2023\n",
      "<UciProtocol (pid=2451)>: stderr >> Loading weights file from: ../maia_weights/maia_1100.pb\n",
      "<UciProtocol (pid=2451)>: stderr >> Creating backend [metal]...\n",
      "<UciProtocol (pid=2451)>: stderr >> Initialized metal backend on device Apple M2\n"
     ]
    },
    {
     "name": "stdout",
     "output_type": "stream",
     "text": [
      "../maia_weights/maia_1100.pb\n",
      "1\n"
     ]
    },
    {
     "name": "stderr",
     "output_type": "stream",
     "text": [
      "/Users/chitvangoyal/anaconda3/envs/rl_chess/lib/python3.9/site-packages/gym/utils/passive_env_checker.py:233: DeprecationWarning: `np.bool8` is a deprecated alias for `np.bool_`.  (Deprecated NumPy 1.24)\n",
      "  if not isinstance(terminated, (bool, np.bool8)):\n",
      "/Users/chitvangoyal/anaconda3/envs/rl_chess/lib/python3.9/site-packages/gym/utils/passive_env_checker.py:165: UserWarning: \u001b[33mWARN: The obs returned by the `step()` method is not within the observation space.\u001b[0m\n",
      "  logger.warn(f\"{pre} is not within the observation space.\")\n"
     ]
    },
    {
     "name": "stdout",
     "output_type": "stream",
     "text": [
      "../maia_Weights/maia_1300.pb\n",
      "2\n",
      "Bot_Upgraded\n",
      "../maia_Weights/maia_1500.pb\n",
      "3\n",
      "Bot_Upgraded\n",
      "../maia_Weights/maia_1700.pb\n",
      "4\n",
      "Bot_Upgraded\n"
     ]
    }
   ],
   "source": [
    "# Load custom environment we created \n",
    "env = gym.make('adaptive_tutor/PuzzleTutorEnv-v0', render_mode=None) \n",
    "\n",
    "# Set to initial state\n",
    "env.reset()\n",
    "\n",
    "episode_rewards = []\n",
    "episode_lengths = []\n",
    "\n",
    "action_rewards = {action: 0 for action in action_space}\n",
    "\n",
    "for episode in tqdm(range(n_episodes)):\n",
    "    obs, info = env.reset()\n",
    "    done = False\n",
    "    terminated = False\n",
    "    episode_reward = 0\n",
    "    \n",
    "    # Play one episode\n",
    "    step_counter = 0\n",
    "    while not terminated:\n",
    "        step_counter+=1\n",
    "        action = agent.get_action(obs)\n",
    "        next_obs, reward, terminated, truncated, info = env.step(action)\n",
    "        #print(action_space[action], reward)\n",
    "        # Update the agent\n",
    "        agent.update(obs, action, reward, terminated, next_obs)\n",
    "        episode_reward += reward\n",
    "        #print(action_space[action])\n",
    "        # Update the current observation, and whether the environment is done\n",
    "        done = terminated or truncated\n",
    "        obs = next_obs\n",
    "        action_rewards[action_space[action]] += reward\n",
    "    \n",
    "    print(\"Number of steps: \", step_counter)\n",
    "\n",
    "    episode_rewards.append(episode_reward)\n",
    "    episode_lengths.append(step_counter)\n",
    "    print(f\"Episode {episode + 1}: Reward = {episode_reward}, Length = {step_counter}\")\n",
    "\n",
    "\n",
    "    agent.decay_epsilon()"
   ]
  },
  {
   "cell_type": "code",
   "execution_count": null,
   "metadata": {},
   "outputs": [],
   "source": []
  },
  {
   "cell_type": "code",
   "execution_count": null,
   "metadata": {},
   "outputs": [],
   "source": []
  },
  {
   "cell_type": "code",
   "execution_count": null,
   "metadata": {},
   "outputs": [],
   "source": []
  },
  {
   "cell_type": "code",
   "execution_count": null,
   "metadata": {},
   "outputs": [],
   "source": []
  },
  {
   "cell_type": "code",
   "execution_count": null,
   "metadata": {},
   "outputs": [],
   "source": []
  },
  {
   "cell_type": "code",
   "execution_count": 5,
   "metadata": {},
   "outputs": [
    {
     "name": "stdout",
     "output_type": "stream",
     "text": [
      "../maia_weights/maia_1100.pb\n",
      "1\n",
      "../maia_weights/maia_1100.pb\n",
      "1\n"
     ]
    },
    {
     "name": "stderr",
     "output_type": "stream",
     "text": [
      "  0%|          | 0/100 [00:00<?, ?it/s]<UciProtocol (pid=57582)>: stderr >> \u001b[1m\u001b[31m       _\n",
      "<UciProtocol (pid=57582)>: stderr >> |   _ | |\n",
      "<UciProtocol (pid=57582)>: stderr >> |_ |_ |_|\u001b[0m v0.30.0+git.dirty built Jul 22 2023\n",
      "<UciProtocol (pid=57582)>: stderr >> Loading weights file from: ../maia_weights/maia_1100.pb\n",
      "<UciProtocol (pid=57582)>: stderr >> Creating backend [metal]...\n"
     ]
    },
    {
     "name": "stdout",
     "output_type": "stream",
     "text": [
      "../maia_weights/maia_1100.pb\n",
      "1\n"
     ]
    },
    {
     "name": "stderr",
     "output_type": "stream",
     "text": [
      "<UciProtocol (pid=57582)>: stderr >> Initialized metal backend on device Apple M2\n",
      "/Users/chitvangoyal/anaconda3/envs/rl_chess/lib/python3.9/site-packages/gym/utils/passive_env_checker.py:233: DeprecationWarning: `np.bool8` is a deprecated alias for `np.bool_`.  (Deprecated NumPy 1.24)\n",
      "  if not isinstance(terminated, (bool, np.bool8)):\n"
     ]
    },
    {
     "name": "stdout",
     "output_type": "stream",
     "text": [
      "../maia_Weights/maia_1300.pb\n",
      "2\n",
      "Bot_Upgraded\n",
      "../maia_Weights/maia_1500.pb\n",
      "3\n",
      "Bot_Upgraded\n"
     ]
    },
    {
     "name": "stderr",
     "output_type": "stream",
     "text": [
      "  1%|          | 1/100 [01:51<3:04:29, 111.82s/it]<UciProtocol (pid=57584)>: stderr >> \u001b[1m\u001b[31m       _\n",
      "<UciProtocol (pid=57584)>: stderr >> |   _ | |\n",
      "<UciProtocol (pid=57584)>: stderr >> |_ |_ |_|\u001b[0m v0.30.0+git.dirty built Jul 22 2023\n",
      "<UciProtocol (pid=57584)>: stderr >> Loading weights file from: ../maia_weights/maia_1100.pb\n",
      "<UciProtocol (pid=57584)>: stderr >> Creating backend [metal]...\n",
      "<UciProtocol (pid=57584)>: stderr >> Initialized metal backend on device Apple M2\n"
     ]
    },
    {
     "name": "stdout",
     "output_type": "stream",
     "text": [
      "Number of steps:  865\n",
      "Episode 1: Reward = -1704.0763157894753, Length = 865\n",
      "../maia_weights/maia_1100.pb\n",
      "1\n",
      "../maia_Weights/maia_1300.pb\n",
      "2\n",
      "Bot_Upgraded\n",
      "../maia_Weights/maia_1500.pb\n",
      "3\n",
      "Bot_Upgraded\n"
     ]
    },
    {
     "name": "stderr",
     "output_type": "stream",
     "text": [
      "  2%|▏         | 2/100 [03:06<2:26:32, 89.72s/it] <UciProtocol (pid=57585)>: stderr >> \u001b[1m\u001b[31m       _\n",
      "<UciProtocol (pid=57585)>: stderr >> |   _ | |\n",
      "<UciProtocol (pid=57585)>: stderr >> |_ |_ |_|\u001b[0m v0.30.0+git.dirty built Jul 22 2023\n",
      "<UciProtocol (pid=57585)>: stderr >> Loading weights file from: ../maia_weights/maia_1100.pb\n",
      "<UciProtocol (pid=57585)>: stderr >> Creating backend [metal]...\n",
      "<UciProtocol (pid=57585)>: stderr >> Initialized metal backend on device Apple M2\n"
     ]
    },
    {
     "name": "stdout",
     "output_type": "stream",
     "text": [
      "Number of steps:  579\n",
      "Episode 2: Reward = -1182.0215789473682, Length = 579\n",
      "../maia_weights/maia_1100.pb\n",
      "1\n",
      "../maia_Weights/maia_1300.pb\n",
      "2\n",
      "Bot_Upgraded\n",
      "../maia_Weights/maia_1500.pb\n",
      "3\n",
      "Bot_Upgraded\n"
     ]
    },
    {
     "name": "stderr",
     "output_type": "stream",
     "text": [
      "  3%|▎         | 3/100 [03:59<1:58:14, 73.14s/it]<UciProtocol (pid=57624)>: stderr >> \u001b[1m\u001b[31m       _\n",
      "<UciProtocol (pid=57624)>: stderr >> |   _ | |\n",
      "<UciProtocol (pid=57624)>: stderr >> |_ |_ |_|\u001b[0m v0.30.0+git.dirty built Jul 22 2023\n",
      "<UciProtocol (pid=57624)>: stderr >> Loading weights file from: ../maia_weights/maia_1100.pb\n",
      "<UciProtocol (pid=57624)>: stderr >> Creating backend [metal]...\n",
      "<UciProtocol (pid=57624)>: stderr >> Initialized metal backend on device Apple M2\n"
     ]
    },
    {
     "name": "stdout",
     "output_type": "stream",
     "text": [
      "Number of steps:  408\n",
      "Episode 3: Reward = -831.75947368421, Length = 408\n",
      "../maia_weights/maia_1100.pb\n",
      "1\n",
      "../maia_Weights/maia_1300.pb\n",
      "2\n",
      "Bot_Upgraded\n",
      "../maia_Weights/maia_1500.pb\n",
      "3\n",
      "Bot_Upgraded\n"
     ]
    },
    {
     "name": "stderr",
     "output_type": "stream",
     "text": [
      "  4%|▍         | 4/100 [04:46<1:40:37, 62.89s/it]<UciProtocol (pid=57626)>: stderr >> \u001b[1m\u001b[31m       _\n",
      "<UciProtocol (pid=57626)>: stderr >> |   _ | |\n",
      "<UciProtocol (pid=57626)>: stderr >> |_ |_ |_|\u001b[0m v0.30.0+git.dirty built Jul 22 2023\n",
      "<UciProtocol (pid=57626)>: stderr >> Loading weights file from: ../maia_weights/maia_1100.pb\n",
      "<UciProtocol (pid=57626)>: stderr >> Creating backend [metal]...\n",
      "<UciProtocol (pid=57626)>: stderr >> Initialized metal backend on device Apple M2\n"
     ]
    },
    {
     "name": "stdout",
     "output_type": "stream",
     "text": [
      "Number of steps:  365\n",
      "Episode 4: Reward = -744.6057894736842, Length = 365\n",
      "../maia_weights/maia_1100.pb\n",
      "1\n",
      "../maia_Weights/maia_1300.pb\n",
      "2\n",
      "Bot_Upgraded\n",
      "../maia_Weights/maia_1500.pb\n",
      "3\n",
      "Bot_Upgraded\n"
     ]
    },
    {
     "name": "stderr",
     "output_type": "stream",
     "text": [
      "  5%|▌         | 5/100 [05:53<1:41:58, 64.41s/it]<UciProtocol (pid=57628)>: stderr >> \u001b[1m\u001b[31m       _\n",
      "<UciProtocol (pid=57628)>: stderr >> |   _ | |\n",
      "<UciProtocol (pid=57628)>: stderr >> |_ |_ |_|\u001b[0m v0.30.0+git.dirty built Jul 22 2023\n",
      "<UciProtocol (pid=57628)>: stderr >> Loading weights file from: ../maia_weights/maia_1100.pb\n",
      "<UciProtocol (pid=57628)>: stderr >> Creating backend [metal]...\n",
      "<UciProtocol (pid=57628)>: stderr >> Initialized metal backend on device Apple M2\n"
     ]
    },
    {
     "name": "stdout",
     "output_type": "stream",
     "text": [
      "Number of steps:  515\n",
      "Episode 5: Reward = -1023.8273684210511, Length = 515\n",
      "../maia_weights/maia_1100.pb\n",
      "1\n",
      "../maia_Weights/maia_1300.pb\n",
      "2\n",
      "Bot_Upgraded\n",
      "../maia_Weights/maia_1500.pb\n",
      "3\n",
      "Bot_Upgraded\n"
     ]
    },
    {
     "name": "stderr",
     "output_type": "stream",
     "text": [
      "  6%|▌         | 6/100 [06:25<1:23:34, 53.35s/it]<UciProtocol (pid=57629)>: stderr >> \u001b[1m\u001b[31m       _\n",
      "<UciProtocol (pid=57629)>: stderr >> |   _ | |\n",
      "<UciProtocol (pid=57629)>: stderr >> |_ |_ |_|\u001b[0m v0.30.0+git.dirty built Jul 22 2023\n",
      "<UciProtocol (pid=57629)>: stderr >> Loading weights file from: ../maia_weights/maia_1100.pb\n",
      "<UciProtocol (pid=57629)>: stderr >> Creating backend [metal]...\n",
      "<UciProtocol (pid=57629)>: stderr >> Initialized metal backend on device Apple M2\n"
     ]
    },
    {
     "name": "stdout",
     "output_type": "stream",
     "text": [
      "Number of steps:  254\n",
      "Episode 6: Reward = -521.7163157894739, Length = 254\n",
      "../maia_weights/maia_1100.pb\n",
      "1\n",
      "../maia_Weights/maia_1300.pb\n",
      "2\n",
      "Bot_Upgraded\n",
      "../maia_Weights/maia_1500.pb\n",
      "3\n",
      "Bot_Upgraded\n"
     ]
    },
    {
     "name": "stderr",
     "output_type": "stream",
     "text": [
      "  7%|▋         | 7/100 [06:59<1:12:45, 46.94s/it]<UciProtocol (pid=57638)>: stderr >> \u001b[1m\u001b[31m       _\n",
      "<UciProtocol (pid=57638)>: stderr >> |   _ | |\n",
      "<UciProtocol (pid=57638)>: stderr >> |_ |_ |_|\u001b[0m v0.30.0+git.dirty built Jul 22 2023\n",
      "<UciProtocol (pid=57638)>: stderr >> Loading weights file from: ../maia_weights/maia_1100.pb\n",
      "<UciProtocol (pid=57638)>: stderr >> Creating backend [metal]...\n",
      "<UciProtocol (pid=57638)>: stderr >> Initialized metal backend on device Apple M2\n"
     ]
    },
    {
     "name": "stdout",
     "output_type": "stream",
     "text": [
      "Number of steps:  247\n",
      "Episode 7: Reward = -513.8699999999998, Length = 247\n",
      "../maia_weights/maia_1100.pb\n",
      "1\n",
      "../maia_Weights/maia_1300.pb\n",
      "2\n",
      "Bot_Upgraded\n",
      "../maia_Weights/maia_1500.pb\n",
      "3\n",
      "Bot_Upgraded\n"
     ]
    },
    {
     "name": "stderr",
     "output_type": "stream",
     "text": [
      "  8%|▊         | 8/100 [07:44<1:11:04, 46.35s/it]<UciProtocol (pid=57646)>: stderr >> \u001b[1m\u001b[31m       _\n",
      "<UciProtocol (pid=57646)>: stderr >> |   _ | |\n",
      "<UciProtocol (pid=57646)>: stderr >> |_ |_ |_|\u001b[0m v0.30.0+git.dirty built Jul 22 2023\n",
      "<UciProtocol (pid=57646)>: stderr >> Loading weights file from: ../maia_weights/maia_1100.pb\n",
      "<UciProtocol (pid=57646)>: stderr >> Creating backend [metal]...\n"
     ]
    },
    {
     "name": "stdout",
     "output_type": "stream",
     "text": [
      "Number of steps:  327\n",
      "Episode 8: Reward = -659.334210526315, Length = 327\n",
      "../maia_weights/maia_1100.pb\n",
      "1\n"
     ]
    },
    {
     "name": "stderr",
     "output_type": "stream",
     "text": [
      "<UciProtocol (pid=57646)>: stderr >> Initialized metal backend on device Apple M2\n"
     ]
    },
    {
     "name": "stdout",
     "output_type": "stream",
     "text": [
      "../maia_Weights/maia_1300.pb\n",
      "2\n",
      "Bot_Upgraded\n",
      "../maia_Weights/maia_1500.pb\n",
      "3\n",
      "Bot_Upgraded\n"
     ]
    },
    {
     "name": "stderr",
     "output_type": "stream",
     "text": [
      "  9%|▉         | 9/100 [08:48<1:18:40, 51.88s/it]<UciProtocol (pid=57655)>: stderr >> \u001b[1m\u001b[31m       _\n",
      "<UciProtocol (pid=57655)>: stderr >> |   _ | |\n",
      "<UciProtocol (pid=57655)>: stderr >> |_ |_ |_|\u001b[0m v0.30.0+git.dirty built Jul 22 2023\n",
      "<UciProtocol (pid=57655)>: stderr >> Loading weights file from: ../maia_weights/maia_1100.pb\n",
      "<UciProtocol (pid=57655)>: stderr >> Creating backend [metal]...\n",
      "<UciProtocol (pid=57655)>: stderr >> Initialized metal backend on device Apple M2\n"
     ]
    },
    {
     "name": "stdout",
     "output_type": "stream",
     "text": [
      "Number of steps:  469\n",
      "Episode 9: Reward = -934.407368421051, Length = 469\n",
      "../maia_weights/maia_1100.pb\n",
      "1\n",
      "../maia_Weights/maia_1300.pb\n",
      "2\n",
      "Bot_Upgraded\n",
      "../maia_Weights/maia_1500.pb\n",
      "3\n",
      "Bot_Upgraded\n"
     ]
    },
    {
     "name": "stderr",
     "output_type": "stream",
     "text": [
      " 10%|█         | 10/100 [11:26<2:07:02, 84.69s/it]<UciProtocol (pid=57681)>: stderr >> \u001b[1m\u001b[31m       _\n",
      "<UciProtocol (pid=57681)>: stderr >> |   _ | |\n",
      "<UciProtocol (pid=57681)>: stderr >> |_ |_ |_|\u001b[0m v0.30.0+git.dirty built Jul 22 2023\n",
      "<UciProtocol (pid=57681)>: stderr >> Loading weights file from: ../maia_weights/maia_1100.pb\n",
      "<UciProtocol (pid=57681)>: stderr >> Creating backend [metal]...\n",
      "<UciProtocol (pid=57681)>: stderr >> Initialized metal backend on device Apple M2\n"
     ]
    },
    {
     "name": "stdout",
     "output_type": "stream",
     "text": [
      "Number of steps:  1211\n",
      "Episode 10: Reward = -2375.5963157894707, Length = 1211\n",
      "../maia_weights/maia_1100.pb\n",
      "1\n",
      "../maia_Weights/maia_1300.pb\n",
      "2\n",
      "Bot_Upgraded\n",
      "../maia_Weights/maia_1500.pb\n",
      "3\n",
      "Bot_Upgraded\n"
     ]
    },
    {
     "name": "stderr",
     "output_type": "stream",
     "text": [
      " 11%|█         | 11/100 [12:25<1:53:40, 76.64s/it]<UciProtocol (pid=57684)>: stderr >> \u001b[1m\u001b[31m       _\n",
      "<UciProtocol (pid=57684)>: stderr >> |   _ | |\n",
      "<UciProtocol (pid=57684)>: stderr >> |_ |_ |_|\u001b[0m v0.30.0+git.dirty built Jul 22 2023\n",
      "<UciProtocol (pid=57684)>: stderr >> Loading weights file from: ../maia_weights/maia_1100.pb\n",
      "<UciProtocol (pid=57684)>: stderr >> Creating backend [metal]...\n",
      "<UciProtocol (pid=57684)>: stderr >> Initialized metal backend on device Apple M2\n"
     ]
    },
    {
     "name": "stdout",
     "output_type": "stream",
     "text": [
      "Number of steps:  449\n",
      "Episode 11: Reward = -887.5000000000006, Length = 449\n",
      "../maia_weights/maia_1100.pb\n",
      "1\n",
      "../maia_Weights/maia_1300.pb\n",
      "2\n",
      "Bot_Upgraded\n",
      "../maia_Weights/maia_1500.pb\n",
      "3\n",
      "Bot_Upgraded\n"
     ]
    },
    {
     "name": "stderr",
     "output_type": "stream",
     "text": [
      " 12%|█▏        | 12/100 [13:22<1:43:59, 70.91s/it]<UciProtocol (pid=57695)>: stderr >> \u001b[1m\u001b[31m       _\n",
      "<UciProtocol (pid=57695)>: stderr >> |   _ | |\n",
      "<UciProtocol (pid=57695)>: stderr >> |_ |_ |_|\u001b[0m v0.30.0+git.dirty built Jul 22 2023\n",
      "<UciProtocol (pid=57695)>: stderr >> Loading weights file from: ../maia_weights/maia_1100.pb\n",
      "<UciProtocol (pid=57695)>: stderr >> Creating backend [metal]...\n",
      "<UciProtocol (pid=57695)>: stderr >> Initialized metal backend on device Apple M2\n"
     ]
    },
    {
     "name": "stdout",
     "output_type": "stream",
     "text": [
      "Number of steps:  419\n",
      "Episode 12: Reward = -854.6389473684211, Length = 419\n",
      "../maia_weights/maia_1100.pb\n",
      "1\n",
      "../maia_Weights/maia_1300.pb\n",
      "2\n",
      "Bot_Upgraded\n",
      "../maia_Weights/maia_1500.pb\n",
      "3\n",
      "Bot_Upgraded\n"
     ]
    },
    {
     "name": "stderr",
     "output_type": "stream",
     "text": [
      " 13%|█▎        | 13/100 [14:26<1:39:41, 68.75s/it]<UciProtocol (pid=57704)>: stderr >> \u001b[1m\u001b[31m       _\n",
      "<UciProtocol (pid=57704)>: stderr >> |   _ | |\n",
      "<UciProtocol (pid=57704)>: stderr >> |_ |_ |_|\u001b[0m v0.30.0+git.dirty built Jul 22 2023\n",
      "<UciProtocol (pid=57704)>: stderr >> Loading weights file from: ../maia_weights/maia_1100.pb\n",
      "<UciProtocol (pid=57704)>: stderr >> Creating backend [metal]...\n",
      "<UciProtocol (pid=57704)>: stderr >> Initialized metal backend on device Apple M2\n"
     ]
    },
    {
     "name": "stdout",
     "output_type": "stream",
     "text": [
      "Number of steps:  459\n",
      "Episode 13: Reward = -939.5694736842102, Length = 459\n",
      "../maia_weights/maia_1100.pb\n",
      "1\n",
      "../maia_Weights/maia_1300.pb\n",
      "2\n",
      "Bot_Upgraded\n",
      "../maia_Weights/maia_1500.pb\n",
      "3\n",
      "Bot_Upgraded\n"
     ]
    },
    {
     "name": "stderr",
     "output_type": "stream",
     "text": [
      " 14%|█▍        | 14/100 [15:42<1:41:38, 70.91s/it]<UciProtocol (pid=57746)>: stderr >> \u001b[1m\u001b[31m       _\n",
      "<UciProtocol (pid=57746)>: stderr >> |   _ | |\n",
      "<UciProtocol (pid=57746)>: stderr >> |_ |_ |_|\u001b[0m v0.30.0+git.dirty built Jul 22 2023\n",
      "<UciProtocol (pid=57746)>: stderr >> Loading weights file from: ../maia_weights/maia_1100.pb\n",
      "<UciProtocol (pid=57746)>: stderr >> Creating backend [metal]...\n",
      "<UciProtocol (pid=57746)>: stderr >> Initialized metal backend on device Apple M2\n"
     ]
    },
    {
     "name": "stdout",
     "output_type": "stream",
     "text": [
      "Number of steps:  549\n",
      "Episode 14: Reward = -1093.449999999998, Length = 549\n",
      "../maia_weights/maia_1100.pb\n",
      "1\n",
      "../maia_Weights/maia_1300.pb\n",
      "2\n",
      "Bot_Upgraded\n",
      "../maia_Weights/maia_1500.pb\n",
      "3\n",
      "Bot_Upgraded\n"
     ]
    },
    {
     "name": "stderr",
     "output_type": "stream",
     "text": [
      " 15%|█▌        | 15/100 [17:01<1:44:05, 73.48s/it]<UciProtocol (pid=57763)>: stderr >> \u001b[1m\u001b[31m       _\n",
      "<UciProtocol (pid=57763)>: stderr >> |   _ | |\n",
      "<UciProtocol (pid=57763)>: stderr >> |_ |_ |_|\u001b[0m v0.30.0+git.dirty built Jul 22 2023\n",
      "<UciProtocol (pid=57763)>: stderr >> Loading weights file from: ../maia_weights/maia_1100.pb\n",
      "<UciProtocol (pid=57763)>: stderr >> Creating backend [metal]...\n",
      "<UciProtocol (pid=57763)>: stderr >> Initialized metal backend on device Apple M2\n"
     ]
    },
    {
     "name": "stdout",
     "output_type": "stream",
     "text": [
      "Number of steps:  576\n",
      "Episode 15: Reward = -1160.6289473684237, Length = 576\n",
      "../maia_weights/maia_1100.pb\n",
      "1\n",
      "../maia_Weights/maia_1300.pb\n",
      "2\n",
      "Bot_Upgraded\n",
      "../maia_Weights/maia_1500.pb\n",
      "3\n",
      "Bot_Upgraded\n"
     ]
    },
    {
     "name": "stderr",
     "output_type": "stream",
     "text": [
      " 16%|█▌        | 16/100 [17:29<1:23:42, 59.79s/it]<UciProtocol (pid=57772)>: stderr >> \u001b[1m\u001b[31m       _\n",
      "<UciProtocol (pid=57772)>: stderr >> |   _ | |\n",
      "<UciProtocol (pid=57772)>: stderr >> |_ |_ |_|\u001b[0m v0.30.0+git.dirty built Jul 22 2023\n",
      "<UciProtocol (pid=57772)>: stderr >> Loading weights file from: ../maia_weights/maia_1100.pb\n",
      "<UciProtocol (pid=57772)>: stderr >> Creating backend [metal]...\n",
      "<UciProtocol (pid=57772)>: stderr >> Initialized metal backend on device Apple M2\n"
     ]
    },
    {
     "name": "stdout",
     "output_type": "stream",
     "text": [
      "Number of steps:  186\n",
      "Episode 16: Reward = -382.92157894736823, Length = 186\n",
      "../maia_weights/maia_1100.pb\n",
      "1\n",
      "../maia_Weights/maia_1300.pb\n",
      "2\n",
      "Bot_Upgraded\n",
      "../maia_Weights/maia_1500.pb\n",
      "3\n",
      "Bot_Upgraded\n"
     ]
    },
    {
     "name": "stderr",
     "output_type": "stream",
     "text": [
      " 17%|█▋        | 17/100 [19:12<1:40:30, 72.66s/it]<UciProtocol (pid=57799)>: stderr >> \u001b[1m\u001b[31m       _\n",
      "<UciProtocol (pid=57799)>: stderr >> |   _ | |\n",
      "<UciProtocol (pid=57799)>: stderr >> |_ |_ |_|\u001b[0m v0.30.0+git.dirty built Jul 22 2023\n",
      "<UciProtocol (pid=57799)>: stderr >> Loading weights file from: ../maia_weights/maia_1100.pb\n",
      "<UciProtocol (pid=57799)>: stderr >> Creating backend [metal]...\n",
      "<UciProtocol (pid=57799)>: stderr >> Initialized metal backend on device Apple M2\n"
     ]
    },
    {
     "name": "stdout",
     "output_type": "stream",
     "text": [
      "Number of steps:  753\n",
      "Episode 17: Reward = -1483.1100000000004, Length = 753\n",
      "../maia_weights/maia_1100.pb\n",
      "1\n",
      "../maia_Weights/maia_1300.pb\n",
      "2\n",
      "Bot_Upgraded\n",
      "../maia_Weights/maia_1500.pb\n",
      "3\n",
      "Bot_Upgraded\n"
     ]
    },
    {
     "name": "stderr",
     "output_type": "stream",
     "text": [
      " 18%|█▊        | 18/100 [20:22<1:38:15, 71.90s/it]<UciProtocol (pid=57889)>: stderr >> \u001b[1m\u001b[31m       _\n",
      "<UciProtocol (pid=57889)>: stderr >> |   _ | |\n",
      "<UciProtocol (pid=57889)>: stderr >> |_ |_ |_|\u001b[0m v0.30.0+git.dirty built Jul 22 2023\n",
      "<UciProtocol (pid=57889)>: stderr >> Loading weights file from: ../maia_weights/maia_1100.pb\n",
      "<UciProtocol (pid=57889)>: stderr >> Creating backend [metal]...\n",
      "<UciProtocol (pid=57889)>: stderr >> Initialized metal backend on device Apple M2\n"
     ]
    },
    {
     "name": "stdout",
     "output_type": "stream",
     "text": [
      "Number of steps:  505\n",
      "Episode 18: Reward = -1031.7052631578954, Length = 505\n",
      "../maia_weights/maia_1100.pb\n",
      "1\n",
      "../maia_Weights/maia_1300.pb\n",
      "2\n",
      "Bot_Upgraded\n",
      "../maia_Weights/maia_1500.pb\n",
      "3\n",
      "Bot_Upgraded\n"
     ]
    },
    {
     "name": "stderr",
     "output_type": "stream",
     "text": [
      " 19%|█▉        | 19/100 [21:39<1:38:59, 73.32s/it]<UciProtocol (pid=57905)>: stderr >> \u001b[1m\u001b[31m       _\n",
      "<UciProtocol (pid=57905)>: stderr >> |   _ | |\n",
      "<UciProtocol (pid=57905)>: stderr >> |_ |_ |_|\u001b[0m v0.30.0+git.dirty built Jul 22 2023\n",
      "<UciProtocol (pid=57905)>: stderr >> Loading weights file from: ../maia_weights/maia_1100.pb\n",
      "<UciProtocol (pid=57905)>: stderr >> Creating backend [metal]...\n",
      "<UciProtocol (pid=57905)>: stderr >> Initialized metal backend on device Apple M2\n"
     ]
    },
    {
     "name": "stdout",
     "output_type": "stream",
     "text": [
      "Number of steps:  540\n",
      "Episode 19: Reward = -1057.7078947368414, Length = 540\n",
      "../maia_weights/maia_1100.pb\n",
      "1\n",
      "../maia_Weights/maia_1300.pb\n",
      "2\n",
      "Bot_Upgraded\n",
      "../maia_Weights/maia_1500.pb\n",
      "3\n",
      "Bot_Upgraded\n"
     ]
    },
    {
     "name": "stderr",
     "output_type": "stream",
     "text": [
      " 20%|██        | 20/100 [22:44<1:34:19, 70.74s/it]<UciProtocol (pid=57935)>: stderr >> \u001b[1m\u001b[31m       _\n",
      "<UciProtocol (pid=57935)>: stderr >> |   _ | |\n",
      "<UciProtocol (pid=57935)>: stderr >> |_ |_ |_|\u001b[0m v0.30.0+git.dirty built Jul 22 2023\n",
      "<UciProtocol (pid=57935)>: stderr >> Loading weights file from: ../maia_weights/maia_1100.pb\n",
      "<UciProtocol (pid=57935)>: stderr >> Creating backend [metal]...\n",
      "<UciProtocol (pid=57935)>: stderr >> Initialized metal backend on device Apple M2\n"
     ]
    },
    {
     "name": "stdout",
     "output_type": "stream",
     "text": [
      "Number of steps:  461\n",
      "Episode 20: Reward = -940.2047368421041, Length = 461\n",
      "../maia_weights/maia_1100.pb\n",
      "1\n",
      "../maia_Weights/maia_1300.pb\n",
      "2\n",
      "Bot_Upgraded\n",
      "../maia_Weights/maia_1500.pb\n",
      "3\n",
      "Bot_Upgraded\n"
     ]
    },
    {
     "name": "stderr",
     "output_type": "stream",
     "text": [
      " 21%|██        | 21/100 [23:05<1:13:39, 55.94s/it]<UciProtocol (pid=57949)>: stderr >> \u001b[1m\u001b[31m       _\n",
      "<UciProtocol (pid=57949)>: stderr >> |   _ | |\n",
      "<UciProtocol (pid=57949)>: stderr >> |_ |_ |_|\u001b[0m v0.30.0+git.dirty built Jul 22 2023\n",
      "<UciProtocol (pid=57949)>: stderr >> Loading weights file from: ../maia_weights/maia_1100.pb\n",
      "<UciProtocol (pid=57949)>: stderr >> Creating backend [metal]...\n",
      "<UciProtocol (pid=57949)>: stderr >> Initialized metal backend on device Apple M2\n"
     ]
    },
    {
     "name": "stdout",
     "output_type": "stream",
     "text": [
      "Number of steps:  132\n",
      "Episode 21: Reward = -280.9994736842108, Length = 132\n",
      "../maia_weights/maia_1100.pb\n",
      "1\n",
      "../maia_Weights/maia_1300.pb\n",
      "2\n",
      "Bot_Upgraded\n",
      "../maia_Weights/maia_1500.pb\n",
      "3\n",
      "Bot_Upgraded\n"
     ]
    },
    {
     "name": "stderr",
     "output_type": "stream",
     "text": [
      " 22%|██▏       | 22/100 [25:35<1:49:31, 84.25s/it]<UciProtocol (pid=57955)>: stderr >> \u001b[1m\u001b[31m       _\n",
      "<UciProtocol (pid=57955)>: stderr >> |   _ | |\n",
      "<UciProtocol (pid=57955)>: stderr >> |_ |_ |_|\u001b[0m v0.30.0+git.dirty built Jul 22 2023\n",
      "<UciProtocol (pid=57955)>: stderr >> Loading weights file from: ../maia_weights/maia_1100.pb\n",
      "<UciProtocol (pid=57955)>: stderr >> Creating backend [metal]...\n",
      "<UciProtocol (pid=57955)>: stderr >> Initialized metal backend on device Apple M2\n"
     ]
    },
    {
     "name": "stdout",
     "output_type": "stream",
     "text": [
      "Number of steps:  1104\n",
      "Episode 22: Reward = -2182.4152631579, Length = 1104\n",
      "../maia_weights/maia_1100.pb\n",
      "1\n",
      "../maia_Weights/maia_1300.pb\n",
      "2\n",
      "Bot_Upgraded\n",
      "../maia_Weights/maia_1500.pb\n",
      "3\n",
      "Bot_Upgraded\n"
     ]
    },
    {
     "name": "stderr",
     "output_type": "stream",
     "text": [
      " 23%|██▎       | 23/100 [27:09<1:51:35, 86.95s/it]<UciProtocol (pid=57985)>: stderr >> \u001b[1m\u001b[31m       _\n",
      "<UciProtocol (pid=57985)>: stderr >> |   _ | |\n",
      "<UciProtocol (pid=57985)>: stderr >> |_ |_ |_|\u001b[0m v0.30.0+git.dirty built Jul 22 2023\n",
      "<UciProtocol (pid=57985)>: stderr >> Loading weights file from: ../maia_weights/maia_1100.pb\n",
      "<UciProtocol (pid=57985)>: stderr >> Creating backend [metal]...\n",
      "<UciProtocol (pid=57985)>: stderr >> Initialized metal backend on device Apple M2\n"
     ]
    },
    {
     "name": "stdout",
     "output_type": "stream",
     "text": [
      "Number of steps:  671\n",
      "Episode 23: Reward = -1348.855263157893, Length = 671\n",
      "../maia_weights/maia_1100.pb\n",
      "1\n",
      "../maia_Weights/maia_1300.pb\n",
      "2\n",
      "Bot_Upgraded\n",
      "../maia_Weights/maia_1500.pb\n",
      "3\n",
      "Bot_Upgraded\n"
     ]
    },
    {
     "name": "stderr",
     "output_type": "stream",
     "text": [
      " 24%|██▍       | 24/100 [28:42<1:52:31, 88.84s/it]<UciProtocol (pid=58037)>: stderr >> \u001b[1m\u001b[31m       _\n",
      "<UciProtocol (pid=58037)>: stderr >> |   _ | |\n",
      "<UciProtocol (pid=58037)>: stderr >> |_ |_ |_|\u001b[0m v0.30.0+git.dirty built Jul 22 2023\n",
      "<UciProtocol (pid=58037)>: stderr >> Loading weights file from: ../maia_weights/maia_1100.pb\n",
      "<UciProtocol (pid=58037)>: stderr >> Creating backend [metal]...\n",
      "<UciProtocol (pid=58037)>: stderr >> Initialized metal backend on device Apple M2\n"
     ]
    },
    {
     "name": "stdout",
     "output_type": "stream",
     "text": [
      "Number of steps:  675\n",
      "Episode 24: Reward = -1342.0047368421076, Length = 675\n",
      "../maia_weights/maia_1100.pb\n",
      "1\n",
      "../maia_Weights/maia_1300.pb\n",
      "2\n",
      "Bot_Upgraded\n",
      "../maia_Weights/maia_1500.pb\n",
      "3\n",
      "Bot_Upgraded\n"
     ]
    },
    {
     "name": "stderr",
     "output_type": "stream",
     "text": [
      " 25%|██▌       | 25/100 [29:11<1:28:41, 70.95s/it]<UciProtocol (pid=58050)>: stderr >> \u001b[1m\u001b[31m       _\n",
      "<UciProtocol (pid=58050)>: stderr >> |   _ | |\n",
      "<UciProtocol (pid=58050)>: stderr >> |_ |_ |_|\u001b[0m v0.30.0+git.dirty built Jul 22 2023\n",
      "<UciProtocol (pid=58050)>: stderr >> Loading weights file from: ../maia_weights/maia_1100.pb\n",
      "<UciProtocol (pid=58050)>: stderr >> Creating backend [metal]...\n",
      "<UciProtocol (pid=58050)>: stderr >> Initialized metal backend on device Apple M2\n"
     ]
    },
    {
     "name": "stdout",
     "output_type": "stream",
     "text": [
      "Number of steps:  192\n",
      "Episode 25: Reward = -397.49052631578905, Length = 192\n",
      "../maia_weights/maia_1100.pb\n",
      "1\n",
      "../maia_Weights/maia_1300.pb\n",
      "2\n",
      "Bot_Upgraded\n",
      "../maia_Weights/maia_1500.pb\n",
      "3\n",
      "Bot_Upgraded\n"
     ]
    },
    {
     "name": "stderr",
     "output_type": "stream",
     "text": [
      " 26%|██▌       | 26/100 [30:18<1:26:02, 69.76s/it]<UciProtocol (pid=58070)>: stderr >> \u001b[1m\u001b[31m       _\n",
      "<UciProtocol (pid=58070)>: stderr >> |   _ | |\n",
      "<UciProtocol (pid=58070)>: stderr >> |_ |_ |_|\u001b[0m v0.30.0+git.dirty built Jul 22 2023\n",
      "<UciProtocol (pid=58070)>: stderr >> Loading weights file from: ../maia_weights/maia_1100.pb\n",
      "<UciProtocol (pid=58070)>: stderr >> Creating backend [metal]...\n",
      "<UciProtocol (pid=58070)>: stderr >> Initialized metal backend on device Apple M2\n"
     ]
    },
    {
     "name": "stdout",
     "output_type": "stream",
     "text": [
      "Number of steps:  476\n",
      "Episode 26: Reward = -1016.0247368421047, Length = 476\n",
      "../maia_weights/maia_1100.pb\n",
      "1\n",
      "../maia_Weights/maia_1300.pb\n",
      "2\n",
      "Bot_Upgraded\n",
      "../maia_Weights/maia_1500.pb\n",
      "3\n",
      "Bot_Upgraded\n"
     ]
    },
    {
     "name": "stderr",
     "output_type": "stream",
     "text": [
      " 27%|██▋       | 27/100 [30:43<1:08:25, 56.24s/it]<UciProtocol (pid=58079)>: stderr >> \u001b[1m\u001b[31m       _\n",
      "<UciProtocol (pid=58079)>: stderr >> |   _ | |\n",
      "<UciProtocol (pid=58079)>: stderr >> |_ |_ |_|\u001b[0m v0.30.0+git.dirty built Jul 22 2023\n",
      "<UciProtocol (pid=58079)>: stderr >> Loading weights file from: ../maia_weights/maia_1100.pb\n",
      "<UciProtocol (pid=58079)>: stderr >> Creating backend [metal]...\n",
      "<UciProtocol (pid=58079)>: stderr >> Initialized metal backend on device Apple M2\n"
     ]
    },
    {
     "name": "stdout",
     "output_type": "stream",
     "text": [
      "Number of steps:  160\n",
      "Episode 27: Reward = -337.205263157895, Length = 160\n",
      "../maia_weights/maia_1100.pb\n",
      "1\n",
      "../maia_Weights/maia_1300.pb\n",
      "2\n",
      "Bot_Upgraded\n",
      "../maia_Weights/maia_1500.pb\n",
      "3\n",
      "Bot_Upgraded\n"
     ]
    },
    {
     "name": "stderr",
     "output_type": "stream",
     "text": [
      " 28%|██▊       | 28/100 [31:18<1:00:06, 50.09s/it]<UciProtocol (pid=58083)>: stderr >> \u001b[1m\u001b[31m       _\n",
      "<UciProtocol (pid=58083)>: stderr >> |   _ | |\n",
      "<UciProtocol (pid=58083)>: stderr >> |_ |_ |_|\u001b[0m v0.30.0+git.dirty built Jul 22 2023\n",
      "<UciProtocol (pid=58083)>: stderr >> Loading weights file from: ../maia_weights/maia_1100.pb\n",
      "<UciProtocol (pid=58083)>: stderr >> Creating backend [metal]...\n",
      "<UciProtocol (pid=58083)>: stderr >> Initialized metal backend on device Apple M2\n"
     ]
    },
    {
     "name": "stdout",
     "output_type": "stream",
     "text": [
      "Number of steps:  237\n",
      "Episode 28: Reward = -478.05263157894717, Length = 237\n",
      "../maia_weights/maia_1100.pb\n",
      "1\n",
      "../maia_Weights/maia_1300.pb\n",
      "2\n",
      "Bot_Upgraded\n",
      "../maia_Weights/maia_1500.pb\n",
      "3\n",
      "Bot_Upgraded\n"
     ]
    },
    {
     "name": "stderr",
     "output_type": "stream",
     "text": [
      " 29%|██▉       | 29/100 [31:56<54:56, 46.43s/it]  <UciProtocol (pid=58115)>: stderr >> \u001b[1m\u001b[31m       _\n",
      "<UciProtocol (pid=58115)>: stderr >> |   _ | |\n",
      "<UciProtocol (pid=58115)>: stderr >> |_ |_ |_|\u001b[0m v0.30.0+git.dirty built Jul 22 2023\n",
      "<UciProtocol (pid=58115)>: stderr >> Loading weights file from: ../maia_weights/maia_1100.pb\n",
      "<UciProtocol (pid=58115)>: stderr >> Creating backend [metal]...\n",
      "<UciProtocol (pid=58115)>: stderr >> Initialized metal backend on device Apple M2\n"
     ]
    },
    {
     "name": "stdout",
     "output_type": "stream",
     "text": [
      "Number of steps:  260\n",
      "Episode 29: Reward = -547.0952631578947, Length = 260\n",
      "../maia_weights/maia_1100.pb\n",
      "1\n",
      "../maia_Weights/maia_1300.pb\n",
      "2\n",
      "Bot_Upgraded\n",
      "../maia_Weights/maia_1500.pb\n",
      "3\n",
      "Bot_Upgraded\n"
     ]
    },
    {
     "name": "stderr",
     "output_type": "stream",
     "text": [
      " 30%|███       | 30/100 [32:23<47:25, 40.65s/it]<UciProtocol (pid=58125)>: stderr >> \u001b[1m\u001b[31m       _\n",
      "<UciProtocol (pid=58125)>: stderr >> |   _ | |\n",
      "<UciProtocol (pid=58125)>: stderr >> |_ |_ |_|\u001b[0m v0.30.0+git.dirty built Jul 22 2023\n",
      "<UciProtocol (pid=58125)>: stderr >> Loading weights file from: ../maia_weights/maia_1100.pb\n",
      "<UciProtocol (pid=58125)>: stderr >> Creating backend [metal]...\n",
      "<UciProtocol (pid=58125)>: stderr >> Initialized metal backend on device Apple M2\n"
     ]
    },
    {
     "name": "stdout",
     "output_type": "stream",
     "text": [
      "Number of steps:  178\n",
      "Episode 30: Reward = -353.56631578947315, Length = 178\n",
      "../maia_weights/maia_1100.pb\n",
      "1\n",
      "../maia_Weights/maia_1300.pb\n",
      "2\n",
      "Bot_Upgraded\n",
      "../maia_Weights/maia_1500.pb\n",
      "3\n",
      "Bot_Upgraded\n"
     ]
    },
    {
     "name": "stderr",
     "output_type": "stream",
     "text": [
      " 31%|███       | 31/100 [32:47<40:41, 35.38s/it]<UciProtocol (pid=58151)>: stderr >> \u001b[1m\u001b[31m       _\n",
      "<UciProtocol (pid=58151)>: stderr >> |   _ | |\n",
      "<UciProtocol (pid=58151)>: stderr >> |_ |_ |_|\u001b[0m v0.30.0+git.dirty built Jul 22 2023\n",
      "<UciProtocol (pid=58151)>: stderr >> Loading weights file from: ../maia_weights/maia_1100.pb\n",
      "<UciProtocol (pid=58151)>: stderr >> Creating backend [metal]...\n",
      "<UciProtocol (pid=58151)>: stderr >> Initialized metal backend on device Apple M2\n"
     ]
    },
    {
     "name": "stdout",
     "output_type": "stream",
     "text": [
      "Number of steps:  142\n",
      "Episode 31: Reward = -290.986842105263, Length = 142\n",
      "../maia_weights/maia_1100.pb\n",
      "1\n",
      "../maia_Weights/maia_1300.pb\n",
      "2\n",
      "Bot_Upgraded\n",
      "../maia_Weights/maia_1500.pb\n",
      "3\n",
      "Bot_Upgraded\n"
     ]
    },
    {
     "name": "stderr",
     "output_type": "stream",
     "text": [
      " 32%|███▏      | 32/100 [33:31<43:04, 38.01s/it]<UciProtocol (pid=58192)>: stderr >> \u001b[1m\u001b[31m       _\n",
      "<UciProtocol (pid=58192)>: stderr >> |   _ | |\n",
      "<UciProtocol (pid=58192)>: stderr >> |_ |_ |_|\u001b[0m v0.30.0+git.dirty built Jul 22 2023\n",
      "<UciProtocol (pid=58192)>: stderr >> Loading weights file from: ../maia_weights/maia_1100.pb\n",
      "<UciProtocol (pid=58192)>: stderr >> Creating backend [metal]...\n",
      "<UciProtocol (pid=58192)>: stderr >> Initialized metal backend on device Apple M2\n"
     ]
    },
    {
     "name": "stdout",
     "output_type": "stream",
     "text": [
      "Number of steps:  305\n",
      "Episode 32: Reward = -603.7805263157885, Length = 305\n",
      "../maia_weights/maia_1100.pb\n",
      "1\n",
      "../maia_Weights/maia_1300.pb\n",
      "2\n",
      "Bot_Upgraded\n",
      "../maia_Weights/maia_1500.pb\n",
      "3\n",
      "Bot_Upgraded\n"
     ]
    },
    {
     "name": "stderr",
     "output_type": "stream",
     "text": [
      " 33%|███▎      | 33/100 [34:07<41:51, 37.48s/it]<UciProtocol (pid=58257)>: stderr >> \u001b[1m\u001b[31m       _\n",
      "<UciProtocol (pid=58257)>: stderr >> |   _ | |\n",
      "<UciProtocol (pid=58257)>: stderr >> |_ |_ |_|\u001b[0m v0.30.0+git.dirty built Jul 22 2023\n",
      "<UciProtocol (pid=58257)>: stderr >> Loading weights file from: ../maia_weights/maia_1100.pb\n",
      "<UciProtocol (pid=58257)>: stderr >> Creating backend [metal]...\n",
      "<UciProtocol (pid=58257)>: stderr >> Initialized metal backend on device Apple M2\n"
     ]
    },
    {
     "name": "stdout",
     "output_type": "stream",
     "text": [
      "Number of steps:  242\n",
      "Episode 33: Reward = -490.4336842105262, Length = 242\n",
      "../maia_weights/maia_1100.pb\n",
      "1\n",
      "../maia_Weights/maia_1300.pb\n",
      "2\n",
      "Bot_Upgraded\n",
      "../maia_Weights/maia_1500.pb\n",
      "3\n",
      "Bot_Upgraded\n"
     ]
    },
    {
     "name": "stderr",
     "output_type": "stream",
     "text": [
      " 34%|███▍      | 34/100 [34:43<40:40, 36.97s/it]<UciProtocol (pid=58312)>: stderr >> \u001b[1m\u001b[31m       _\n",
      "<UciProtocol (pid=58312)>: stderr >> |   _ | |\n",
      "<UciProtocol (pid=58312)>: stderr >> |_ |_ |_|\u001b[0m v0.30.0+git.dirty built Jul 22 2023\n",
      "<UciProtocol (pid=58312)>: stderr >> Loading weights file from: ../maia_weights/maia_1100.pb\n",
      "<UciProtocol (pid=58312)>: stderr >> Creating backend [metal]...\n",
      "<UciProtocol (pid=58312)>: stderr >> Initialized metal backend on device Apple M2\n"
     ]
    },
    {
     "name": "stdout",
     "output_type": "stream",
     "text": [
      "Number of steps:  241\n",
      "Episode 34: Reward = -492.063157894737, Length = 241\n",
      "../maia_weights/maia_1100.pb\n",
      "1\n",
      "../maia_Weights/maia_1300.pb\n",
      "2\n",
      "Bot_Upgraded\n",
      "../maia_Weights/maia_1500.pb\n",
      "3\n",
      "Bot_Upgraded\n"
     ]
    },
    {
     "name": "stderr",
     "output_type": "stream",
     "text": [
      " 35%|███▌      | 35/100 [35:09<36:36, 33.79s/it]<UciProtocol (pid=58340)>: stderr >> \u001b[1m\u001b[31m       _\n",
      "<UciProtocol (pid=58340)>: stderr >> |   _ | |\n",
      "<UciProtocol (pid=58340)>: stderr >> |_ |_ |_|\u001b[0m v0.30.0+git.dirty built Jul 22 2023\n",
      "<UciProtocol (pid=58340)>: stderr >> Loading weights file from: ../maia_weights/maia_1100.pb\n",
      "<UciProtocol (pid=58340)>: stderr >> Creating backend [metal]...\n",
      "<UciProtocol (pid=58340)>: stderr >> Initialized metal backend on device Apple M2\n"
     ]
    },
    {
     "name": "stdout",
     "output_type": "stream",
     "text": [
      "Number of steps:  169\n",
      "Episode 35: Reward = -359.1589473684207, Length = 169\n",
      "../maia_weights/maia_1100.pb\n",
      "1\n",
      "../maia_Weights/maia_1300.pb\n",
      "2\n",
      "Bot_Upgraded\n",
      "../maia_Weights/maia_1500.pb\n",
      "3\n",
      "Bot_Upgraded\n"
     ]
    },
    {
     "name": "stderr",
     "output_type": "stream",
     "text": [
      " 36%|███▌      | 36/100 [35:35<33:29, 31.41s/it]<UciProtocol (pid=58342)>: stderr >> \u001b[1m\u001b[31m       _\n",
      "<UciProtocol (pid=58342)>: stderr >> |   _ | |\n",
      "<UciProtocol (pid=58342)>: stderr >> |_ |_ |_|\u001b[0m v0.30.0+git.dirty built Jul 22 2023\n",
      "<UciProtocol (pid=58342)>: stderr >> Loading weights file from: ../maia_weights/maia_1100.pb\n",
      "<UciProtocol (pid=58342)>: stderr >> Creating backend [metal]...\n",
      "<UciProtocol (pid=58342)>: stderr >> Initialized metal backend on device Apple M2\n"
     ]
    },
    {
     "name": "stdout",
     "output_type": "stream",
     "text": [
      "Number of steps:  166\n",
      "Episode 36: Reward = -349.9100000000002, Length = 166\n",
      "../maia_weights/maia_1100.pb\n",
      "1\n",
      "../maia_Weights/maia_1300.pb\n",
      "2\n",
      "Bot_Upgraded\n",
      "../maia_Weights/maia_1500.pb\n",
      "3\n",
      "Bot_Upgraded\n"
     ]
    },
    {
     "name": "stderr",
     "output_type": "stream",
     "text": [
      " 37%|███▋      | 37/100 [36:00<30:57, 29.49s/it]<UciProtocol (pid=58350)>: stderr >> \u001b[1m\u001b[31m       _\n",
      "<UciProtocol (pid=58350)>: stderr >> |   _ | |\n",
      "<UciProtocol (pid=58350)>: stderr >> |_ |_ |_|\u001b[0m v0.30.0+git.dirty built Jul 22 2023\n",
      "<UciProtocol (pid=58350)>: stderr >> Loading weights file from: ../maia_weights/maia_1100.pb\n",
      "<UciProtocol (pid=58350)>: stderr >> Creating backend [metal]...\n",
      "<UciProtocol (pid=58350)>: stderr >> Initialized metal backend on device Apple M2\n"
     ]
    },
    {
     "name": "stdout",
     "output_type": "stream",
     "text": [
      "Number of steps:  151\n",
      "Episode 37: Reward = -322.65315789473686, Length = 151\n",
      "../maia_weights/maia_1100.pb\n",
      "1\n",
      "../maia_Weights/maia_1300.pb\n",
      "2\n",
      "Bot_Upgraded\n",
      "../maia_Weights/maia_1500.pb\n",
      "3\n",
      "Bot_Upgraded\n"
     ]
    },
    {
     "name": "stderr",
     "output_type": "stream",
     "text": [
      " 38%|███▊      | 38/100 [36:39<33:30, 32.42s/it]<UciProtocol (pid=58353)>: stderr >> \u001b[1m\u001b[31m       _\n",
      "<UciProtocol (pid=58353)>: stderr >> |   _ | |\n",
      "<UciProtocol (pid=58353)>: stderr >> |_ |_ |_|\u001b[0m v0.30.0+git.dirty built Jul 22 2023\n",
      "<UciProtocol (pid=58353)>: stderr >> Loading weights file from: ../maia_weights/maia_1100.pb\n",
      "<UciProtocol (pid=58353)>: stderr >> Creating backend [metal]...\n",
      "<UciProtocol (pid=58353)>: stderr >> Initialized metal backend on device Apple M2\n"
     ]
    },
    {
     "name": "stdout",
     "output_type": "stream",
     "text": [
      "Number of steps:  266\n",
      "Episode 38: Reward = -545.0478947368422, Length = 266\n",
      "../maia_weights/maia_1100.pb\n",
      "1\n",
      "../maia_Weights/maia_1300.pb\n",
      "2\n",
      "Bot_Upgraded\n",
      "../maia_Weights/maia_1500.pb\n",
      "3\n",
      "Bot_Upgraded\n"
     ]
    },
    {
     "name": "stderr",
     "output_type": "stream",
     "text": [
      " 39%|███▉      | 39/100 [36:59<29:15, 28.78s/it]<UciProtocol (pid=58361)>: stderr >> \u001b[1m\u001b[31m       _\n",
      "<UciProtocol (pid=58361)>: stderr >> |   _ | |\n",
      "<UciProtocol (pid=58361)>: stderr >> |_ |_ |_|\u001b[0m v0.30.0+git.dirty built Jul 22 2023\n",
      "<UciProtocol (pid=58361)>: stderr >> Loading weights file from: ../maia_weights/maia_1100.pb\n",
      "<UciProtocol (pid=58361)>: stderr >> Creating backend [metal]...\n",
      "<UciProtocol (pid=58361)>: stderr >> Initialized metal backend on device Apple M2\n"
     ]
    },
    {
     "name": "stdout",
     "output_type": "stream",
     "text": [
      "Number of steps:  123\n",
      "Episode 39: Reward = -298.01736842105294, Length = 123\n",
      "../maia_weights/maia_1100.pb\n",
      "1\n",
      "../maia_Weights/maia_1300.pb\n",
      "2\n",
      "Bot_Upgraded\n",
      "../maia_Weights/maia_1500.pb\n",
      "3\n",
      "Bot_Upgraded\n"
     ]
    },
    {
     "name": "stderr",
     "output_type": "stream",
     "text": [
      " 40%|████      | 40/100 [38:27<46:16, 46.28s/it]<UciProtocol (pid=58392)>: stderr >> \u001b[1m\u001b[31m       _\n",
      "<UciProtocol (pid=58392)>: stderr >> |   _ | |\n",
      "<UciProtocol (pid=58392)>: stderr >> |_ |_ |_|\u001b[0m v0.30.0+git.dirty built Jul 22 2023\n",
      "<UciProtocol (pid=58392)>: stderr >> Loading weights file from: ../maia_weights/maia_1100.pb\n",
      "<UciProtocol (pid=58392)>: stderr >> Creating backend [metal]...\n",
      "<UciProtocol (pid=58392)>: stderr >> Initialized metal backend on device Apple M2\n"
     ]
    },
    {
     "name": "stdout",
     "output_type": "stream",
     "text": [
      "Number of steps:  628\n",
      "Episode 40: Reward = -1224.6252631578955, Length = 628\n",
      "../maia_weights/maia_1100.pb\n",
      "1\n",
      "../maia_Weights/maia_1300.pb\n",
      "2\n",
      "Bot_Upgraded\n",
      "../maia_Weights/maia_1500.pb\n",
      "3\n",
      "Bot_Upgraded\n"
     ]
    },
    {
     "name": "stderr",
     "output_type": "stream",
     "text": [
      " 41%|████      | 41/100 [38:41<36:08, 36.76s/it]<UciProtocol (pid=58400)>: stderr >> \u001b[1m\u001b[31m       _\n",
      "<UciProtocol (pid=58400)>: stderr >> |   _ | |\n",
      "<UciProtocol (pid=58400)>: stderr >> |_ |_ |_|\u001b[0m v0.30.0+git.dirty built Jul 22 2023\n",
      "<UciProtocol (pid=58400)>: stderr >> Loading weights file from: ../maia_weights/maia_1100.pb\n",
      "<UciProtocol (pid=58400)>: stderr >> Creating backend [metal]...\n",
      "<UciProtocol (pid=58400)>: stderr >> Initialized metal backend on device Apple M2\n"
     ]
    },
    {
     "name": "stdout",
     "output_type": "stream",
     "text": [
      "Number of steps:  81\n",
      "Episode 41: Reward = -183.58526315789473, Length = 81\n",
      "../maia_weights/maia_1100.pb\n",
      "1\n",
      "../maia_Weights/maia_1300.pb\n",
      "2\n",
      "Bot_Upgraded\n",
      "../maia_Weights/maia_1500.pb\n",
      "3\n",
      "Bot_Upgraded\n"
     ]
    },
    {
     "name": "stderr",
     "output_type": "stream",
     "text": [
      " 42%|████▏     | 42/100 [39:17<35:20, 36.55s/it]<UciProtocol (pid=58402)>: stderr >> \u001b[1m\u001b[31m       _\n",
      "<UciProtocol (pid=58402)>: stderr >> |   _ | |\n",
      "<UciProtocol (pid=58402)>: stderr >> |_ |_ |_|\u001b[0m v0.30.0+git.dirty built Jul 22 2023\n",
      "<UciProtocol (pid=58402)>: stderr >> Loading weights file from: ../maia_weights/maia_1100.pb\n",
      "<UciProtocol (pid=58402)>: stderr >> Creating backend [metal]...\n",
      "<UciProtocol (pid=58402)>: stderr >> Initialized metal backend on device Apple M2\n"
     ]
    },
    {
     "name": "stdout",
     "output_type": "stream",
     "text": [
      "Number of steps:  239\n",
      "Episode 42: Reward = -497.08157894736894, Length = 239\n",
      "../maia_weights/maia_1100.pb\n",
      "1\n",
      "../maia_Weights/maia_1300.pb\n",
      "2\n",
      "Bot_Upgraded\n",
      "../maia_Weights/maia_1500.pb\n",
      "3\n",
      "Bot_Upgraded\n"
     ]
    },
    {
     "name": "stderr",
     "output_type": "stream",
     "text": [
      " 43%|████▎     | 43/100 [40:24<43:15, 45.53s/it]<UciProtocol (pid=58410)>: stderr >> \u001b[1m\u001b[31m       _\n",
      "<UciProtocol (pid=58410)>: stderr >> |   _ | |\n",
      "<UciProtocol (pid=58410)>: stderr >> |_ |_ |_|\u001b[0m v0.30.0+git.dirty built Jul 22 2023\n",
      "<UciProtocol (pid=58410)>: stderr >> Loading weights file from: ../maia_weights/maia_1100.pb\n",
      "<UciProtocol (pid=58410)>: stderr >> Creating backend [metal]...\n",
      "<UciProtocol (pid=58410)>: stderr >> Initialized metal backend on device Apple M2\n"
     ]
    },
    {
     "name": "stdout",
     "output_type": "stream",
     "text": [
      "Number of steps:  468\n",
      "Episode 43: Reward = -969.195263157896, Length = 468\n",
      "../maia_weights/maia_1100.pb\n",
      "1\n",
      "../maia_Weights/maia_1300.pb\n",
      "2\n",
      "Bot_Upgraded\n",
      "../maia_Weights/maia_1500.pb\n",
      "3\n",
      "Bot_Upgraded\n"
     ]
    },
    {
     "name": "stderr",
     "output_type": "stream",
     "text": [
      " 44%|████▍     | 44/100 [40:41<34:33, 37.03s/it]<UciProtocol (pid=58420)>: stderr >> \u001b[1m\u001b[31m       _\n",
      "<UciProtocol (pid=58420)>: stderr >> |   _ | |\n",
      "<UciProtocol (pid=58420)>: stderr >> |_ |_ |_|\u001b[0m v0.30.0+git.dirty built Jul 22 2023\n",
      "<UciProtocol (pid=58420)>: stderr >> Loading weights file from: ../maia_weights/maia_1100.pb\n",
      "<UciProtocol (pid=58420)>: stderr >> Creating backend [metal]...\n",
      "<UciProtocol (pid=58420)>: stderr >> Initialized metal backend on device Apple M2\n"
     ]
    },
    {
     "name": "stdout",
     "output_type": "stream",
     "text": [
      "Number of steps:  100\n",
      "Episode 44: Reward = -228.2084210526317, Length = 100\n",
      "../maia_weights/maia_1100.pb\n",
      "1\n",
      "../maia_Weights/maia_1300.pb\n",
      "2\n",
      "Bot_Upgraded\n",
      "../maia_Weights/maia_1500.pb\n",
      "3\n",
      "Bot_Upgraded\n"
     ]
    },
    {
     "name": "stderr",
     "output_type": "stream",
     "text": [
      " 45%|████▌     | 45/100 [41:01<29:11, 31.85s/it]<UciProtocol (pid=58422)>: stderr >> \u001b[1m\u001b[31m       _\n",
      "<UciProtocol (pid=58422)>: stderr >> |   _ | |\n",
      "<UciProtocol (pid=58422)>: stderr >> |_ |_ |_|\u001b[0m v0.30.0+git.dirty built Jul 22 2023\n",
      "<UciProtocol (pid=58422)>: stderr >> Loading weights file from: ../maia_weights/maia_1100.pb\n",
      "<UciProtocol (pid=58422)>: stderr >> Creating backend [metal]...\n",
      "<UciProtocol (pid=58422)>: stderr >> Initialized metal backend on device Apple M2\n"
     ]
    },
    {
     "name": "stdout",
     "output_type": "stream",
     "text": [
      "Number of steps:  120\n",
      "Episode 45: Reward = -261.93526315789484, Length = 120\n",
      "../maia_weights/maia_1100.pb\n",
      "1\n",
      "../maia_Weights/maia_1300.pb\n",
      "2\n",
      "Bot_Upgraded\n",
      "../maia_Weights/maia_1500.pb\n",
      "3\n",
      "Bot_Upgraded\n"
     ]
    },
    {
     "name": "stderr",
     "output_type": "stream",
     "text": [
      " 46%|████▌     | 46/100 [41:20<25:12, 28.01s/it]<UciProtocol (pid=58430)>: stderr >> \u001b[1m\u001b[31m       _\n",
      "<UciProtocol (pid=58430)>: stderr >> |   _ | |\n",
      "<UciProtocol (pid=58430)>: stderr >> |_ |_ |_|\u001b[0m v0.30.0+git.dirty built Jul 22 2023\n",
      "<UciProtocol (pid=58430)>: stderr >> Loading weights file from: ../maia_weights/maia_1100.pb\n",
      "<UciProtocol (pid=58430)>: stderr >> Creating backend [metal]...\n",
      "<UciProtocol (pid=58430)>: stderr >> Initialized metal backend on device Apple M2\n"
     ]
    },
    {
     "name": "stdout",
     "output_type": "stream",
     "text": [
      "Number of steps:  117\n",
      "Episode 46: Reward = -241.93210526315787, Length = 117\n",
      "../maia_weights/maia_1100.pb\n",
      "1\n",
      "../maia_Weights/maia_1300.pb\n",
      "2\n",
      "Bot_Upgraded\n",
      "../maia_Weights/maia_1500.pb\n",
      "3\n",
      "Bot_Upgraded\n"
     ]
    },
    {
     "name": "stderr",
     "output_type": "stream",
     "text": [
      " 47%|████▋     | 47/100 [42:10<30:37, 34.66s/it]<UciProtocol (pid=58433)>: stderr >> \u001b[1m\u001b[31m       _\n",
      "<UciProtocol (pid=58433)>: stderr >> |   _ | |\n",
      "<UciProtocol (pid=58433)>: stderr >> |_ |_ |_|\u001b[0m v0.30.0+git.dirty built Jul 22 2023\n",
      "<UciProtocol (pid=58433)>: stderr >> Loading weights file from: ../maia_weights/maia_1100.pb\n",
      "<UciProtocol (pid=58433)>: stderr >> Creating backend [metal]...\n",
      "<UciProtocol (pid=58433)>: stderr >> Initialized metal backend on device Apple M2\n"
     ]
    },
    {
     "name": "stdout",
     "output_type": "stream",
     "text": [
      "Number of steps:  351\n",
      "Episode 47: Reward = -710.2347368421059, Length = 351\n",
      "../maia_weights/maia_1100.pb\n",
      "1\n",
      "../maia_Weights/maia_1300.pb\n",
      "2\n",
      "Bot_Upgraded\n",
      "../maia_Weights/maia_1500.pb\n",
      "3\n",
      "Bot_Upgraded\n"
     ]
    },
    {
     "name": "stderr",
     "output_type": "stream",
     "text": [
      " 48%|████▊     | 48/100 [42:37<28:04, 32.39s/it]<UciProtocol (pid=58442)>: stderr >> \u001b[1m\u001b[31m       _\n",
      "<UciProtocol (pid=58442)>: stderr >> |   _ | |\n",
      "<UciProtocol (pid=58442)>: stderr >> |_ |_ |_|\u001b[0m v0.30.0+git.dirty built Jul 22 2023\n",
      "<UciProtocol (pid=58442)>: stderr >> Loading weights file from: ../maia_weights/maia_1100.pb\n",
      "<UciProtocol (pid=58442)>: stderr >> Creating backend [metal]...\n",
      "<UciProtocol (pid=58442)>: stderr >> Initialized metal backend on device Apple M2\n"
     ]
    },
    {
     "name": "stdout",
     "output_type": "stream",
     "text": [
      "Number of steps:  171\n",
      "Episode 48: Reward = -352.49894736842106, Length = 171\n",
      "../maia_weights/maia_1100.pb\n",
      "1\n",
      "../maia_Weights/maia_1300.pb\n",
      "2\n",
      "Bot_Upgraded\n",
      "../maia_Weights/maia_1500.pb\n",
      "3\n",
      "Bot_Upgraded\n"
     ]
    },
    {
     "name": "stderr",
     "output_type": "stream",
     "text": [
      " 49%|████▉     | 49/100 [43:04<26:03, 30.65s/it]<UciProtocol (pid=58444)>: stderr >> \u001b[1m\u001b[31m       _\n",
      "<UciProtocol (pid=58444)>: stderr >> |   _ | |\n",
      "<UciProtocol (pid=58444)>: stderr >> |_ |_ |_|\u001b[0m v0.30.0+git.dirty built Jul 22 2023\n",
      "<UciProtocol (pid=58444)>: stderr >> Loading weights file from: ../maia_weights/maia_1100.pb\n",
      "<UciProtocol (pid=58444)>: stderr >> Creating backend [metal]...\n",
      "<UciProtocol (pid=58444)>: stderr >> Initialized metal backend on device Apple M2\n"
     ]
    },
    {
     "name": "stdout",
     "output_type": "stream",
     "text": [
      "Number of steps:  172\n",
      "Episode 49: Reward = -358.1631578947366, Length = 172\n",
      "../maia_weights/maia_1100.pb\n",
      "1\n",
      "../maia_Weights/maia_1300.pb\n",
      "2\n",
      "Bot_Upgraded\n",
      "../maia_Weights/maia_1500.pb\n",
      "3\n",
      "Bot_Upgraded\n"
     ]
    },
    {
     "name": "stderr",
     "output_type": "stream",
     "text": [
      " 50%|█████     | 50/100 [43:46<28:26, 34.13s/it]<UciProtocol (pid=58473)>: stderr >> \u001b[1m\u001b[31m       _\n",
      "<UciProtocol (pid=58473)>: stderr >> |   _ | |\n",
      "<UciProtocol (pid=58473)>: stderr >> |_ |_ |_|\u001b[0m v0.30.0+git.dirty built Jul 22 2023\n",
      "<UciProtocol (pid=58473)>: stderr >> Loading weights file from: ../maia_weights/maia_1100.pb\n",
      "<UciProtocol (pid=58473)>: stderr >> Creating backend [metal]...\n",
      "<UciProtocol (pid=58473)>: stderr >> Initialized metal backend on device Apple M2\n"
     ]
    },
    {
     "name": "stdout",
     "output_type": "stream",
     "text": [
      "Number of steps:  291\n",
      "Episode 50: Reward = -590.9489473684205, Length = 291\n",
      "../maia_weights/maia_1100.pb\n",
      "1\n",
      "../maia_Weights/maia_1300.pb\n",
      "2\n",
      "Bot_Upgraded\n",
      "../maia_Weights/maia_1500.pb\n",
      "3\n",
      "Bot_Upgraded\n"
     ]
    },
    {
     "name": "stderr",
     "output_type": "stream",
     "text": [
      " 51%|█████     | 51/100 [44:17<27:11, 33.30s/it]<UciProtocol (pid=58476)>: stderr >> \u001b[1m\u001b[31m       _\n",
      "<UciProtocol (pid=58476)>: stderr >> |   _ | |\n",
      "<UciProtocol (pid=58476)>: stderr >> |_ |_ |_|\u001b[0m v0.30.0+git.dirty built Jul 22 2023\n",
      "<UciProtocol (pid=58476)>: stderr >> Loading weights file from: ../maia_weights/maia_1100.pb\n",
      "<UciProtocol (pid=58476)>: stderr >> Creating backend [metal]...\n",
      "<UciProtocol (pid=58476)>: stderr >> Initialized metal backend on device Apple M2\n"
     ]
    },
    {
     "name": "stdout",
     "output_type": "stream",
     "text": [
      "Number of steps:  206\n",
      "Episode 51: Reward = -422.7168421052629, Length = 206\n",
      "../maia_weights/maia_1100.pb\n",
      "1\n",
      "../maia_Weights/maia_1300.pb\n",
      "2\n",
      "Bot_Upgraded\n",
      "../maia_Weights/maia_1500.pb\n",
      "3\n",
      "Bot_Upgraded\n"
     ]
    },
    {
     "name": "stderr",
     "output_type": "stream",
     "text": [
      " 52%|█████▏    | 52/100 [44:42<24:37, 30.78s/it]<UciProtocol (pid=58485)>: stderr >> \u001b[1m\u001b[31m       _\n",
      "<UciProtocol (pid=58485)>: stderr >> |   _ | |\n",
      "<UciProtocol (pid=58485)>: stderr >> |_ |_ |_|\u001b[0m v0.30.0+git.dirty built Jul 22 2023\n",
      "<UciProtocol (pid=58485)>: stderr >> Loading weights file from: ../maia_weights/maia_1100.pb\n",
      "<UciProtocol (pid=58485)>: stderr >> Creating backend [metal]...\n",
      "<UciProtocol (pid=58485)>: stderr >> Initialized metal backend on device Apple M2\n"
     ]
    },
    {
     "name": "stdout",
     "output_type": "stream",
     "text": [
      "Number of steps:  160\n",
      "Episode 52: Reward = -330.2047368421058, Length = 160\n",
      "../maia_weights/maia_1100.pb\n",
      "1\n",
      "../maia_Weights/maia_1300.pb\n",
      "2\n",
      "Bot_Upgraded\n",
      "../maia_Weights/maia_1500.pb\n",
      "3\n",
      "Bot_Upgraded\n"
     ]
    },
    {
     "name": "stderr",
     "output_type": "stream",
     "text": [
      " 53%|█████▎    | 53/100 [45:00<21:00, 26.82s/it]<UciProtocol (pid=58487)>: stderr >> \u001b[1m\u001b[31m       _\n",
      "<UciProtocol (pid=58487)>: stderr >> |   _ | |\n",
      "<UciProtocol (pid=58487)>: stderr >> |_ |_ |_|\u001b[0m v0.30.0+git.dirty built Jul 22 2023\n",
      "<UciProtocol (pid=58487)>: stderr >> Loading weights file from: ../maia_weights/maia_1100.pb\n",
      "<UciProtocol (pid=58487)>: stderr >> Creating backend [metal]...\n",
      "<UciProtocol (pid=58487)>: stderr >> Initialized metal backend on device Apple M2\n"
     ]
    },
    {
     "name": "stdout",
     "output_type": "stream",
     "text": [
      "Number of steps:  101\n",
      "Episode 53: Reward = -210.36894736842117, Length = 101\n",
      "../maia_weights/maia_1100.pb\n",
      "1\n",
      "../maia_Weights/maia_1300.pb\n",
      "2\n",
      "Bot_Upgraded\n",
      "../maia_Weights/maia_1500.pb\n",
      "3\n",
      "Bot_Upgraded\n"
     ]
    },
    {
     "name": "stderr",
     "output_type": "stream",
     "text": [
      " 54%|█████▍    | 54/100 [45:31<21:36, 28.19s/it]<UciProtocol (pid=58507)>: stderr >> \u001b[1m\u001b[31m       _\n",
      "<UciProtocol (pid=58507)>: stderr >> |   _ | |\n",
      "<UciProtocol (pid=58507)>: stderr >> |_ |_ |_|\u001b[0m v0.30.0+git.dirty built Jul 22 2023\n",
      "<UciProtocol (pid=58507)>: stderr >> Loading weights file from: ../maia_weights/maia_1100.pb\n",
      "<UciProtocol (pid=58507)>: stderr >> Creating backend [metal]...\n",
      "<UciProtocol (pid=58507)>: stderr >> Initialized metal backend on device Apple M2\n"
     ]
    },
    {
     "name": "stdout",
     "output_type": "stream",
     "text": [
      "Number of steps:  207\n",
      "Episode 54: Reward = -419.18842105263195, Length = 207\n",
      "../maia_weights/maia_1100.pb\n",
      "1\n",
      "../maia_Weights/maia_1300.pb\n",
      "2\n",
      "Bot_Upgraded\n",
      "../maia_Weights/maia_1500.pb\n",
      "3\n",
      "Bot_Upgraded\n"
     ]
    },
    {
     "name": "stderr",
     "output_type": "stream",
     "text": [
      " 55%|█████▌    | 55/100 [45:59<21:07, 28.17s/it]<UciProtocol (pid=58515)>: stderr >> \u001b[1m\u001b[31m       _\n",
      "<UciProtocol (pid=58515)>: stderr >> |   _ | |\n",
      "<UciProtocol (pid=58515)>: stderr >> |_ |_ |_|\u001b[0m v0.30.0+git.dirty built Jul 22 2023\n",
      "<UciProtocol (pid=58515)>: stderr >> Loading weights file from: ../maia_weights/maia_1100.pb\n",
      "<UciProtocol (pid=58515)>: stderr >> Creating backend [metal]...\n",
      "<UciProtocol (pid=58515)>: stderr >> Initialized metal backend on device Apple M2\n"
     ]
    },
    {
     "name": "stdout",
     "output_type": "stream",
     "text": [
      "Number of steps:  183\n",
      "Episode 55: Reward = -375.09000000000043, Length = 183\n",
      "../maia_weights/maia_1100.pb\n",
      "1\n",
      "../maia_Weights/maia_1300.pb\n",
      "2\n",
      "Bot_Upgraded\n",
      "../maia_Weights/maia_1500.pb\n",
      "3\n",
      "Bot_Upgraded\n"
     ]
    },
    {
     "name": "stderr",
     "output_type": "stream",
     "text": [
      " 56%|█████▌    | 56/100 [47:24<33:05, 45.11s/it]<UciProtocol (pid=58518)>: stderr >> \u001b[1m\u001b[31m       _\n",
      "<UciProtocol (pid=58518)>: stderr >> |   _ | |\n",
      "<UciProtocol (pid=58518)>: stderr >> |_ |_ |_|\u001b[0m v0.30.0+git.dirty built Jul 22 2023\n",
      "<UciProtocol (pid=58518)>: stderr >> Loading weights file from: ../maia_weights/maia_1100.pb\n",
      "<UciProtocol (pid=58518)>: stderr >> Creating backend [metal]...\n",
      "<UciProtocol (pid=58518)>: stderr >> Initialized metal backend on device Apple M2\n"
     ]
    },
    {
     "name": "stdout",
     "output_type": "stream",
     "text": [
      "Number of steps:  607\n",
      "Episode 56: Reward = -1211.3199999999956, Length = 607\n",
      "../maia_weights/maia_1100.pb\n",
      "1\n",
      "../maia_Weights/maia_1300.pb\n",
      "2\n",
      "Bot_Upgraded\n",
      "../maia_Weights/maia_1500.pb\n",
      "3\n",
      "Bot_Upgraded\n"
     ]
    },
    {
     "name": "stderr",
     "output_type": "stream",
     "text": [
      " 57%|█████▋    | 57/100 [47:36<25:12, 35.16s/it]<UciProtocol (pid=58527)>: stderr >> \u001b[1m\u001b[31m       _\n",
      "<UciProtocol (pid=58527)>: stderr >> |   _ | |\n",
      "<UciProtocol (pid=58527)>: stderr >> |_ |_ |_|\u001b[0m v0.30.0+git.dirty built Jul 22 2023\n",
      "<UciProtocol (pid=58527)>: stderr >> Loading weights file from: ../maia_weights/maia_1100.pb\n",
      "<UciProtocol (pid=58527)>: stderr >> Creating backend [metal]...\n",
      "<UciProtocol (pid=58527)>: stderr >> Initialized metal backend on device Apple M2\n"
     ]
    },
    {
     "name": "stdout",
     "output_type": "stream",
     "text": [
      "Number of steps:  59\n",
      "Episode 57: Reward = -134.49105263157887, Length = 59\n",
      "../maia_weights/maia_1100.pb\n",
      "1\n",
      "../maia_Weights/maia_1300.pb\n",
      "2\n",
      "Bot_Upgraded\n",
      "../maia_Weights/maia_1500.pb\n",
      "3\n",
      "Bot_Upgraded\n"
     ]
    },
    {
     "name": "stderr",
     "output_type": "stream",
     "text": [
      " 58%|█████▊    | 58/100 [48:28<28:16, 40.38s/it]<UciProtocol (pid=58538)>: stderr >> \u001b[1m\u001b[31m       _\n",
      "<UciProtocol (pid=58538)>: stderr >> |   _ | |\n",
      "<UciProtocol (pid=58538)>: stderr >> |_ |_ |_|\u001b[0m v0.30.0+git.dirty built Jul 22 2023\n",
      "<UciProtocol (pid=58538)>: stderr >> Loading weights file from: ../maia_weights/maia_1100.pb\n",
      "<UciProtocol (pid=58538)>: stderr >> Creating backend [metal]...\n",
      "<UciProtocol (pid=58538)>: stderr >> Initialized metal backend on device Apple M2\n"
     ]
    },
    {
     "name": "stdout",
     "output_type": "stream",
     "text": [
      "Number of steps:  368\n",
      "Episode 58: Reward = -752.2494736842112, Length = 368\n",
      "../maia_weights/maia_1100.pb\n",
      "1\n",
      "../maia_Weights/maia_1300.pb\n",
      "2\n",
      "Bot_Upgraded\n",
      "../maia_Weights/maia_1500.pb\n",
      "3\n",
      "Bot_Upgraded\n"
     ]
    },
    {
     "name": "stderr",
     "output_type": "stream",
     "text": [
      " 59%|█████▉    | 59/100 [48:56<24:57, 36.53s/it]<UciProtocol (pid=58549)>: stderr >> \u001b[1m\u001b[31m       _\n",
      "<UciProtocol (pid=58549)>: stderr >> |   _ | |\n",
      "<UciProtocol (pid=58549)>: stderr >> |_ |_ |_|\u001b[0m v0.30.0+git.dirty built Jul 22 2023\n",
      "<UciProtocol (pid=58549)>: stderr >> Loading weights file from: ../maia_weights/maia_1100.pb\n",
      "<UciProtocol (pid=58549)>: stderr >> Creating backend [metal]...\n",
      "<UciProtocol (pid=58549)>: stderr >> Initialized metal backend on device Apple M2\n"
     ]
    },
    {
     "name": "stdout",
     "output_type": "stream",
     "text": [
      "Number of steps:  180\n",
      "Episode 59: Reward = -361.32894736842076, Length = 180\n",
      "../maia_weights/maia_1100.pb\n",
      "1\n",
      "../maia_Weights/maia_1300.pb\n",
      "2\n",
      "Bot_Upgraded\n",
      "../maia_Weights/maia_1500.pb\n",
      "3\n",
      "Bot_Upgraded\n"
     ]
    },
    {
     "name": "stderr",
     "output_type": "stream",
     "text": [
      " 60%|██████    | 60/100 [49:33<24:24, 36.60s/it]<UciProtocol (pid=58585)>: stderr >> \u001b[1m\u001b[31m       _\n",
      "<UciProtocol (pid=58585)>: stderr >> |   _ | |\n",
      "<UciProtocol (pid=58585)>: stderr >> |_ |_ |_|\u001b[0m v0.30.0+git.dirty built Jul 22 2023\n",
      "<UciProtocol (pid=58585)>: stderr >> Loading weights file from: ../maia_weights/maia_1100.pb\n",
      "<UciProtocol (pid=58585)>: stderr >> Creating backend [metal]...\n",
      "<UciProtocol (pid=58585)>: stderr >> Initialized metal backend on device Apple M2\n"
     ]
    },
    {
     "name": "stdout",
     "output_type": "stream",
     "text": [
      "Number of steps:  239\n",
      "Episode 60: Reward = -485.50789473684176, Length = 239\n",
      "../maia_weights/maia_1100.pb\n",
      "1\n",
      "../maia_Weights/maia_1300.pb\n",
      "2\n",
      "Bot_Upgraded\n",
      "../maia_Weights/maia_1500.pb\n",
      "3\n",
      "Bot_Upgraded\n"
     ]
    },
    {
     "name": "stderr",
     "output_type": "stream",
     "text": [
      " 61%|██████    | 61/100 [49:55<21:04, 32.43s/it]<UciProtocol (pid=58633)>: stderr >> \u001b[1m\u001b[31m       _\n",
      "<UciProtocol (pid=58633)>: stderr >> |   _ | |\n",
      "<UciProtocol (pid=58633)>: stderr >> |_ |_ |_|\u001b[0m v0.30.0+git.dirty built Jul 22 2023\n",
      "<UciProtocol (pid=58633)>: stderr >> Loading weights file from: ../maia_weights/maia_1100.pb\n",
      "<UciProtocol (pid=58633)>: stderr >> Creating backend [metal]...\n",
      "<UciProtocol (pid=58633)>: stderr >> Initialized metal backend on device Apple M2\n"
     ]
    },
    {
     "name": "stdout",
     "output_type": "stream",
     "text": [
      "Number of steps:  133\n",
      "Episode 61: Reward = -297.3615789473682, Length = 133\n",
      "../maia_weights/maia_1100.pb\n",
      "1\n",
      "../maia_Weights/maia_1300.pb\n",
      "2\n",
      "Bot_Upgraded\n",
      "../maia_Weights/maia_1500.pb\n",
      "3\n",
      "Bot_Upgraded\n"
     ]
    },
    {
     "name": "stderr",
     "output_type": "stream",
     "text": [
      " 62%|██████▏   | 62/100 [50:41<23:08, 36.55s/it]<UciProtocol (pid=58645)>: stderr >> \u001b[1m\u001b[31m       _\n",
      "<UciProtocol (pid=58645)>: stderr >> |   _ | |\n",
      "<UciProtocol (pid=58645)>: stderr >> |_ |_ |_|\u001b[0m v0.30.0+git.dirty built Jul 22 2023\n",
      "<UciProtocol (pid=58645)>: stderr >> Loading weights file from: ../maia_weights/maia_1100.pb\n",
      "<UciProtocol (pid=58645)>: stderr >> Creating backend [metal]...\n",
      "<UciProtocol (pid=58645)>: stderr >> Initialized metal backend on device Apple M2\n"
     ]
    },
    {
     "name": "stdout",
     "output_type": "stream",
     "text": [
      "Number of steps:  298\n",
      "Episode 62: Reward = -599.6847368421056, Length = 298\n",
      "../maia_weights/maia_1100.pb\n",
      "1\n",
      "../maia_Weights/maia_1300.pb\n",
      "2\n",
      "Bot_Upgraded\n",
      "../maia_Weights/maia_1500.pb\n",
      "3\n",
      "Bot_Upgraded\n"
     ]
    },
    {
     "name": "stderr",
     "output_type": "stream",
     "text": [
      " 63%|██████▎   | 63/100 [51:02<19:39, 31.89s/it]<UciProtocol (pid=58647)>: stderr >> \u001b[1m\u001b[31m       _\n",
      "<UciProtocol (pid=58647)>: stderr >> |   _ | |\n",
      "<UciProtocol (pid=58647)>: stderr >> |_ |_ |_|\u001b[0m v0.30.0+git.dirty built Jul 22 2023\n",
      "<UciProtocol (pid=58647)>: stderr >> Loading weights file from: ../maia_weights/maia_1100.pb\n",
      "<UciProtocol (pid=58647)>: stderr >> Creating backend [metal]...\n",
      "<UciProtocol (pid=58647)>: stderr >> Initialized metal backend on device Apple M2\n"
     ]
    },
    {
     "name": "stdout",
     "output_type": "stream",
     "text": [
      "Number of steps:  133\n",
      "Episode 63: Reward = -327.7652631578949, Length = 133\n",
      "../maia_weights/maia_1100.pb\n",
      "1\n",
      "../maia_Weights/maia_1300.pb\n",
      "2\n",
      "Bot_Upgraded\n",
      "../maia_Weights/maia_1500.pb\n",
      "3\n",
      "Bot_Upgraded\n"
     ]
    },
    {
     "name": "stderr",
     "output_type": "stream",
     "text": [
      " 64%|██████▍   | 64/100 [51:23<17:04, 28.47s/it]<UciProtocol (pid=58655)>: stderr >> \u001b[1m\u001b[31m       _\n",
      "<UciProtocol (pid=58655)>: stderr >> |   _ | |\n",
      "<UciProtocol (pid=58655)>: stderr >> |_ |_ |_|\u001b[0m v0.30.0+git.dirty built Jul 22 2023\n",
      "<UciProtocol (pid=58655)>: stderr >> Loading weights file from: ../maia_weights/maia_1100.pb\n",
      "<UciProtocol (pid=58655)>: stderr >> Creating backend [metal]...\n",
      "<UciProtocol (pid=58655)>: stderr >> Initialized metal backend on device Apple M2\n"
     ]
    },
    {
     "name": "stdout",
     "output_type": "stream",
     "text": [
      "Number of steps:  120\n",
      "Episode 64: Reward = -249.17526315789485, Length = 120\n",
      "../maia_weights/maia_1100.pb\n",
      "1\n",
      "../maia_Weights/maia_1300.pb\n",
      "2\n",
      "Bot_Upgraded\n",
      "../maia_Weights/maia_1500.pb\n",
      "3\n",
      "Bot_Upgraded\n"
     ]
    },
    {
     "name": "stderr",
     "output_type": "stream",
     "text": [
      " 65%|██████▌   | 65/100 [51:45<15:28, 26.54s/it]<UciProtocol (pid=58658)>: stderr >> \u001b[1m\u001b[31m       _\n",
      "<UciProtocol (pid=58658)>: stderr >> |   _ | |\n",
      "<UciProtocol (pid=58658)>: stderr >> |_ |_ |_|\u001b[0m v0.30.0+git.dirty built Jul 22 2023\n",
      "<UciProtocol (pid=58658)>: stderr >> Loading weights file from: ../maia_weights/maia_1100.pb\n",
      "<UciProtocol (pid=58658)>: stderr >> Creating backend [metal]...\n",
      "<UciProtocol (pid=58658)>: stderr >> Initialized metal backend on device Apple M2\n"
     ]
    },
    {
     "name": "stdout",
     "output_type": "stream",
     "text": [
      "Number of steps:  139\n",
      "Episode 65: Reward = -293.22789473684225, Length = 139\n",
      "../maia_weights/maia_1100.pb\n",
      "1\n",
      "../maia_Weights/maia_1300.pb\n",
      "2\n",
      "Bot_Upgraded\n",
      "../maia_Weights/maia_1500.pb\n",
      "3\n",
      "Bot_Upgraded\n"
     ]
    },
    {
     "name": "stderr",
     "output_type": "stream",
     "text": [
      " 66%|██████▌   | 66/100 [52:17<16:02, 28.31s/it]<UciProtocol (pid=58672)>: stderr >> \u001b[1m\u001b[31m       _\n",
      "<UciProtocol (pid=58672)>: stderr >> |   _ | |\n",
      "<UciProtocol (pid=58672)>: stderr >> |_ |_ |_|\u001b[0m v0.30.0+git.dirty built Jul 22 2023\n",
      "<UciProtocol (pid=58672)>: stderr >> Loading weights file from: ../maia_weights/maia_1100.pb\n",
      "<UciProtocol (pid=58672)>: stderr >> Creating backend [metal]...\n",
      "<UciProtocol (pid=58672)>: stderr >> Initialized metal backend on device Apple M2\n"
     ]
    },
    {
     "name": "stdout",
     "output_type": "stream",
     "text": [
      "Number of steps:  217\n",
      "Episode 66: Reward = -459.21631578947404, Length = 217\n",
      "../maia_weights/maia_1100.pb\n",
      "1\n",
      "../maia_Weights/maia_1300.pb\n",
      "2\n",
      "Bot_Upgraded\n",
      "../maia_Weights/maia_1500.pb\n",
      "3\n",
      "Bot_Upgraded\n"
     ]
    },
    {
     "name": "stderr",
     "output_type": "stream",
     "text": [
      " 67%|██████▋   | 67/100 [54:11<29:40, 53.95s/it]<UciProtocol (pid=58681)>: stderr >> \u001b[1m\u001b[31m       _\n",
      "<UciProtocol (pid=58681)>: stderr >> |   _ | |\n",
      "<UciProtocol (pid=58681)>: stderr >> |_ |_ |_|\u001b[0m v0.30.0+git.dirty built Jul 22 2023\n",
      "<UciProtocol (pid=58681)>: stderr >> Loading weights file from: ../maia_weights/maia_1100.pb\n",
      "<UciProtocol (pid=58681)>: stderr >> Creating backend [metal]...\n",
      "<UciProtocol (pid=58681)>: stderr >> Initialized metal backend on device Apple M2\n"
     ]
    },
    {
     "name": "stdout",
     "output_type": "stream",
     "text": [
      "Number of steps:  824\n",
      "Episode 67: Reward = -1651.1278947368464, Length = 824\n",
      "../maia_weights/maia_1100.pb\n",
      "1\n",
      "../maia_Weights/maia_1300.pb\n",
      "2\n",
      "Bot_Upgraded\n",
      "../maia_Weights/maia_1500.pb\n",
      "3\n",
      "Bot_Upgraded\n"
     ]
    },
    {
     "name": "stderr",
     "output_type": "stream",
     "text": [
      " 68%|██████▊   | 68/100 [54:32<23:25, 43.93s/it]<UciProtocol (pid=58692)>: stderr >> \u001b[1m\u001b[31m       _\n",
      "<UciProtocol (pid=58692)>: stderr >> |   _ | |\n",
      "<UciProtocol (pid=58692)>: stderr >> |_ |_ |_|\u001b[0m v0.30.0+git.dirty built Jul 22 2023\n",
      "<UciProtocol (pid=58692)>: stderr >> Loading weights file from: ../maia_weights/maia_1100.pb\n",
      "<UciProtocol (pid=58692)>: stderr >> Creating backend [metal]...\n",
      "<UciProtocol (pid=58692)>: stderr >> Initialized metal backend on device Apple M2\n"
     ]
    },
    {
     "name": "stdout",
     "output_type": "stream",
     "text": [
      "Number of steps:  122\n",
      "Episode 68: Reward = -268.3036842105264, Length = 122\n",
      "../maia_weights/maia_1100.pb\n",
      "1\n",
      "../maia_Weights/maia_1300.pb\n",
      "2\n",
      "Bot_Upgraded\n",
      "../maia_Weights/maia_1500.pb\n",
      "3\n",
      "Bot_Upgraded\n"
     ]
    },
    {
     "name": "stderr",
     "output_type": "stream",
     "text": [
      " 69%|██████▉   | 69/100 [54:51<18:54, 36.59s/it]<UciProtocol (pid=58706)>: stderr >> \u001b[1m\u001b[31m       _\n",
      "<UciProtocol (pid=58706)>: stderr >> |   _ | |\n",
      "<UciProtocol (pid=58706)>: stderr >> |_ |_ |_|\u001b[0m v0.30.0+git.dirty built Jul 22 2023\n",
      "<UciProtocol (pid=58706)>: stderr >> Loading weights file from: ../maia_weights/maia_1100.pb\n",
      "<UciProtocol (pid=58706)>: stderr >> Creating backend [metal]...\n",
      "<UciProtocol (pid=58706)>: stderr >> Initialized metal backend on device Apple M2\n"
     ]
    },
    {
     "name": "stdout",
     "output_type": "stream",
     "text": [
      "Number of steps:  117\n",
      "Episode 69: Reward = -241.46000000000004, Length = 117\n",
      "../maia_weights/maia_1100.pb\n",
      "1\n",
      "../maia_Weights/maia_1300.pb\n",
      "2\n",
      "Bot_Upgraded\n",
      "../maia_Weights/maia_1500.pb\n",
      "3\n",
      "Bot_Upgraded\n"
     ]
    },
    {
     "name": "stderr",
     "output_type": "stream",
     "text": [
      " 70%|███████   | 70/100 [55:13<16:05, 32.19s/it]<UciProtocol (pid=58714)>: stderr >> \u001b[1m\u001b[31m       _\n",
      "<UciProtocol (pid=58714)>: stderr >> |   _ | |\n",
      "<UciProtocol (pid=58714)>: stderr >> |_ |_ |_|\u001b[0m v0.30.0+git.dirty built Jul 22 2023\n",
      "<UciProtocol (pid=58714)>: stderr >> Loading weights file from: ../maia_weights/maia_1100.pb\n",
      "<UciProtocol (pid=58714)>: stderr >> Creating backend [metal]...\n",
      "<UciProtocol (pid=58714)>: stderr >> Initialized metal backend on device Apple M2\n"
     ]
    },
    {
     "name": "stdout",
     "output_type": "stream",
     "text": [
      "Number of steps:  136\n",
      "Episode 70: Reward = -293.47105263157897, Length = 136\n",
      "../maia_weights/maia_1100.pb\n",
      "1\n",
      "../maia_Weights/maia_1300.pb\n",
      "2\n",
      "Bot_Upgraded\n",
      "../maia_Weights/maia_1500.pb\n",
      "3\n",
      "Bot_Upgraded\n"
     ]
    },
    {
     "name": "stderr",
     "output_type": "stream",
     "text": [
      " 71%|███████   | 71/100 [55:37<14:23, 29.77s/it]<UciProtocol (pid=58736)>: stderr >> \u001b[1m\u001b[31m       _\n",
      "<UciProtocol (pid=58736)>: stderr >> |   _ | |\n",
      "<UciProtocol (pid=58736)>: stderr >> |_ |_ |_|\u001b[0m v0.30.0+git.dirty built Jul 22 2023\n",
      "<UciProtocol (pid=58736)>: stderr >> Loading weights file from: ../maia_weights/maia_1100.pb\n",
      "<UciProtocol (pid=58736)>: stderr >> Creating backend [metal]...\n",
      "<UciProtocol (pid=58736)>: stderr >> Initialized metal backend on device Apple M2\n"
     ]
    },
    {
     "name": "stdout",
     "output_type": "stream",
     "text": [
      "Number of steps:  155\n",
      "Episode 71: Reward = -335.97105263157897, Length = 155\n",
      "../maia_weights/maia_1100.pb\n",
      "1\n",
      "../maia_Weights/maia_1300.pb\n",
      "2\n",
      "Bot_Upgraded\n",
      "../maia_Weights/maia_1500.pb\n",
      "3\n",
      "Bot_Upgraded\n"
     ]
    },
    {
     "name": "stderr",
     "output_type": "stream",
     "text": [
      " 72%|███████▏  | 72/100 [55:55<12:15, 26.27s/it]<UciProtocol (pid=58744)>: stderr >> \u001b[1m\u001b[31m       _\n",
      "<UciProtocol (pid=58744)>: stderr >> |   _ | |\n",
      "<UciProtocol (pid=58744)>: stderr >> |_ |_ |_|\u001b[0m v0.30.0+git.dirty built Jul 22 2023\n",
      "<UciProtocol (pid=58744)>: stderr >> Loading weights file from: ../maia_weights/maia_1100.pb\n",
      "<UciProtocol (pid=58744)>: stderr >> Creating backend [metal]...\n",
      "<UciProtocol (pid=58744)>: stderr >> Initialized metal backend on device Apple M2\n"
     ]
    },
    {
     "name": "stdout",
     "output_type": "stream",
     "text": [
      "Number of steps:  106\n",
      "Episode 72: Reward = -222.61526315789462, Length = 106\n",
      "../maia_weights/maia_1100.pb\n",
      "1\n",
      "../maia_Weights/maia_1300.pb\n",
      "2\n",
      "Bot_Upgraded\n",
      "../maia_Weights/maia_1500.pb\n",
      "3\n",
      "Bot_Upgraded\n"
     ]
    },
    {
     "name": "stderr",
     "output_type": "stream",
     "text": [
      " 73%|███████▎  | 73/100 [57:08<18:03, 40.13s/it]<UciProtocol (pid=58750)>: stderr >> \u001b[1m\u001b[31m       _\n",
      "<UciProtocol (pid=58750)>: stderr >> |   _ | |\n",
      "<UciProtocol (pid=58750)>: stderr >> |_ |_ |_|\u001b[0m v0.30.0+git.dirty built Jul 22 2023\n",
      "<UciProtocol (pid=58750)>: stderr >> Loading weights file from: ../maia_weights/maia_1100.pb\n",
      "<UciProtocol (pid=58750)>: stderr >> Creating backend [metal]...\n",
      "<UciProtocol (pid=58750)>: stderr >> Initialized metal backend on device Apple M2\n"
     ]
    },
    {
     "name": "stdout",
     "output_type": "stream",
     "text": [
      "Number of steps:  515\n",
      "Episode 73: Reward = -1053.0831578947339, Length = 515\n",
      "../maia_weights/maia_1100.pb\n",
      "1\n",
      "../maia_Weights/maia_1300.pb\n",
      "2\n",
      "Bot_Upgraded\n",
      "../maia_Weights/maia_1500.pb\n",
      "3\n",
      "Bot_Upgraded\n"
     ]
    },
    {
     "name": "stderr",
     "output_type": "stream",
     "text": [
      " 74%|███████▍  | 74/100 [58:30<22:54, 52.87s/it]<UciProtocol (pid=58770)>: stderr >> \u001b[1m\u001b[31m       _\n",
      "<UciProtocol (pid=58770)>: stderr >> |   _ | |\n",
      "<UciProtocol (pid=58770)>: stderr >> |_ |_ |_|\u001b[0m v0.30.0+git.dirty built Jul 22 2023\n",
      "<UciProtocol (pid=58770)>: stderr >> Loading weights file from: ../maia_weights/maia_1100.pb\n",
      "<UciProtocol (pid=58770)>: stderr >> Creating backend [metal]...\n",
      "<UciProtocol (pid=58770)>: stderr >> Initialized metal backend on device Apple M2\n"
     ]
    },
    {
     "name": "stdout",
     "output_type": "stream",
     "text": [
      "Number of steps:  593\n",
      "Episode 74: Reward = -1187.9184210526294, Length = 593\n",
      "../maia_weights/maia_1100.pb\n",
      "1\n",
      "../maia_Weights/maia_1300.pb\n",
      "2\n",
      "Bot_Upgraded\n",
      "../maia_Weights/maia_1500.pb\n",
      "3\n",
      "Bot_Upgraded\n"
     ]
    },
    {
     "name": "stderr",
     "output_type": "stream",
     "text": [
      " 75%|███████▌  | 75/100 [59:07<20:02, 48.08s/it]<UciProtocol (pid=58779)>: stderr >> \u001b[1m\u001b[31m       _\n",
      "<UciProtocol (pid=58779)>: stderr >> |   _ | |\n",
      "<UciProtocol (pid=58779)>: stderr >> |_ |_ |_|\u001b[0m v0.30.0+git.dirty built Jul 22 2023\n",
      "<UciProtocol (pid=58779)>: stderr >> Loading weights file from: ../maia_weights/maia_1100.pb\n",
      "<UciProtocol (pid=58779)>: stderr >> Creating backend [metal]...\n",
      "<UciProtocol (pid=58779)>: stderr >> Initialized metal backend on device Apple M2\n"
     ]
    },
    {
     "name": "stdout",
     "output_type": "stream",
     "text": [
      "Number of steps:  247\n",
      "Episode 75: Reward = -505.45052631579057, Length = 247\n",
      "../maia_weights/maia_1100.pb\n",
      "1\n",
      "../maia_Weights/maia_1300.pb\n",
      "2\n",
      "Bot_Upgraded\n",
      "../maia_Weights/maia_1500.pb\n",
      "3\n",
      "Bot_Upgraded\n"
     ]
    },
    {
     "name": "stderr",
     "output_type": "stream",
     "text": [
      " 76%|███████▌  | 76/100 [59:30<16:12, 40.51s/it]<UciProtocol (pid=58787)>: stderr >> \u001b[1m\u001b[31m       _\n",
      "<UciProtocol (pid=58787)>: stderr >> |   _ | |\n",
      "<UciProtocol (pid=58787)>: stderr >> |_ |_ |_|\u001b[0m v0.30.0+git.dirty built Jul 22 2023\n",
      "<UciProtocol (pid=58787)>: stderr >> Loading weights file from: ../maia_weights/maia_1100.pb\n",
      "<UciProtocol (pid=58787)>: stderr >> Creating backend [metal]...\n",
      "<UciProtocol (pid=58787)>: stderr >> Initialized metal backend on device Apple M2\n"
     ]
    },
    {
     "name": "stdout",
     "output_type": "stream",
     "text": [
      "Number of steps:  133\n",
      "Episode 76: Reward = -293.9515789473683, Length = 133\n",
      "../maia_weights/maia_1100.pb\n",
      "1\n",
      "../maia_Weights/maia_1300.pb\n",
      "2\n",
      "Bot_Upgraded\n",
      "../maia_Weights/maia_1500.pb\n",
      "3\n",
      "Bot_Upgraded\n"
     ]
    },
    {
     "name": "stderr",
     "output_type": "stream",
     "text": [
      " 77%|███████▋  | 77/100 [1:00:05<14:51, 38.78s/it]<UciProtocol (pid=58791)>: stderr >> \u001b[1m\u001b[31m       _\n",
      "<UciProtocol (pid=58791)>: stderr >> |   _ | |\n",
      "<UciProtocol (pid=58791)>: stderr >> |_ |_ |_|\u001b[0m v0.30.0+git.dirty built Jul 22 2023\n",
      "<UciProtocol (pid=58791)>: stderr >> Loading weights file from: ../maia_weights/maia_1100.pb\n",
      "<UciProtocol (pid=58791)>: stderr >> Creating backend [metal]...\n",
      "<UciProtocol (pid=58791)>: stderr >> Initialized metal backend on device Apple M2\n"
     ]
    },
    {
     "name": "stdout",
     "output_type": "stream",
     "text": [
      "Number of steps:  231\n",
      "Episode 77: Reward = -462.4652631578946, Length = 231\n",
      "../maia_weights/maia_1100.pb\n",
      "1\n",
      "../maia_Weights/maia_1300.pb\n",
      "2\n",
      "Bot_Upgraded\n",
      "../maia_Weights/maia_1500.pb\n",
      "3\n",
      "Bot_Upgraded\n"
     ]
    },
    {
     "name": "stderr",
     "output_type": "stream",
     "text": [
      " 78%|███████▊  | 78/100 [1:00:28<12:29, 34.07s/it]<UciProtocol (pid=58818)>: stderr >> \u001b[1m\u001b[31m       _\n",
      "<UciProtocol (pid=58818)>: stderr >> |   _ | |\n",
      "<UciProtocol (pid=58818)>: stderr >> |_ |_ |_|\u001b[0m v0.30.0+git.dirty built Jul 22 2023\n",
      "<UciProtocol (pid=58818)>: stderr >> Loading weights file from: ../maia_weights/maia_1100.pb\n",
      "<UciProtocol (pid=58818)>: stderr >> Creating backend [metal]...\n",
      "<UciProtocol (pid=58818)>: stderr >> Initialized metal backend on device Apple M2\n"
     ]
    },
    {
     "name": "stdout",
     "output_type": "stream",
     "text": [
      "Number of steps:  145\n",
      "Episode 78: Reward = -313.1615789473681, Length = 145\n",
      "../maia_weights/maia_1100.pb\n",
      "1\n",
      "../maia_Weights/maia_1300.pb\n",
      "2\n",
      "Bot_Upgraded\n",
      "../maia_Weights/maia_1500.pb\n",
      "3\n",
      "Bot_Upgraded\n"
     ]
    },
    {
     "name": "stderr",
     "output_type": "stream",
     "text": [
      " 79%|███████▉  | 79/100 [1:00:42<09:50, 28.12s/it]<UciProtocol (pid=58826)>: stderr >> \u001b[1m\u001b[31m       _\n",
      "<UciProtocol (pid=58826)>: stderr >> |   _ | |\n",
      "<UciProtocol (pid=58826)>: stderr >> |_ |_ |_|\u001b[0m v0.30.0+git.dirty built Jul 22 2023\n",
      "<UciProtocol (pid=58826)>: stderr >> Loading weights file from: ../maia_weights/maia_1100.pb\n",
      "<UciProtocol (pid=58826)>: stderr >> Creating backend [metal]...\n",
      "<UciProtocol (pid=58826)>: stderr >> Initialized metal backend on device Apple M2\n"
     ]
    },
    {
     "name": "stdout",
     "output_type": "stream",
     "text": [
      "Number of steps:  79\n",
      "Episode 79: Reward = -182.80052631578937, Length = 79\n",
      "../maia_weights/maia_1100.pb\n",
      "1\n",
      "../maia_Weights/maia_1300.pb\n",
      "2\n",
      "Bot_Upgraded\n",
      "../maia_Weights/maia_1500.pb\n",
      "3\n",
      "Bot_Upgraded\n"
     ]
    },
    {
     "name": "stderr",
     "output_type": "stream",
     "text": [
      " 80%|████████  | 80/100 [1:01:24<10:42, 32.15s/it]<UciProtocol (pid=58840)>: stderr >> \u001b[1m\u001b[31m       _\n",
      "<UciProtocol (pid=58840)>: stderr >> |   _ | |\n",
      "<UciProtocol (pid=58840)>: stderr >> |_ |_ |_|\u001b[0m v0.30.0+git.dirty built Jul 22 2023\n",
      "<UciProtocol (pid=58840)>: stderr >> Loading weights file from: ../maia_weights/maia_1100.pb\n",
      "<UciProtocol (pid=58840)>: stderr >> Creating backend [metal]...\n",
      "<UciProtocol (pid=58840)>: stderr >> Initialized metal backend on device Apple M2\n"
     ]
    },
    {
     "name": "stdout",
     "output_type": "stream",
     "text": [
      "Number of steps:  283\n",
      "Episode 80: Reward = -586.3884210526321, Length = 283\n",
      "../maia_weights/maia_1100.pb\n",
      "1\n",
      "../maia_Weights/maia_1300.pb\n",
      "2\n",
      "Bot_Upgraded\n",
      "../maia_Weights/maia_1500.pb\n",
      "3\n",
      "Bot_Upgraded\n"
     ]
    },
    {
     "name": "stderr",
     "output_type": "stream",
     "text": [
      " 81%|████████  | 81/100 [1:02:28<13:10, 41.62s/it]<UciProtocol (pid=58851)>: stderr >> \u001b[1m\u001b[31m       _\n",
      "<UciProtocol (pid=58851)>: stderr >> |   _ | |\n",
      "<UciProtocol (pid=58851)>: stderr >> |_ |_ |_|\u001b[0m v0.30.0+git.dirty built Jul 22 2023\n",
      "<UciProtocol (pid=58851)>: stderr >> Loading weights file from: ../maia_weights/maia_1100.pb\n",
      "<UciProtocol (pid=58851)>: stderr >> Creating backend [metal]...\n",
      "<UciProtocol (pid=58851)>: stderr >> Initialized metal backend on device Apple M2\n"
     ]
    },
    {
     "name": "stdout",
     "output_type": "stream",
     "text": [
      "Number of steps:  450\n",
      "Episode 81: Reward = -893.6936842105273, Length = 450\n",
      "../maia_weights/maia_1100.pb\n",
      "1\n",
      "../maia_Weights/maia_1300.pb\n",
      "2\n",
      "Bot_Upgraded\n",
      "../maia_Weights/maia_1500.pb\n",
      "3\n",
      "Bot_Upgraded\n"
     ]
    },
    {
     "name": "stderr",
     "output_type": "stream",
     "text": [
      " 82%|████████▏ | 82/100 [1:02:53<11:03, 36.85s/it]<UciProtocol (pid=58859)>: stderr >> \u001b[1m\u001b[31m       _\n",
      "<UciProtocol (pid=58859)>: stderr >> |   _ | |\n",
      "<UciProtocol (pid=58859)>: stderr >> |_ |_ |_|\u001b[0m v0.30.0+git.dirty built Jul 22 2023\n",
      "<UciProtocol (pid=58859)>: stderr >> Loading weights file from: ../maia_weights/maia_1100.pb\n",
      "<UciProtocol (pid=58859)>: stderr >> Creating backend [metal]...\n",
      "<UciProtocol (pid=58859)>: stderr >> Initialized metal backend on device Apple M2\n"
     ]
    },
    {
     "name": "stdout",
     "output_type": "stream",
     "text": [
      "Number of steps:  166\n",
      "Episode 82: Reward = -348.72631578947346, Length = 166\n",
      "../maia_weights/maia_1100.pb\n",
      "1\n",
      "../maia_Weights/maia_1300.pb\n",
      "2\n",
      "Bot_Upgraded\n",
      "../maia_Weights/maia_1500.pb\n",
      "3\n",
      "Bot_Upgraded\n"
     ]
    },
    {
     "name": "stderr",
     "output_type": "stream",
     "text": [
      " 83%|████████▎ | 83/100 [1:03:19<09:29, 33.52s/it]"
     ]
    },
    {
     "name": "stdout",
     "output_type": "stream",
     "text": [
      "Number of steps:  162\n",
      "Episode 83: Reward = -346.67789473684206, Length = 162\n",
      "../maia_weights/maia_1100.pb\n",
      "1\n"
     ]
    },
    {
     "name": "stderr",
     "output_type": "stream",
     "text": [
      "<UciProtocol (pid=58862)>: stderr >> \u001b[1m\u001b[31m       _\n",
      "<UciProtocol (pid=58862)>: stderr >> |   _ | |\n",
      "<UciProtocol (pid=58862)>: stderr >> |_ |_ |_|\u001b[0m v0.30.0+git.dirty built Jul 22 2023\n",
      "<UciProtocol (pid=58862)>: stderr >> Loading weights file from: ../maia_weights/maia_1100.pb\n",
      "<UciProtocol (pid=58862)>: stderr >> Creating backend [metal]...\n",
      "<UciProtocol (pid=58862)>: stderr >> Initialized metal backend on device Apple M2\n"
     ]
    },
    {
     "name": "stdout",
     "output_type": "stream",
     "text": [
      "../maia_Weights/maia_1300.pb\n",
      "2\n",
      "Bot_Upgraded\n",
      "../maia_Weights/maia_1500.pb\n",
      "3\n",
      "Bot_Upgraded\n"
     ]
    },
    {
     "name": "stderr",
     "output_type": "stream",
     "text": [
      " 84%|████████▍ | 84/100 [1:03:51<08:47, 32.99s/it]<UciProtocol (pid=58870)>: stderr >> \u001b[1m\u001b[31m       _\n",
      "<UciProtocol (pid=58870)>: stderr >> |   _ | |\n",
      "<UciProtocol (pid=58870)>: stderr >> |_ |_ |_|\u001b[0m v0.30.0+git.dirty built Jul 22 2023\n",
      "<UciProtocol (pid=58870)>: stderr >> Loading weights file from: ../maia_weights/maia_1100.pb\n",
      "<UciProtocol (pid=58870)>: stderr >> Creating backend [metal]...\n",
      "<UciProtocol (pid=58870)>: stderr >> Initialized metal backend on device Apple M2\n"
     ]
    },
    {
     "name": "stdout",
     "output_type": "stream",
     "text": [
      "Number of steps:  195\n",
      "Episode 84: Reward = -396.6489473684211, Length = 195\n",
      "../maia_weights/maia_1100.pb\n",
      "1\n",
      "../maia_Weights/maia_1300.pb\n",
      "2\n",
      "Bot_Upgraded\n",
      "../maia_Weights/maia_1500.pb\n",
      "3\n",
      "Bot_Upgraded\n"
     ]
    },
    {
     "name": "stderr",
     "output_type": "stream",
     "text": [
      " 85%|████████▌ | 85/100 [1:04:18<07:51, 31.40s/it]<UciProtocol (pid=58883)>: stderr >> \u001b[1m\u001b[31m       _\n",
      "<UciProtocol (pid=58883)>: stderr >> |   _ | |\n",
      "<UciProtocol (pid=58883)>: stderr >> |_ |_ |_|\u001b[0m v0.30.0+git.dirty built Jul 22 2023\n",
      "<UciProtocol (pid=58883)>: stderr >> Loading weights file from: ../maia_weights/maia_1100.pb\n",
      "<UciProtocol (pid=58883)>: stderr >> Creating backend [metal]...\n",
      "<UciProtocol (pid=58883)>: stderr >> Initialized metal backend on device Apple M2\n"
     ]
    },
    {
     "name": "stdout",
     "output_type": "stream",
     "text": [
      "Number of steps:  174\n",
      "Episode 85: Reward = -373.33105263157887, Length = 174\n",
      "../maia_weights/maia_1100.pb\n",
      "1\n",
      "../maia_Weights/maia_1300.pb\n",
      "2\n",
      "Bot_Upgraded\n",
      "../maia_Weights/maia_1500.pb\n",
      "3\n",
      "Bot_Upgraded\n"
     ]
    },
    {
     "name": "stderr",
     "output_type": "stream",
     "text": [
      " 86%|████████▌ | 86/100 [1:04:58<07:54, 33.87s/it]<UciProtocol (pid=58885)>: stderr >> \u001b[1m\u001b[31m       _\n",
      "<UciProtocol (pid=58885)>: stderr >> |   _ | |\n",
      "<UciProtocol (pid=58885)>: stderr >> |_ |_ |_|\u001b[0m v0.30.0+git.dirty built Jul 22 2023\n",
      "<UciProtocol (pid=58885)>: stderr >> Loading weights file from: ../maia_weights/maia_1100.pb\n",
      "<UciProtocol (pid=58885)>: stderr >> Creating backend [metal]...\n",
      "<UciProtocol (pid=58885)>: stderr >> Initialized metal backend on device Apple M2\n"
     ]
    },
    {
     "name": "stdout",
     "output_type": "stream",
     "text": [
      "Number of steps:  267\n",
      "Episode 86: Reward = -547.134736842106, Length = 267\n",
      "../maia_weights/maia_1100.pb\n",
      "1\n",
      "../maia_Weights/maia_1300.pb\n",
      "2\n",
      "Bot_Upgraded\n",
      "../maia_Weights/maia_1500.pb\n",
      "3\n",
      "Bot_Upgraded\n"
     ]
    },
    {
     "name": "stderr",
     "output_type": "stream",
     "text": [
      " 87%|████████▋ | 87/100 [1:06:14<10:05, 46.54s/it]<UciProtocol (pid=58916)>: stderr >> \u001b[1m\u001b[31m       _\n",
      "<UciProtocol (pid=58916)>: stderr >> |   _ | |\n",
      "<UciProtocol (pid=58916)>: stderr >> |_ |_ |_|\u001b[0m v0.30.0+git.dirty built Jul 22 2023\n",
      "<UciProtocol (pid=58916)>: stderr >> Loading weights file from: ../maia_weights/maia_1100.pb\n",
      "<UciProtocol (pid=58916)>: stderr >> Creating backend [metal]...\n",
      "<UciProtocol (pid=58916)>: stderr >> Initialized metal backend on device Apple M2\n"
     ]
    },
    {
     "name": "stdout",
     "output_type": "stream",
     "text": [
      "Number of steps:  545\n",
      "Episode 87: Reward = -1072.8368421052626, Length = 545\n",
      "../maia_weights/maia_1100.pb\n",
      "1\n",
      "../maia_Weights/maia_1300.pb\n",
      "2\n",
      "Bot_Upgraded\n",
      "../maia_Weights/maia_1500.pb\n",
      "3\n",
      "Bot_Upgraded\n"
     ]
    },
    {
     "name": "stderr",
     "output_type": "stream",
     "text": [
      " 88%|████████▊ | 88/100 [1:06:34<07:44, 38.67s/it]<UciProtocol (pid=58924)>: stderr >> \u001b[1m\u001b[31m       _\n",
      "<UciProtocol (pid=58924)>: stderr >> |   _ | |\n",
      "<UciProtocol (pid=58924)>: stderr >> |_ |_ |_|\u001b[0m v0.30.0+git.dirty built Jul 22 2023\n",
      "<UciProtocol (pid=58924)>: stderr >> Loading weights file from: ../maia_weights/maia_1100.pb\n",
      "<UciProtocol (pid=58924)>: stderr >> Creating backend [metal]...\n",
      "<UciProtocol (pid=58924)>: stderr >> Initialized metal backend on device Apple M2\n"
     ]
    },
    {
     "name": "stdout",
     "output_type": "stream",
     "text": [
      "Number of steps:  130\n",
      "Episode 88: Reward = -269.1052631578947, Length = 130\n",
      "../maia_weights/maia_1100.pb\n",
      "1\n",
      "../maia_Weights/maia_1300.pb\n",
      "2\n",
      "Bot_Upgraded\n",
      "../maia_Weights/maia_1500.pb\n",
      "3\n",
      "Bot_Upgraded\n"
     ]
    },
    {
     "name": "stderr",
     "output_type": "stream",
     "text": [
      " 89%|████████▉ | 89/100 [1:06:52<05:56, 32.42s/it]<UciProtocol (pid=58927)>: stderr >> \u001b[1m\u001b[31m       _\n",
      "<UciProtocol (pid=58927)>: stderr >> |   _ | |\n",
      "<UciProtocol (pid=58927)>: stderr >> |_ |_ |_|\u001b[0m v0.30.0+git.dirty built Jul 22 2023\n",
      "<UciProtocol (pid=58927)>: stderr >> Loading weights file from: ../maia_weights/maia_1100.pb\n",
      "<UciProtocol (pid=58927)>: stderr >> Creating backend [metal]...\n",
      "<UciProtocol (pid=58927)>: stderr >> Initialized metal backend on device Apple M2\n"
     ]
    },
    {
     "name": "stdout",
     "output_type": "stream",
     "text": [
      "Number of steps:  105\n",
      "Episode 89: Reward = -229.96210526315804, Length = 105\n",
      "../maia_weights/maia_1100.pb\n",
      "1\n",
      "../maia_Weights/maia_1300.pb\n",
      "2\n",
      "Bot_Upgraded\n",
      "../maia_Weights/maia_1500.pb\n",
      "3\n",
      "Bot_Upgraded\n"
     ]
    },
    {
     "name": "stderr",
     "output_type": "stream",
     "text": [
      " 90%|█████████ | 90/100 [1:07:06<04:27, 26.79s/it]<UciProtocol (pid=58935)>: stderr >> \u001b[1m\u001b[31m       _\n",
      "<UciProtocol (pid=58935)>: stderr >> |   _ | |\n",
      "<UciProtocol (pid=58935)>: stderr >> |_ |_ |_|\u001b[0m v0.30.0+git.dirty built Jul 22 2023\n",
      "<UciProtocol (pid=58935)>: stderr >> Loading weights file from: ../maia_weights/maia_1100.pb\n",
      "<UciProtocol (pid=58935)>: stderr >> Creating backend [metal]...\n",
      "<UciProtocol (pid=58935)>: stderr >> Initialized metal backend on device Apple M2\n"
     ]
    },
    {
     "name": "stdout",
     "output_type": "stream",
     "text": [
      "Number of steps:  48\n",
      "Episode 90: Reward = -119.68210526315784, Length = 48\n",
      "../maia_weights/maia_1100.pb\n",
      "1\n",
      "../maia_Weights/maia_1300.pb\n",
      "2\n",
      "Bot_Upgraded\n",
      "../maia_Weights/maia_1500.pb\n",
      "3\n",
      "Bot_Upgraded\n"
     ]
    },
    {
     "name": "stderr",
     "output_type": "stream",
     "text": [
      " 91%|█████████ | 91/100 [1:07:43<04:29, 29.89s/it]<UciProtocol (pid=58937)>: stderr >> \u001b[1m\u001b[31m       _\n",
      "<UciProtocol (pid=58937)>: stderr >> |   _ | |\n",
      "<UciProtocol (pid=58937)>: stderr >> |_ |_ |_|\u001b[0m v0.30.0+git.dirty built Jul 22 2023\n",
      "<UciProtocol (pid=58937)>: stderr >> Loading weights file from: ../maia_weights/maia_1100.pb\n",
      "<UciProtocol (pid=58937)>: stderr >> Creating backend [metal]...\n",
      "<UciProtocol (pid=58937)>: stderr >> Initialized metal backend on device Apple M2\n"
     ]
    },
    {
     "name": "stdout",
     "output_type": "stream",
     "text": [
      "Number of steps:  245\n",
      "Episode 91: Reward = -512.9352631578951, Length = 245\n",
      "../maia_weights/maia_1100.pb\n",
      "1\n",
      "../maia_Weights/maia_1300.pb\n",
      "2\n",
      "Bot_Upgraded\n",
      "../maia_Weights/maia_1500.pb\n",
      "3\n",
      "Bot_Upgraded\n"
     ]
    },
    {
     "name": "stderr",
     "output_type": "stream",
     "text": [
      " 92%|█████████▏| 92/100 [1:08:17<04:09, 31.19s/it]<UciProtocol (pid=58945)>: stderr >> \u001b[1m\u001b[31m       _\n",
      "<UciProtocol (pid=58945)>: stderr >> |   _ | |\n",
      "<UciProtocol (pid=58945)>: stderr >> |_ |_ |_|\u001b[0m v0.30.0+git.dirty built Jul 22 2023\n",
      "<UciProtocol (pid=58945)>: stderr >> Loading weights file from: ../maia_weights/maia_1100.pb\n",
      "<UciProtocol (pid=58945)>: stderr >> Creating backend [metal]...\n",
      "<UciProtocol (pid=58945)>: stderr >> Initialized metal backend on device Apple M2\n"
     ]
    },
    {
     "name": "stdout",
     "output_type": "stream",
     "text": [
      "Number of steps:  233\n",
      "Episode 92: Reward = -490.0800000000002, Length = 233\n",
      "../maia_weights/maia_1100.pb\n",
      "1\n",
      "../maia_Weights/maia_1300.pb\n",
      "2\n",
      "Bot_Upgraded\n",
      "../maia_Weights/maia_1500.pb\n",
      "3\n",
      "Bot_Upgraded\n"
     ]
    },
    {
     "name": "stderr",
     "output_type": "stream",
     "text": [
      " 93%|█████████▎| 93/100 [1:09:21<04:45, 40.83s/it]<UciProtocol (pid=58954)>: stderr >> \u001b[1m\u001b[31m       _\n",
      "<UciProtocol (pid=58954)>: stderr >> |   _ | |\n",
      "<UciProtocol (pid=58954)>: stderr >> |_ |_ |_|\u001b[0m v0.30.0+git.dirty built Jul 22 2023\n",
      "<UciProtocol (pid=58954)>: stderr >> Loading weights file from: ../maia_weights/maia_1100.pb\n",
      "<UciProtocol (pid=58954)>: stderr >> Creating backend [metal]...\n",
      "<UciProtocol (pid=58954)>: stderr >> Initialized metal backend on device Apple M2\n"
     ]
    },
    {
     "name": "stdout",
     "output_type": "stream",
     "text": [
      "Number of steps:  449\n",
      "Episode 93: Reward = -902.1299999999999, Length = 449\n",
      "../maia_weights/maia_1100.pb\n",
      "1\n",
      "../maia_Weights/maia_1300.pb\n",
      "2\n",
      "Bot_Upgraded\n",
      "../maia_Weights/maia_1500.pb\n",
      "3\n",
      "Bot_Upgraded\n"
     ]
    },
    {
     "name": "stderr",
     "output_type": "stream",
     "text": [
      " 94%|█████████▍| 94/100 [1:10:13<04:25, 44.21s/it]<UciProtocol (pid=58967)>: stderr >> \u001b[1m\u001b[31m       _\n",
      "<UciProtocol (pid=58967)>: stderr >> |   _ | |\n",
      "<UciProtocol (pid=58967)>: stderr >> |_ |_ |_|\u001b[0m v0.30.0+git.dirty built Jul 22 2023\n",
      "<UciProtocol (pid=58967)>: stderr >> Loading weights file from: ../maia_weights/maia_1100.pb\n",
      "<UciProtocol (pid=58967)>: stderr >> Creating backend [metal]...\n",
      "<UciProtocol (pid=58967)>: stderr >> Initialized metal backend on device Apple M2\n"
     ]
    },
    {
     "name": "stdout",
     "output_type": "stream",
     "text": [
      "Number of steps:  361\n",
      "Episode 94: Reward = -736.1700000000005, Length = 361\n",
      "../maia_weights/maia_1100.pb\n",
      "1\n",
      "../maia_Weights/maia_1300.pb\n",
      "2\n",
      "Bot_Upgraded\n",
      "../maia_Weights/maia_1500.pb\n",
      "3\n",
      "Bot_Upgraded\n"
     ]
    },
    {
     "name": "stderr",
     "output_type": "stream",
     "text": [
      " 95%|█████████▌| 95/100 [1:10:28<02:57, 35.46s/it]<UciProtocol (pid=58975)>: stderr >> \u001b[1m\u001b[31m       _\n",
      "<UciProtocol (pid=58975)>: stderr >> |   _ | |\n",
      "<UciProtocol (pid=58975)>: stderr >> |_ |_ |_|\u001b[0m v0.30.0+git.dirty built Jul 22 2023\n",
      "<UciProtocol (pid=58975)>: stderr >> Loading weights file from: ../maia_weights/maia_1100.pb\n",
      "<UciProtocol (pid=58975)>: stderr >> Creating backend [metal]...\n",
      "<UciProtocol (pid=58975)>: stderr >> Initialized metal backend on device Apple M2\n"
     ]
    },
    {
     "name": "stdout",
     "output_type": "stream",
     "text": [
      "Number of steps:  82\n",
      "Episode 95: Reward = -186.25631578947375, Length = 82\n",
      "../maia_weights/maia_1100.pb\n",
      "1\n",
      "../maia_Weights/maia_1300.pb\n",
      "2\n",
      "Bot_Upgraded\n",
      "../maia_Weights/maia_1500.pb\n",
      "3\n",
      "Bot_Upgraded\n"
     ]
    },
    {
     "name": "stderr",
     "output_type": "stream",
     "text": [
      " 96%|█████████▌| 96/100 [1:10:59<02:16, 34.05s/it]<UciProtocol (pid=58977)>: stderr >> \u001b[1m\u001b[31m       _\n",
      "<UciProtocol (pid=58977)>: stderr >> |   _ | |\n",
      "<UciProtocol (pid=58977)>: stderr >> |_ |_ |_|\u001b[0m v0.30.0+git.dirty built Jul 22 2023\n",
      "<UciProtocol (pid=58977)>: stderr >> Loading weights file from: ../maia_weights/maia_1100.pb\n",
      "<UciProtocol (pid=58977)>: stderr >> Creating backend [metal]...\n",
      "<UciProtocol (pid=58977)>: stderr >> Initialized metal backend on device Apple M2\n"
     ]
    },
    {
     "name": "stdout",
     "output_type": "stream",
     "text": [
      "Number of steps:  207\n",
      "Episode 96: Reward = -428.20842105263193, Length = 207\n",
      "../maia_weights/maia_1100.pb\n",
      "1\n",
      "../maia_Weights/maia_1300.pb\n",
      "2\n",
      "Bot_Upgraded\n",
      "../maia_Weights/maia_1500.pb\n",
      "3\n",
      "Bot_Upgraded\n"
     ]
    },
    {
     "name": "stderr",
     "output_type": "stream",
     "text": [
      " 97%|█████████▋| 97/100 [1:11:20<01:31, 30.42s/it]<UciProtocol (pid=59008)>: stderr >> \u001b[1m\u001b[31m       _\n",
      "<UciProtocol (pid=59008)>: stderr >> |   _ | |\n",
      "<UciProtocol (pid=59008)>: stderr >> |_ |_ |_|\u001b[0m v0.30.0+git.dirty built Jul 22 2023\n",
      "<UciProtocol (pid=59008)>: stderr >> Loading weights file from: ../maia_weights/maia_1100.pb\n",
      "<UciProtocol (pid=59008)>: stderr >> Creating backend [metal]...\n",
      "<UciProtocol (pid=59008)>: stderr >> Initialized metal backend on device Apple M2\n"
     ]
    },
    {
     "name": "stdout",
     "output_type": "stream",
     "text": [
      "Number of steps:  135\n",
      "Episode 97: Reward = -285.3257894736843, Length = 135\n",
      "../maia_weights/maia_1100.pb\n",
      "1\n",
      "../maia_Weights/maia_1300.pb\n",
      "2\n",
      "Bot_Upgraded\n",
      "../maia_Weights/maia_1500.pb\n",
      "3\n",
      "Bot_Upgraded\n"
     ]
    },
    {
     "name": "stderr",
     "output_type": "stream",
     "text": [
      " 98%|█████████▊| 98/100 [1:12:09<01:11, 35.80s/it]<UciProtocol (pid=59011)>: stderr >> \u001b[1m\u001b[31m       _\n",
      "<UciProtocol (pid=59011)>: stderr >> |   _ | |\n",
      "<UciProtocol (pid=59011)>: stderr >> |_ |_ |_|\u001b[0m v0.30.0+git.dirty built Jul 22 2023\n",
      "<UciProtocol (pid=59011)>: stderr >> Loading weights file from: ../maia_weights/maia_1100.pb\n",
      "<UciProtocol (pid=59011)>: stderr >> Creating backend [metal]...\n",
      "<UciProtocol (pid=59011)>: stderr >> Initialized metal backend on device Apple M2\n"
     ]
    },
    {
     "name": "stdout",
     "output_type": "stream",
     "text": [
      "Number of steps:  325\n",
      "Episode 98: Reward = -679.9552631578947, Length = 325\n",
      "../maia_weights/maia_1100.pb\n",
      "1\n",
      "../maia_Weights/maia_1300.pb\n",
      "2\n",
      "Bot_Upgraded\n",
      "../maia_Weights/maia_1500.pb\n",
      "3\n",
      "Bot_Upgraded\n"
     ]
    },
    {
     "name": "stderr",
     "output_type": "stream",
     "text": [
      " 99%|█████████▉| 99/100 [1:12:24<00:29, 29.68s/it]<UciProtocol (pid=59019)>: stderr >> \u001b[1m\u001b[31m       _\n",
      "<UciProtocol (pid=59019)>: stderr >> |   _ | |\n",
      "<UciProtocol (pid=59019)>: stderr >> |_ |_ |_|\u001b[0m v0.30.0+git.dirty built Jul 22 2023\n",
      "<UciProtocol (pid=59019)>: stderr >> Loading weights file from: ../maia_weights/maia_1100.pb\n",
      "<UciProtocol (pid=59019)>: stderr >> Creating backend [metal]...\n",
      "<UciProtocol (pid=59019)>: stderr >> Initialized metal backend on device Apple M2\n"
     ]
    },
    {
     "name": "stdout",
     "output_type": "stream",
     "text": [
      "Number of steps:  89\n",
      "Episode 99: Reward = -203.6047368421052, Length = 89\n",
      "../maia_weights/maia_1100.pb\n",
      "1\n",
      "../maia_Weights/maia_1300.pb\n",
      "2\n",
      "Bot_Upgraded\n",
      "../maia_Weights/maia_1500.pb\n",
      "3\n",
      "Bot_Upgraded\n"
     ]
    },
    {
     "name": "stderr",
     "output_type": "stream",
     "text": [
      "100%|██████████| 100/100 [1:12:35<00:00, 43.56s/it]"
     ]
    },
    {
     "name": "stdout",
     "output_type": "stream",
     "text": [
      "Number of steps:  50\n",
      "Episode 100: Reward = -120.92789473684208, Length = 50\n"
     ]
    },
    {
     "name": "stderr",
     "output_type": "stream",
     "text": [
      "\n"
     ]
    }
   ],
   "source": [
    "# Load custom environment we created \n",
    "env = gym.make('adaptive_tutor/PuzzleTutorEnv-v0', render_mode=None) \n",
    "\n",
    "# Set to initial state\n",
    "env.reset()\n",
    "\n",
    "episode_rewards = []\n",
    "episode_lengths = []\n",
    "\n",
    "action_rewards = {action: 0 for action in action_space}\n",
    "\n",
    "for episode in tqdm(range(n_episodes)):\n",
    "    obs, info = env.reset()\n",
    "    done = False\n",
    "    terminated = False\n",
    "    episode_reward = 0\n",
    "    \n",
    "    # Play one episode\n",
    "    step_counter = 0\n",
    "    while not terminated:\n",
    "        step_counter+=1\n",
    "        action = agent.get_action(obs)\n",
    "        next_obs, reward, terminated, truncated, info = env.step(action)\n",
    "        #print(action_space[action], reward)\n",
    "        # Update the agent\n",
    "        agent.update(obs, action, reward, terminated, next_obs)\n",
    "        episode_reward += reward\n",
    "        #print(action_space[action])\n",
    "        # Update the current observation, and whether the environment is done\n",
    "        done = terminated or truncated\n",
    "        obs = next_obs\n",
    "        action_rewards[action_space[action]] += reward\n",
    "    \n",
    "    print(\"Number of steps: \", step_counter)\n",
    "\n",
    "    episode_rewards.append(episode_reward)\n",
    "    episode_lengths.append(step_counter)\n",
    "    print(f\"Episode {episode + 1}: Reward = {episode_reward}, Length = {step_counter}\")\n",
    "\n",
    "\n",
    "    agent.decay_epsilon()"
   ]
  },
  {
   "cell_type": "code",
   "execution_count": null,
   "metadata": {},
   "outputs": [],
   "source": [
    "import numpy as np\n",
    "a = np.load('adaptive_tutor/action_space.npy', allow_pickle=True)"
   ]
  },
  {
   "cell_type": "code",
   "execution_count": 20,
   "metadata": {},
   "outputs": [
    {
     "data": {
      "text/plain": [
       "[865,\n",
       " 579,\n",
       " 408,\n",
       " 365,\n",
       " 515,\n",
       " 254,\n",
       " 247,\n",
       " 327,\n",
       " 469,\n",
       " 1211,\n",
       " 449,\n",
       " 419,\n",
       " 459,\n",
       " 549,\n",
       " 576,\n",
       " 186,\n",
       " 753,\n",
       " 505,\n",
       " 540,\n",
       " 461,\n",
       " 132,\n",
       " 1104,\n",
       " 671,\n",
       " 675,\n",
       " 192,\n",
       " 476,\n",
       " 160,\n",
       " 237,\n",
       " 260,\n",
       " 178,\n",
       " 142,\n",
       " 305,\n",
       " 242,\n",
       " 241,\n",
       " 169,\n",
       " 166,\n",
       " 151,\n",
       " 266,\n",
       " 123,\n",
       " 628,\n",
       " 81,\n",
       " 239,\n",
       " 468,\n",
       " 100,\n",
       " 120,\n",
       " 117,\n",
       " 351,\n",
       " 171,\n",
       " 172,\n",
       " 291,\n",
       " 206,\n",
       " 160,\n",
       " 101,\n",
       " 207,\n",
       " 183,\n",
       " 607,\n",
       " 59,\n",
       " 368,\n",
       " 180,\n",
       " 239,\n",
       " 133,\n",
       " 298,\n",
       " 133,\n",
       " 120,\n",
       " 139,\n",
       " 217,\n",
       " 824,\n",
       " 122,\n",
       " 117,\n",
       " 136,\n",
       " 155,\n",
       " 106,\n",
       " 515,\n",
       " 593,\n",
       " 247,\n",
       " 133,\n",
       " 231,\n",
       " 145,\n",
       " 79,\n",
       " 283,\n",
       " 450,\n",
       " 166,\n",
       " 162,\n",
       " 195,\n",
       " 174,\n",
       " 267,\n",
       " 545,\n",
       " 130,\n",
       " 105,\n",
       " 48,\n",
       " 245,\n",
       " 233,\n",
       " 449,\n",
       " 361,\n",
       " 82,\n",
       " 207,\n",
       " 135,\n",
       " 325,\n",
       " 89,\n",
       " 50]"
      ]
     },
     "execution_count": 20,
     "metadata": {},
     "output_type": "execute_result"
    }
   ],
   "source": [
    "episode_lengths.reverse()\n",
    "episode_lengths"
   ]
  },
  {
   "cell_type": "code",
   "execution_count": 21,
   "metadata": {},
   "outputs": [
    {
     "data": {
      "text/plain": [
       "[<matplotlib.lines.Line2D at 0x154930be0>]"
      ]
     },
     "execution_count": 21,
     "metadata": {},
     "output_type": "execute_result"
    },
    {
     "data": {
      "image/png": "[encoded data removed]",
      "text/plain": [
       "<Figure size 640x480 with 1 Axes>"
      ]
     },
     "metadata": {},
     "output_type": "display_data"
    }
   ],
   "source": [
    "import matplotlib.pyplot as plt \n",
    "plt.plot(episode_lengths)"
   ]
  },
  {
   "cell_type": "code",
   "execution_count": 14,
   "metadata": {},
   "outputs": [
    {
     "data": {
      "text/plain": [
       "[-120.92789473684208,\n",
       " -203.6047368421052,\n",
       " -679.9552631578947,\n",
       " -285.3257894736843,\n",
       " -428.20842105263193,\n",
       " -186.25631578947375,\n",
       " -736.1700000000005,\n",
       " -902.1299999999999,\n",
       " -490.0800000000002,\n",
       " -512.9352631578951,\n",
       " -119.68210526315784,\n",
       " -229.96210526315804,\n",
       " -269.1052631578947,\n",
       " -1072.8368421052626,\n",
       " -547.134736842106,\n",
       " -373.33105263157887,\n",
       " -396.6489473684211,\n",
       " -346.67789473684206,\n",
       " -348.72631578947346,\n",
       " -893.6936842105273,\n",
       " -586.3884210526321,\n",
       " -182.80052631578937,\n",
       " -313.1615789473681,\n",
       " -462.4652631578946,\n",
       " -293.9515789473683,\n",
       " -505.45052631579057,\n",
       " -1187.9184210526294,\n",
       " -1053.0831578947339,\n",
       " -222.61526315789462,\n",
       " -335.97105263157897,\n",
       " -293.47105263157897,\n",
       " -241.46000000000004,\n",
       " -268.3036842105264,\n",
       " -1651.1278947368464,\n",
       " -459.21631578947404,\n",
       " -293.22789473684225,\n",
       " -249.17526315789485,\n",
       " -327.7652631578949,\n",
       " -599.6847368421056,\n",
       " -297.3615789473682,\n",
       " -485.50789473684176,\n",
       " -361.32894736842076,\n",
       " -752.2494736842112,\n",
       " -134.49105263157887,\n",
       " -1211.3199999999956,\n",
       " -375.09000000000043,\n",
       " -419.18842105263195,\n",
       " -210.36894736842117,\n",
       " -330.2047368421058,\n",
       " -422.7168421052629,\n",
       " -590.9489473684205,\n",
       " -358.1631578947366,\n",
       " -352.49894736842106,\n",
       " -710.2347368421059,\n",
       " -241.93210526315787,\n",
       " -261.93526315789484,\n",
       " -228.2084210526317,\n",
       " -969.195263157896,\n",
       " -497.08157894736894,\n",
       " -183.58526315789473,\n",
       " -1224.6252631578955,\n",
       " -298.01736842105294,\n",
       " -545.0478947368422,\n",
       " -322.65315789473686,\n",
       " -349.9100000000002,\n",
       " -359.1589473684207,\n",
       " -492.063157894737,\n",
       " -490.4336842105262,\n",
       " -603.7805263157885,\n",
       " -290.986842105263,\n",
       " -353.56631578947315,\n",
       " -547.0952631578947,\n",
       " -478.05263157894717,\n",
       " -337.205263157895,\n",
       " -1016.0247368421047,\n",
       " -397.49052631578905,\n",
       " -1342.0047368421076,\n",
       " -1348.855263157893,\n",
       " -2182.4152631579,\n",
       " -280.9994736842108,\n",
       " -940.2047368421041,\n",
       " -1057.7078947368414,\n",
       " -1031.7052631578954,\n",
       " -1483.1100000000004,\n",
       " -382.92157894736823,\n",
       " -1160.6289473684237,\n",
       " -1093.449999999998,\n",
       " -939.5694736842102,\n",
       " -854.6389473684211,\n",
       " -887.5000000000006,\n",
       " -2375.5963157894707,\n",
       " -934.407368421051,\n",
       " -659.334210526315,\n",
       " -513.8699999999998,\n",
       " -521.7163157894739,\n",
       " -1023.8273684210511,\n",
       " -744.6057894736842,\n",
       " -831.75947368421,\n",
       " -1182.0215789473682,\n",
       " -1704.0763157894753]"
      ]
     },
     "execution_count": 14,
     "metadata": {},
     "output_type": "execute_result"
    }
   ],
   "source": [
    "episode_rewards"
   ]
  },
  {
   "cell_type": "code",
   "execution_count": null,
   "metadata": {},
   "outputs": [],
   "source": []
  }
 ],
 "metadata": {
  "kernelspec": {
   "display_name": "rl",
   "language": "python",
   "name": "python3"
  },
  "language_info": {
   "codemirror_mode": {
    "name": "ipython",
    "version": 3
   },
   "file_extension": ".py",
   "mimetype": "text/x-python",
   "name": "python",
   "nbconvert_exporter": "python",
   "pygments_lexer": "ipython3",
   "version": "3.9.19"
  },
  "orig_nbformat": 4
 },
 "nbformat": 4,
 "nbformat_minor": 2
}
